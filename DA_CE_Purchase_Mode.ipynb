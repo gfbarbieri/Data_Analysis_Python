{
 "cells": [
  {
   "cell_type": "markdown",
   "metadata": {},
   "source": [
    "# Data Analysis: CE Survey Data and Purchase Mode\n",
    "\n",
    "Starting in 2017, the publicly available CE data began including a column indicating whether the purchase was made online, in-person or through other methods. In this post, I want to compile the results, add descriptions, and summarize with very simple proportions.\n",
    "\n",
    "The PUMD from the CE Interview can be found <a href=\"https://www.bls.gov/cex/pumd_data.htm\">here</a> and I downloaded the 2017 data as SAS files. All available formats include data for the calendar quarters 2017Q1 - 2018Q1, but 2017Q1 will not be needed since the purchase mode data was not collected then."
   ]
  },
  {
   "cell_type": "markdown",
   "metadata": {},
   "source": [
    "#### Create Environment\n",
    "\n",
    "We will need Pandas and Numpy, but we also need Plotly libraries for creating interactive data tables. Plotting with Plotly can be quite involved, but I personally enjoy it as a plotting module. Lastly, have started printing the version number of the libraries since I ran into trouble reproducing earlier posts due to updates."
   ]
  },
  {
   "cell_type": "code",
   "execution_count": 1,
   "metadata": {},
   "outputs": [
    {
     "data": {
      "text/html": [
       "<script type=\"text/javascript\">window.PlotlyConfig = {MathJaxConfig: 'local'};</script><script type=\"text/javascript\">if (window.MathJax) {MathJax.Hub.Config({SVG: {font: \"STIX-Web\"}});}</script><script>requirejs.config({paths: { 'plotly': ['https://cdn.plot.ly/plotly-latest.min']},});if(!window._Plotly) {require(['plotly'],function(plotly) {window._Plotly=plotly;});}</script>"
      ],
      "text/vnd.plotly.v1+html": [
       "<script type=\"text/javascript\">window.PlotlyConfig = {MathJaxConfig: 'local'};</script><script type=\"text/javascript\">if (window.MathJax) {MathJax.Hub.Config({SVG: {font: \"STIX-Web\"}});}</script><script>requirejs.config({paths: { 'plotly': ['https://cdn.plot.ly/plotly-latest.min']},});if(!window._Plotly) {require(['plotly'],function(plotly) {window._Plotly=plotly;});}</script>"
      ]
     },
     "metadata": {},
     "output_type": "display_data"
    },
    {
     "name": "stdout",
     "output_type": "stream",
     "text": [
      "Plotly Version: 3.6.1\n",
      "Pandas Version: 0.24.1\n",
      "Numpy Version: 1.15.4\n"
     ]
    }
   ],
   "source": [
    "import pandas as pd\n",
    "import numpy as np\n",
    "import plotly\n",
    "from plotly.offline import download_plotlyjs, init_notebook_mode, plot, iplot\n",
    "import plotly.graph_objs as go\n",
    "\n",
    "init_notebook_mode(connected=True)\n",
    "\n",
    "print('Plotly Version: ' + plotly.__version__)\n",
    "print('Pandas Version: ' + pd.__version__)\n",
    "print('Numpy Version: ' + np.__version__)"
   ]
  },
  {
   "cell_type": "markdown",
   "metadata": {},
   "source": [
    "### Part 1: Compile CE Data Files\n",
    "\n",
    "From the looks of the <a href=\"https://www.bls.gov/cex/pumd_doc.htm\">PUMD documentation</a> and the spreadsheet <a href=\"https://www.bls.gov/cex/pumd/ce_pumd_interview_diary_dictionary.xlsx\">Dictionary for Interview and Diary Survey</a>, questions about purchase mode were included in 8 CE expenditure sections--I will only review 5 of the 8 in this post.\n",
    "\n",
    "#### Importing CE Expenditure Section Files\n",
    "Below is a function <code>import_ce_exp</code> that imports CE expenditure files. The function takes exactly one argument <code>exp_file</code> that is represents the CE expenditure file name. Using <code>exp_file</code>, the file path of the expenditure table is built and stored as <code>exp_file_name</code>. Lastly, the expenditure table is imported using the Pandas library."
   ]
  },
  {
   "cell_type": "code",
   "execution_count": 2,
   "metadata": {},
   "outputs": [],
   "source": [
    "def import_ce_exp(exp_file):\n",
    "    exp_file_name = \"C:/Users/Barbieri/Desktop/Research and Education/CE Micro Data/expn17/\" + str(exp_file) + \"17.sas7bdat\"\n",
    "    \n",
    "    exp_df = pd.read_sas(exp_file_name, encoding='latin-1')\n",
    "    \n",
    "    return exp_df"
   ]
  },
  {
   "cell_type": "markdown",
   "metadata": {},
   "source": [
    "Below we use the function <code>import_ce_exp</code> to import each CE expenditure table.\n",
    "\n",
    "We create a list called <code>exp_names</code> where each element is the name of a CE expenditure file. This list will be used throughout the notebook. Then we create a dictionary called <code>dict_df_exp</code> where each element in the dictionary will point to a CE expenditure file, imported as a Pandas DataFrame. Each element in the list <code>exp_names</code> is passed both as the argument for the <code>import_ce_exp</code> function, as well as the key name for each DataFrame in the dictionary <code>dict_df_exp</code>."
   ]
  },
  {
   "cell_type": "code",
   "execution_count": 3,
   "metadata": {},
   "outputs": [
    {
     "data": {
      "text/plain": [
       "dict_keys(['apb', 'mis', 'eqb', 'ovb', 'sub'])"
      ]
     },
     "execution_count": 3,
     "metadata": {},
     "output_type": "execute_result"
    }
   ],
   "source": [
    "exp_names = ['apb','mis','eqb','ovb','sub']\n",
    "dict_exp_df = {}\n",
    "\n",
    "for ce_exp in exp_names:\n",
    "    dict_exp_df[ce_exp] = import_ce_exp(ce_exp)\n",
    "\n",
    "dict_exp_df.keys()"
   ]
  },
  {
   "cell_type": "markdown",
   "metadata": {},
   "source": [
    "### Part 2: Data Manipulation\n",
    "\n",
    "Next, we need to reorganize the data for various reasons. First, the column that refers to purchase mode (our column of interest) and the column that refers to the item category purchased are named differently on each expenditure file. Second, if our goal is to compile all of the expenditure tables into one DataFrame for analysis, then we can drop most of the variables as they do not overlap. Third, since the majority of respondents are not asked about purchase mode, there is no point in keeping values where purchase mode is blank. Lastly, item categories and the purchase mode are meaningless as numeric codes. We will import a concordance I created between the item category codes and their descriptions using the CE data documentation, as well as hard-code descriptions of purchase mode codes.\n",
    "\n",
    "To Summarize:\n",
    "1. Rename the columns that represent the expenditure category and the purchase mode.\n",
    "2. Drop rows/instances where purchase mode is blank.\n",
    "3. Keep only overlapping columns across expenditure tables.\n",
    "4. Add descriptions to the CE expenditure item codes and values stored in the purchase mode column."
   ]
  },
  {
   "cell_type": "markdown",
   "metadata": {},
   "source": [
    "#### Rename and Keep Columns, Drop Rows\n",
    "\n",
    "Below we create a function called <code>rename_keep_dropna</code> that takes three arguments, <code>exp_file</code>, <code>rename_purch</code>, and <code>rename_item</code>. The first argument <code>exp_file</code> is the name of the expenditure file as it was stored in the list <code>exp_names</code>. It is used to locate the expenditure file in the dictionary <code>dict_exp_df</code> and is used as a condition for renaming the purchase mode column and item category column. The second and third arguments are the column names that will replace the purchase mode and item category column names, respectively.\n",
    "\n",
    "After the function is defined, it is called for each element in the list <code>exp_names</code>."
   ]
  },
  {
   "cell_type": "code",
   "execution_count": 4,
   "metadata": {},
   "outputs": [],
   "source": [
    "def rename_keep_dropna(exp_file, rename_purch, rename_item):\n",
    "    \n",
    "    #1. Rename Purchase Mode and Item Category Columns.\n",
    "    if exp_file == 'apb':\n",
    "        dict_exp_df[exp_file].rename(columns={\"APBPURCH\":str(rename_purch),\n",
    "                                              \"MINAPPLY\":str(rename_item)},\n",
    "                                     inplace=True)\n",
    "    elif exp_file == 'mis':\n",
    "        dict_exp_df[exp_file].rename(columns={\"MISPURCH\":str(rename_purch), \n",
    "                                              \"MISCCODE\":str(rename_item)},\n",
    "                                     inplace=True)\n",
    "    elif exp_file == 'eqb':\n",
    "        dict_exp_df[exp_file].rename(columns={\"EQBPURCH\":str(rename_purch),\n",
    "                                              \"APPRPRYB\":str(rename_item)},\n",
    "                                     inplace=True)\n",
    "    elif exp_file == 'ovb':\n",
    "        dict_exp_df[exp_file].rename(columns={\"OVBPURCH\":str(rename_purch),\n",
    "                                              \"VEHICYB\":str(rename_item)},\n",
    "                                     inplace=True)\n",
    "    elif exp_file == 'sub':\n",
    "        dict_exp_df[exp_file].rename(columns={\"SUBPURCH\":str(rename_purch),\n",
    "                                              \"S17CODEA\":str(rename_item)},\n",
    "                                     inplace=True)\n",
    "\n",
    "    #2. Drop rows with missing purchase mode values.\n",
    "    dict_exp_df[exp_file] = dict_exp_df[exp_file].dropna(axis='index', how='any', subset=[rename_purch])\n",
    "    \n",
    "    #3. Keep only overlapping columns.\n",
    "    dict_exp_df[exp_file] = dict_exp_df[exp_file][['QYEAR', rename_purch, rename_item]]"
   ]
  },
  {
   "cell_type": "code",
   "execution_count": 5,
   "metadata": {},
   "outputs": [],
   "source": [
    "for ce_exp in exp_names:\n",
    "    rename_keep_dropna(ce_exp, \"PURCH_TYPE\", \"EXPN_TYPE\")"
   ]
  },
  {
   "cell_type": "markdown",
   "metadata": {},
   "source": [
    "#### Add Descriptions to Item Categories\n",
    "\n",
    "First, let's import the concordance table and store it in a Pandas DataFrame called <code>item_cat_desc_df</code>. The concordance has a column called <code>File</code> that corresponds to the name of the expenditure table. It is used to subset the concordance to only those item categories we expect in a particular expenditure file."
   ]
  },
  {
   "cell_type": "code",
   "execution_count": 6,
   "metadata": {},
   "outputs": [
    {
     "data": {
      "text/html": [
       "<div>\n",
       "<style scoped>\n",
       "    .dataframe tbody tr th:only-of-type {\n",
       "        vertical-align: middle;\n",
       "    }\n",
       "\n",
       "    .dataframe tbody tr th {\n",
       "        vertical-align: top;\n",
       "    }\n",
       "\n",
       "    .dataframe thead th {\n",
       "        text-align: right;\n",
       "    }\n",
       "</style>\n",
       "<table border=\"1\" class=\"dataframe\">\n",
       "  <thead>\n",
       "    <tr style=\"text-align: right;\">\n",
       "      <th></th>\n",
       "      <th>File Name</th>\n",
       "      <th>Variable Name</th>\n",
       "      <th>Item Category</th>\n",
       "      <th>Item Category Description</th>\n",
       "    </tr>\n",
       "  </thead>\n",
       "  <tbody>\n",
       "    <tr>\n",
       "      <th>0</th>\n",
       "      <td>OVB</td>\n",
       "      <td>VEHICYB</td>\n",
       "      <td>100</td>\n",
       "      <td>Automobile</td>\n",
       "    </tr>\n",
       "    <tr>\n",
       "      <th>1</th>\n",
       "      <td>OVB</td>\n",
       "      <td>VEHICYB</td>\n",
       "      <td>105</td>\n",
       "      <td>Automobile, truck, van, miniva</td>\n",
       "    </tr>\n",
       "    <tr>\n",
       "      <th>2</th>\n",
       "      <td>OVB</td>\n",
       "      <td>VEHICYB</td>\n",
       "      <td>110</td>\n",
       "      <td>Truck, van, minivan, or SUV</td>\n",
       "    </tr>\n",
       "    <tr>\n",
       "      <th>3</th>\n",
       "      <td>OVB</td>\n",
       "      <td>VEHICYB</td>\n",
       "      <td>120</td>\n",
       "      <td>Motor Home</td>\n",
       "    </tr>\n",
       "    <tr>\n",
       "      <th>4</th>\n",
       "      <td>OVB</td>\n",
       "      <td>VEHICYB</td>\n",
       "      <td>130</td>\n",
       "      <td>Trailer Type Camper</td>\n",
       "    </tr>\n",
       "  </tbody>\n",
       "</table>\n",
       "</div>"
      ],
      "text/plain": [
       "  File Name Variable Name Item Category       Item Category Description\n",
       "0       OVB       VEHICYB           100                      Automobile\n",
       "1       OVB       VEHICYB           105  Automobile, truck, van, miniva\n",
       "2       OVB       VEHICYB           110     Truck, van, minivan, or SUV\n",
       "3       OVB       VEHICYB           120                      Motor Home\n",
       "4       OVB       VEHICYB           130             Trailer Type Camper"
      ]
     },
     "execution_count": 6,
     "metadata": {},
     "output_type": "execute_result"
    }
   ],
   "source": [
    "item_cat_desc_df = pd.read_excel(\"C:/Users/Barbieri/Desktop/Research and Education/CE Micro Data/Expn_Code_Descriptions.xlsx\",\n",
    "                                  dtype=object)\n",
    "\n",
    "item_cat_desc_df.head()"
   ]
  },
  {
   "cell_type": "markdown",
   "metadata": {},
   "source": [
    "Now, we create a function called <code>expn_type_desc</code> that subsets the concordance to a defined CE expenditure table and merges the descriptions with the expenditure table on the column <code>EXPN_TYPE</code>. The merge is an inner merge, which means that only values of <code>EXPN_TYPE</code> that are in both the CE expenditure table and the subset item concordance will successfully merge.\n",
    "\n",
    "Much like the other functions, <code>expn_type_desc</code> is then called for each element in the list <code>exp_names</code>."
   ]
  },
  {
   "cell_type": "code",
   "execution_count": 7,
   "metadata": {},
   "outputs": [],
   "source": [
    "def expn_type_desc(exp_file):\n",
    "    code_list = item_cat_desc_df[item_cat_desc_df['File Name'] == exp_file.upper()]\n",
    "    \n",
    "    dict_exp_df[exp_file] = dict_exp_df[exp_file].merge(code_list,\n",
    "                                                        how='inner',\n",
    "                                                        left_on='EXPN_TYPE',\n",
    "                                                        right_on='Item Category')"
   ]
  },
  {
   "cell_type": "code",
   "execution_count": 8,
   "metadata": {},
   "outputs": [],
   "source": [
    "for ce_exp in exp_names:\n",
    "    expn_type_desc(ce_exp)"
   ]
  },
  {
   "cell_type": "markdown",
   "metadata": {},
   "source": [
    "#### Add Descriptions to Purchase Mode\n",
    "\n",
    "Below is a function <code>purch_type_desc</code> that hard-codes the description for each possible value of the purchase mode column.\n",
    "\n",
    "After the function is defined, it is applied using the <code>apply</code> attribute. In this case, a new column is created called <code>OTYPE_DESC</code> that represents the converted value of <code>PURCH_TYPE</code>."
   ]
  },
  {
   "cell_type": "code",
   "execution_count": 9,
   "metadata": {},
   "outputs": [],
   "source": [
    "def purch_type_desc(purch_type):\n",
    "    if purch_type == \"1\":\n",
    "        purch_type_desc = \"Online\"\n",
    "    elif purch_type == \"2\":\n",
    "        purch_type_desc = \"In-Person\"\n",
    "    elif purch_type == \"3\":\n",
    "        purch_type_desc = \"Other\"\n",
    "    else:\n",
    "        purch_type_desc = purch_type\n",
    "\n",
    "    return purch_type_desc"
   ]
  },
  {
   "cell_type": "code",
   "execution_count": 10,
   "metadata": {},
   "outputs": [],
   "source": [
    "for ce_exp in exp_names:\n",
    "    dict_exp_df[ce_exp]['OTYPE_DESC'] = dict_exp_df[ce_exp]['PURCH_TYPE'].apply(purch_type_desc)"
   ]
  },
  {
   "cell_type": "markdown",
   "metadata": {},
   "source": [
    "#### Combine All Expenditure Files\n",
    "\n",
    "Now we can combine all of the expenditure files into <i>one</i> DataFrame called <code>ce_exp_df</code> which will be used in the analysis."
   ]
  },
  {
   "cell_type": "code",
   "execution_count": 11,
   "metadata": {
    "scrolled": true
   },
   "outputs": [],
   "source": [
    "for elem_num, ce_exp in enumerate(exp_names):\n",
    "    if elem_num == 0:\n",
    "        ce_exp_df = dict_exp_df[ce_exp]\n",
    "    else:\n",
    "        ce_exp_df = pd.concat([ce_exp_df, dict_exp_df[ce_exp]], ignore_index=True)"
   ]
  },
  {
   "cell_type": "markdown",
   "metadata": {},
   "source": [
    "I ignored diagnostics in the final version of this notebook, but let's run one summary command to give us a sense of the number of observations by expenditure table."
   ]
  },
  {
   "cell_type": "code",
   "execution_count": 12,
   "metadata": {},
   "outputs": [
    {
     "data": {
      "text/plain": [
       "OVB    643\n",
       "MIS    137\n",
       "APB    121\n",
       "SUB     35\n",
       "EQB     10\n",
       "Name: File Name, dtype: int64"
      ]
     },
     "execution_count": 12,
     "metadata": {},
     "output_type": "execute_result"
    }
   ],
   "source": [
    "ce_exp_df['File Name'].value_counts()"
   ]
  },
  {
   "cell_type": "markdown",
   "metadata": {},
   "source": [
    "### Part 3: Data Analysis and Visualization\n",
    "\n",
    "Instead of plainly printing the proportions of reported purchase methods grouped by expenditure category, we are going to use Plotly library to display the proportions on a table, fit with a dropdown menu where users can select the item category.\n",
    "\n",
    "Our goal is to populate a table with the portions of reported purchase modes by item category. To do so, Plotly will require that each item category's proportions be a <i>separate graph object</i>. We will then use Plotly's menu options to link each graph object to a button in a dropdown menu. That way, when a user selects the category \"Arts & Crafts Supplies\" from the dropdown menu, the purchase mode proportions for Arts & Craft Supplies populates the table."
   ]
  },
  {
   "cell_type": "markdown",
   "metadata": {},
   "source": [
    "#### Calculate Purchase Mode Proportions by Item Category\n",
    "\n",
    "We are going to use a for-loop to calculate the proportions of purchase modes for each item category in the DataFrame <code>ce_exp_df</code> and assign it to a Plotly graph object using Plotly's <code>Table</code> function. The proportion of purchase modes reported for each item category is stored in the Series <code>purch_prop</code>. Each table object will be stored in the list <code>table_traces</code>."
   ]
  },
  {
   "cell_type": "code",
   "execution_count": 13,
   "metadata": {
    "scrolled": true
   },
   "outputs": [],
   "source": [
    "table_traces = []\n",
    "\n",
    "ce_exp_df_gb = ce_exp_df.groupby(['Item Category Description'])\n",
    "\n",
    "for group, purch in ce_exp_df_gb:    \n",
    "    purch_prop = purch['OTYPE_DESC'].value_counts(normalize=True)\n",
    "    \n",
    "    if len(purch_prop.index) == 1:\n",
    "        header_values=[str(purch_prop.index[0])]\n",
    "    \n",
    "    elif len(purch_prop.index) == 2:\n",
    "        header_values=[str(purch_prop.index[0]),\n",
    "                       str(purch_prop.index[1])]\n",
    "    \n",
    "    elif len(purch_prop.index) == 3:\n",
    "        header_values=[str(purch_prop.index[0]),\n",
    "                       str(purch_prop.index[1]),\n",
    "                       str(purch_prop.index[2])]\n",
    "\n",
    "    table = go.Table(header=dict(values=header_values),\n",
    "                     cells=dict(values=purch_prop))\n",
    "\n",
    "    table_traces.append(table)"
   ]
  },
  {
   "cell_type": "markdown",
   "metadata": {},
   "source": [
    "#### Create Buttons for Dropdown Menu\n",
    "\n",
    "The length of the list <code>table_traces</code> will tell us how many different item categories there are and therefore, how many buttons we will need in the dropdown menu. Each button will contain an attribute called <code>visible</code> to tell Plotly which item categories to make visible when a particular item from the dropdown menu is selected. In our case, we only want one trace (item category) visible at a time.\n",
    "\n",
    "Below we create a list called <code>cat_visual_attrib_bool</code> that we will use to populate the attribute <code>visible</code> for each button. The list will have a total number of elements equal to the number of item categories. Each element will contain a series of True and False values, in particular, one True value and the remaining False."
   ]
  },
  {
   "cell_type": "code",
   "execution_count": 14,
   "metadata": {},
   "outputs": [],
   "source": [
    "num_groups = len(table_traces)\n",
    "array_bool_false = np.full((1, num_groups), False)\n",
    "cat_visual_attrib_bool = []\n",
    "\n",
    "for i in range(0, num_groups):\n",
    "    list_bool = array_bool_false[0].tolist()\n",
    "    list_bool[i] = True\n",
    "    \n",
    "    cat_visual_attrib_bool.append(list_bool)"
   ]
  },
  {
   "cell_type": "markdown",
   "metadata": {},
   "source": [
    "Next, we define each button and their attributes. For each item category, we label the button using the <code>Item Category Description</code> column from the <code>ce_exp_df_gb</code> DataFrame, assign the method \"update\" to indicate that the table should be regenerated with the requested data, and assign one of the elements from <code>cat_visual_attrib_bool</code> to the <code>visible</code> attribute."
   ]
  },
  {
   "cell_type": "code",
   "execution_count": 15,
   "metadata": {},
   "outputs": [],
   "source": [
    "button_attribs = []\n",
    "\n",
    "for index, purch_prop in enumerate(ce_exp_df_gb):\n",
    "    attributes = dict(label=purch_prop[0],\n",
    "                          method='update',\n",
    "                          args=[dict(visible=cat_visual_attrib_bool[index])])\n",
    "    button_attribs.append(attributes)"
   ]
  },
  {
   "cell_type": "markdown",
   "metadata": {},
   "source": [
    "Lastly, we define the dropdown menu by setting the <code>type</code> attribute to 'dropdown'. Each button available in the dropdown menu is defined by the button attributes stored in the list <code>button_attribs</code>, created above. I use the values <code>x</code> and <code>y</code> to define the location of the dropdown menu."
   ]
  },
  {
   "cell_type": "code",
   "execution_count": 16,
   "metadata": {},
   "outputs": [],
   "source": [
    "updatemenus = list([dict(type='dropdown',\n",
    "                         active=-1,\n",
    "                         buttons=button_attribs,\n",
    "                         x=0.65,\n",
    "                         y=0.80)\n",
    "                   ])"
   ]
  },
  {
   "cell_type": "markdown",
   "metadata": {},
   "source": [
    "#### Generate the Table with Dropdown Menu\n",
    "\n",
    "Finally, we assign our menu options <code>updatemenus</code> to the <code>updatemenus</code> attribute in a dictionary called <code>layout</code>. A dictionary called <code>figure</code> contains one element for the data and another for the figure layout. Lastly, running <code>iplot</code> by passing the dictionary <code>figure</code> will produce the table with the dropdown menu. Feel free to explore!"
   ]
  },
  {
   "cell_type": "code",
   "execution_count": 17,
   "metadata": {},
   "outputs": [
    {
     "data": {
      "application/vnd.plotly.v1+json": {
       "config": {
        "linkText": "Export to plot.ly",
        "plotlyServerURL": "https://plot.ly",
        "showLink": false
       },
       "data": [
        {
         "cells": {
          "values": [
           0.7727272727272727,
           0.22727272727272727
          ]
         },
         "header": {
          "values": [
           "In-Person",
           "Online"
          ]
         },
         "type": "table",
         "uid": "97ba92d8-3322-4a94-98ff-e01182090039"
        },
        {
         "cells": {
          "values": [
           0.7777777777777778,
           0.1111111111111111,
           0.1111111111111111
          ]
         },
         "header": {
          "values": [
           "In-Person",
           "Online",
           "Other"
          ]
         },
         "type": "table",
         "uid": "b2833e83-caa7-4156-bb8a-c5ae3478d1f2"
        },
        {
         "cells": {
          "values": [
           0.9036144578313253,
           0.07228915662650602,
           0.024096385542168676
          ]
         },
         "header": {
          "values": [
           "In-Person",
           "Online",
           "Other"
          ]
         },
         "type": "table",
         "uid": "10528ed0-6f50-4b9b-b787-f1bd436f4cdc"
        },
        {
         "cells": {
          "values": [
           0.6956521739130435,
           0.30434782608695654
          ]
         },
         "header": {
          "values": [
           "In-Person",
           "Online"
          ]
         },
         "type": "table",
         "uid": "f9edc2da-104f-40d5-b003-7a1b032527fc"
        },
        {
         "cells": {
          "values": [
           0.75,
           0.25
          ]
         },
         "header": {
          "values": [
           "In-Person",
           "Online"
          ]
         },
         "type": "table",
         "uid": "39c0e862-0210-4c02-91bd-c401c02e5a97"
        },
        {
         "cells": {
          "values": [
           1
          ]
         },
         "header": {
          "values": [
           "In-Person"
          ]
         },
         "type": "table",
         "uid": "3a32834d-d833-42b9-818b-a0309a9f3723"
        },
        {
         "cells": {
          "values": [
           0.75,
           0.25
          ]
         },
         "header": {
          "values": [
           "In-Person",
           "Online"
          ]
         },
         "type": "table",
         "uid": "f1b264d5-0fc5-4e18-a3a7-af32c1185d86"
        },
        {
         "cells": {
          "values": [
           0.6923076923076923,
           0.3076923076923077
          ]
         },
         "header": {
          "values": [
           "In-Person",
           "Online"
          ]
         },
         "type": "table",
         "uid": "a5198b73-575b-4f50-878e-90332660ef1c"
        },
        {
         "cells": {
          "values": [
           0.6363636363636364,
           0.36363636363636365
          ]
         },
         "header": {
          "values": [
           "In-Person",
           "Online"
          ]
         },
         "type": "table",
         "uid": "85a63052-5778-4ba4-8f24-e8921701e95b"
        },
        {
         "cells": {
          "values": [
           0.7222222222222222,
           0.2777777777777778
          ]
         },
         "header": {
          "values": [
           "In-Person",
           "Online"
          ]
         },
         "type": "table",
         "uid": "5b0f8c69-f37c-4850-aa26-7e8f888e372e"
        },
        {
         "cells": {
          "values": [
           1
          ]
         },
         "header": {
          "values": [
           "In-Person"
          ]
         },
         "type": "table",
         "uid": "0cfcdb60-abbf-4369-bc08-704522d99655"
        },
        {
         "cells": {
          "values": [
           1
          ]
         },
         "header": {
          "values": [
           "In-Person"
          ]
         },
         "type": "table",
         "uid": "be574e12-5b1a-4e02-b9b3-992745ff9c6b"
        },
        {
         "cells": {
          "values": [
           1
          ]
         },
         "header": {
          "values": [
           "In-Person"
          ]
         },
         "type": "table",
         "uid": "354663b6-98e0-4ffb-a151-6088846584f6"
        },
        {
         "cells": {
          "values": [
           1
          ]
         },
         "header": {
          "values": [
           "Online"
          ]
         },
         "type": "table",
         "uid": "e46084c4-e51d-4f33-8ff4-3c3b1664f677"
        },
        {
         "cells": {
          "values": [
           0.6666666666666666,
           0.3333333333333333
          ]
         },
         "header": {
          "values": [
           "In-Person",
           "Other"
          ]
         },
         "type": "table",
         "uid": "8f1c1add-7d7e-4371-b396-fa5f801abb4b"
        },
        {
         "cells": {
          "values": [
           0.4,
           0.4,
           0.2
          ]
         },
         "header": {
          "values": [
           "Online",
           "In-Person",
           "Other"
          ]
         },
         "type": "table",
         "uid": "2830e5d5-9f59-40d2-a32d-f7fe5f93140a"
        },
        {
         "cells": {
          "values": [
           0.5,
           0.5
          ]
         },
         "header": {
          "values": [
           "Online",
           "In-Person"
          ]
         },
         "type": "table",
         "uid": "b23ca094-c041-47db-bdc7-7c7c9f1af923"
        },
        {
         "cells": {
          "values": [
           0.9943502824858758,
           0.005649717514124294
          ]
         },
         "header": {
          "values": [
           "In-Person",
           "Online"
          ]
         },
         "type": "table",
         "uid": "dabca997-109c-4a2d-a74f-ae7c31119081"
        },
        {
         "cells": {
          "values": [
           0.803030303030303,
           0.19696969696969696
          ]
         },
         "header": {
          "values": [
           "In-Person",
           "Online"
          ]
         },
         "type": "table",
         "uid": "86288c51-a3c2-4681-be6e-2ed903cd8617"
        },
        {
         "cells": {
          "values": [
           1
          ]
         },
         "header": {
          "values": [
           "In-Person"
          ]
         },
         "type": "table",
         "uid": "3009c588-3e20-4e1c-bdaa-affa8267bb42"
        },
        {
         "cells": {
          "values": [
           1
          ]
         },
         "header": {
          "values": [
           "In-Person"
          ]
         },
         "type": "table",
         "uid": "79de22d4-3a60-4bf6-b6c3-1d85f43c1959"
        },
        {
         "cells": {
          "values": [
           1
          ]
         },
         "header": {
          "values": [
           "Online"
          ]
         },
         "type": "table",
         "uid": "ad2ed05c-a2f3-4e01-a749-75d6c6d34862"
        },
        {
         "cells": {
          "values": [
           0.8235294117647058,
           0.17647058823529413
          ]
         },
         "header": {
          "values": [
           "Online",
           "In-Person"
          ]
         },
         "type": "table",
         "uid": "4af83d61-6aba-4d8b-be32-38a2dcf30085"
        },
        {
         "cells": {
          "values": [
           0.8,
           0.2
          ]
         },
         "header": {
          "values": [
           "Online",
           "In-Person"
          ]
         },
         "type": "table",
         "uid": "300c3bde-2e34-4944-9c1c-bdc0236c3fdc"
        },
        {
         "cells": {
          "values": [
           0.875,
           0.125
          ]
         },
         "header": {
          "values": [
           "In-Person",
           "Online"
          ]
         },
         "type": "table",
         "uid": "f008b4c2-e5b1-4bc1-8c45-5b06b9231b7b"
        },
        {
         "cells": {
          "values": [
           0.7959183673469388,
           0.1836734693877551,
           0.02040816326530612
          ]
         },
         "header": {
          "values": [
           "In-Person",
           "Online",
           "Other"
          ]
         },
         "type": "table",
         "uid": "3645ddeb-e622-4fcd-8f67-af92e105b00d"
        },
        {
         "cells": {
          "values": [
           0.9747899159663865,
           0.01680672268907563,
           0.008403361344537815
          ]
         },
         "header": {
          "values": [
           "In-Person",
           "Other",
           "Online"
          ]
         },
         "type": "table",
         "uid": "14da41ba-3f68-4bae-b4a8-221110698fe2"
        },
        {
         "cells": {
          "values": [
           0.9580838323353293,
           0.023952095808383235,
           0.017964071856287425
          ]
         },
         "header": {
          "values": [
           "In-Person",
           "Other",
           "Online"
          ]
         },
         "type": "table",
         "uid": "b408ec54-2021-48af-8534-df5ed04227a5"
        },
        {
         "cells": {
          "values": [
           0.6363636363636364,
           0.36363636363636365
          ]
         },
         "header": {
          "values": [
           "In-Person",
           "Online"
          ]
         },
         "type": "table",
         "uid": "33fa5e4b-01ea-43cf-968b-26590f735151"
        },
        {
         "cells": {
          "values": [
           1
          ]
         },
         "header": {
          "values": [
           "In-Person"
          ]
         },
         "type": "table",
         "uid": "a50bfc04-e8c1-499a-81b7-686b2456747e"
        },
        {
         "cells": {
          "values": [
           1
          ]
         },
         "header": {
          "values": [
           "Online"
          ]
         },
         "type": "table",
         "uid": "e165e68b-489f-42c0-bddb-4f6878a023fa"
        }
       ],
       "layout": {
        "title": {
         "text": "Proportion of Purchase Mode by Item Category"
        },
        "updatemenus": [
         {
          "active": -1,
          "buttons": [
           {
            "args": [
             {
              "visible": [
               true,
               false,
               false,
               false,
               false,
               false,
               false,
               false,
               false,
               false,
               false,
               false,
               false,
               false,
               false,
               false,
               false,
               false,
               false,
               false,
               false,
               false,
               false,
               false,
               false,
               false,
               false,
               false,
               false,
               false,
               false
              ]
             }
            ],
            "label": "Arts and Crafts kit",
            "method": "update"
           },
           {
            "args": [
             {
              "visible": [
               false,
               true,
               false,
               false,
               false,
               false,
               false,
               false,
               false,
               false,
               false,
               false,
               false,
               false,
               false,
               false,
               false,
               false,
               false,
               false,
               false,
               false,
               false,
               false,
               false,
               false,
               false,
               false,
               false,
               false,
               false
              ]
             }
            ],
            "label": "Bicycles or bicycle equipment",
            "method": "update"
           },
           {
            "args": [
             {
              "visible": [
               false,
               false,
               true,
               false,
               false,
               false,
               false,
               false,
               false,
               false,
               false,
               false,
               false,
               false,
               false,
               false,
               false,
               false,
               false,
               false,
               false,
               false,
               false,
               false,
               false,
               false,
               false,
               false,
               false,
               false,
               false
              ]
             }
            ],
            "label": "Boat, with motor",
            "method": "update"
           },
           {
            "args": [
             {
              "visible": [
               false,
               false,
               false,
               true,
               false,
               false,
               false,
               false,
               false,
               false,
               false,
               false,
               false,
               false,
               false,
               false,
               false,
               false,
               false,
               false,
               false,
               false,
               false,
               false,
               false,
               false,
               false,
               false,
               false,
               false,
               false
              ]
             }
            ],
            "label": "Boat, without motor",
            "method": "update"
           },
           {
            "args": [
             {
              "visible": [
               false,
               false,
               false,
               false,
               true,
               false,
               false,
               false,
               false,
               false,
               false,
               false,
               false,
               false,
               false,
               false,
               false,
               false,
               false,
               false,
               false,
               false,
               false,
               false,
               false,
               false,
               false,
               false,
               false,
               false,
               false
              ]
             }
            ],
            "label": "Camping Equipment",
            "method": "update"
           },
           {
            "args": [
             {
              "visible": [
               false,
               false,
               false,
               false,
               false,
               true,
               false,
               false,
               false,
               false,
               false,
               false,
               false,
               false,
               false,
               false,
               false,
               false,
               false,
               false,
               false,
               false,
               false,
               false,
               false,
               false,
               false,
               false,
               false,
               false,
               false
              ]
             }
            ],
            "label": "Computer accessories",
            "method": "update"
           },
           {
            "args": [
             {
              "visible": [
               false,
               false,
               false,
               false,
               false,
               false,
               true,
               false,
               false,
               false,
               false,
               false,
               false,
               false,
               false,
               false,
               false,
               false,
               false,
               false,
               false,
               false,
               false,
               false,
               false,
               false,
               false,
               false,
               false,
               false,
               false
              ]
             }
            ],
            "label": "DVD Players, VCRs, DVRs, or vi",
            "method": "update"
           },
           {
            "args": [
             {
              "visible": [
               false,
               false,
               false,
               false,
               false,
               false,
               false,
               true,
               false,
               false,
               false,
               false,
               false,
               false,
               false,
               false,
               false,
               false,
               false,
               false,
               false,
               false,
               false,
               false,
               false,
               false,
               false,
               false,
               false,
               false,
               false
              ]
             }
            ],
            "label": "General Sports Equipment (excl",
            "method": "update"
           },
           {
            "args": [
             {
              "visible": [
               false,
               false,
               false,
               false,
               false,
               false,
               false,
               false,
               true,
               false,
               false,
               false,
               false,
               false,
               false,
               false,
               false,
               false,
               false,
               false,
               false,
               false,
               false,
               false,
               false,
               false,
               false,
               false,
               false,
               false,
               false
              ]
             }
            ],
            "label": "Health and Exercise Equipment",
            "method": "update"
           },
           {
            "args": [
             {
              "visible": [
               false,
               false,
               false,
               false,
               false,
               false,
               false,
               false,
               false,
               true,
               false,
               false,
               false,
               false,
               false,
               false,
               false,
               false,
               false,
               false,
               false,
               false,
               false,
               false,
               false,
               false,
               false,
               false,
               false,
               false,
               false
              ]
             }
            ],
            "label": "Hunting and Fishing Equipment",
            "method": "update"
           },
           {
            "args": [
             {
              "visible": [
               false,
               false,
               false,
               false,
               false,
               false,
               false,
               false,
               false,
               false,
               true,
               false,
               false,
               false,
               false,
               false,
               false,
               false,
               false,
               false,
               false,
               false,
               false,
               false,
               false,
               false,
               false,
               false,
               false,
               false,
               false
              ]
             }
            ],
            "label": "Lawn mowing Machinery and Othe",
            "method": "update"
           },
           {
            "args": [
             {
              "visible": [
               false,
               false,
               false,
               false,
               false,
               false,
               false,
               false,
               false,
               false,
               false,
               true,
               false,
               false,
               false,
               false,
               false,
               false,
               false,
               false,
               false,
               false,
               false,
               false,
               false,
               false,
               false,
               false,
               false,
               false,
               false
              ]
             }
            ],
            "label": "Non-powered Tools",
            "method": "update"
           },
           {
            "args": [
             {
              "visible": [
               false,
               false,
               false,
               false,
               false,
               false,
               false,
               false,
               false,
               false,
               false,
               false,
               true,
               false,
               false,
               false,
               false,
               false,
               false,
               false,
               false,
               false,
               false,
               false,
               false,
               false,
               false,
               false,
               false,
               false,
               false
              ]
             }
            ],
            "label": "Other Attachable Type Camper",
            "method": "update"
           },
           {
            "args": [
             {
              "visible": [
               false,
               false,
               false,
               false,
               false,
               false,
               false,
               false,
               false,
               false,
               false,
               false,
               false,
               true,
               false,
               false,
               false,
               false,
               false,
               false,
               false,
               false,
               false,
               false,
               false,
               false,
               false,
               false,
               false,
               false,
               false
              ]
             }
            ],
            "label": "Other Household Appliances",
            "method": "update"
           },
           {
            "args": [
             {
              "visible": [
               false,
               false,
               false,
               false,
               false,
               false,
               false,
               false,
               false,
               false,
               false,
               false,
               false,
               false,
               true,
               false,
               false,
               false,
               false,
               false,
               false,
               false,
               false,
               false,
               false,
               false,
               false,
               false,
               false,
               false,
               false
              ]
             }
            ],
            "label": "Other Sports, Recreation and E",
            "method": "update"
           },
           {
            "args": [
             {
              "visible": [
               false,
               false,
               false,
               false,
               false,
               false,
               false,
               false,
               false,
               false,
               false,
               false,
               false,
               false,
               false,
               true,
               false,
               false,
               false,
               false,
               false,
               false,
               false,
               false,
               false,
               false,
               false,
               false,
               false,
               false,
               false
              ]
             }
            ],
            "label": "Other household appliances, in",
            "method": "update"
           },
           {
            "args": [
             {
              "visible": [
               false,
               false,
               false,
               false,
               false,
               false,
               false,
               false,
               false,
               false,
               false,
               false,
               false,
               false,
               false,
               false,
               true,
               false,
               false,
               false,
               false,
               false,
               false,
               false,
               false,
               false,
               false,
               false,
               false,
               false,
               false
              ]
             }
            ],
            "label": "Other sound and video equipmen",
            "method": "update"
           },
           {
            "args": [
             {
              "visible": [
               false,
               false,
               false,
               false,
               false,
               false,
               false,
               false,
               false,
               false,
               false,
               false,
               false,
               false,
               false,
               false,
               false,
               true,
               false,
               false,
               false,
               false,
               false,
               false,
               false,
               false,
               false,
               false,
               false,
               false,
               false
              ]
             }
            ],
            "label": "Other vehicle",
            "method": "update"
           },
           {
            "args": [
             {
              "visible": [
               false,
               false,
               false,
               false,
               false,
               false,
               false,
               false,
               false,
               false,
               false,
               false,
               false,
               false,
               false,
               false,
               false,
               false,
               true,
               false,
               false,
               false,
               false,
               false,
               false,
               false,
               false,
               false,
               false,
               false,
               false
              ]
             }
            ],
            "label": "Pets, pet supplies and medicin",
            "method": "update"
           },
           {
            "args": [
             {
              "visible": [
               false,
               false,
               false,
               false,
               false,
               false,
               false,
               false,
               false,
               false,
               false,
               false,
               false,
               false,
               false,
               false,
               false,
               false,
               false,
               true,
               false,
               false,
               false,
               false,
               false,
               false,
               false,
               false,
               false,
               false,
               false
              ]
             }
            ],
            "label": "Playground Equipment",
            "method": "update"
           },
           {
            "args": [
             {
              "visible": [
               false,
               false,
               false,
               false,
               false,
               false,
               false,
               false,
               false,
               false,
               false,
               false,
               false,
               false,
               false,
               false,
               false,
               false,
               false,
               false,
               true,
               false,
               false,
               false,
               false,
               false,
               false,
               false,
               false,
               false,
               false
              ]
             }
            ],
            "label": "Power Tools",
            "method": "update"
           },
           {
            "args": [
             {
              "visible": [
               false,
               false,
               false,
               false,
               false,
               false,
               false,
               false,
               false,
               false,
               false,
               false,
               false,
               false,
               false,
               false,
               false,
               false,
               false,
               false,
               false,
               true,
               false,
               false,
               false,
               false,
               false,
               false,
               false,
               false,
               false
              ]
             }
            ],
            "label": "Purchased music files, CDs, or",
            "method": "update"
           },
           {
            "args": [
             {
              "visible": [
               false,
               false,
               false,
               false,
               false,
               false,
               false,
               false,
               false,
               false,
               false,
               false,
               false,
               false,
               false,
               false,
               false,
               false,
               false,
               false,
               false,
               false,
               true,
               false,
               false,
               false,
               false,
               false,
               false,
               false,
               false
              ]
             }
            ],
            "label": "Purchased video files, Blu-Ray",
            "method": "update"
           },
           {
            "args": [
             {
              "visible": [
               false,
               false,
               false,
               false,
               false,
               false,
               false,
               false,
               false,
               false,
               false,
               false,
               false,
               false,
               false,
               false,
               false,
               false,
               false,
               false,
               false,
               false,
               false,
               true,
               false,
               false,
               false,
               false,
               false,
               false,
               false
              ]
             }
            ],
            "label": "Stereos, radios, speakers, and",
            "method": "update"
           },
           {
            "args": [
             {
              "visible": [
               false,
               false,
               false,
               false,
               false,
               false,
               false,
               false,
               false,
               false,
               false,
               false,
               false,
               false,
               false,
               false,
               false,
               false,
               false,
               false,
               false,
               false,
               false,
               false,
               true,
               false,
               false,
               false,
               false,
               false,
               false
              ]
             }
            ],
            "label": "Televisions, all types includi",
            "method": "update"
           },
           {
            "args": [
             {
              "visible": [
               false,
               false,
               false,
               false,
               false,
               false,
               false,
               false,
               false,
               false,
               false,
               false,
               false,
               false,
               false,
               false,
               false,
               false,
               false,
               false,
               false,
               false,
               false,
               false,
               false,
               true,
               false,
               false,
               false,
               false,
               false
              ]
             }
            ],
            "label": "Toys and games",
            "method": "update"
           },
           {
            "args": [
             {
              "visible": [
               false,
               false,
               false,
               false,
               false,
               false,
               false,
               false,
               false,
               false,
               false,
               false,
               false,
               false,
               false,
               false,
               false,
               false,
               false,
               false,
               false,
               false,
               false,
               false,
               false,
               false,
               true,
               false,
               false,
               false,
               false
              ]
             }
            ],
            "label": "Trailer (other than camper typ",
            "method": "update"
           },
           {
            "args": [
             {
              "visible": [
               false,
               false,
               false,
               false,
               false,
               false,
               false,
               false,
               false,
               false,
               false,
               false,
               false,
               false,
               false,
               false,
               false,
               false,
               false,
               false,
               false,
               false,
               false,
               false,
               false,
               false,
               false,
               true,
               false,
               false,
               false
              ]
             }
            ],
            "label": "Trailer Type Camper",
            "method": "update"
           },
           {
            "args": [
             {
              "visible": [
               false,
               false,
               false,
               false,
               false,
               false,
               false,
               false,
               false,
               false,
               false,
               false,
               false,
               false,
               false,
               false,
               false,
               false,
               false,
               false,
               false,
               false,
               false,
               false,
               false,
               false,
               false,
               false,
               true,
               false,
               false
              ]
             }
            ],
            "label": "Video game hardware and access",
            "method": "update"
           },
           {
            "args": [
             {
              "visible": [
               false,
               false,
               false,
               false,
               false,
               false,
               false,
               false,
               false,
               false,
               false,
               false,
               false,
               false,
               false,
               false,
               false,
               false,
               false,
               false,
               false,
               false,
               false,
               false,
               false,
               false,
               false,
               false,
               false,
               true,
               false
              ]
             }
            ],
            "label": "Water Sports Equipment",
            "method": "update"
           },
           {
            "args": [
             {
              "visible": [
               false,
               false,
               false,
               false,
               false,
               false,
               false,
               false,
               false,
               false,
               false,
               false,
               false,
               false,
               false,
               false,
               false,
               false,
               false,
               false,
               false,
               false,
               false,
               false,
               false,
               false,
               false,
               false,
               false,
               false,
               true
              ]
             }
            ],
            "label": "Winter Sports Equipment",
            "method": "update"
           }
          ],
          "type": "dropdown",
          "x": 0.65,
          "y": 0.8
         }
        ]
       }
      },
      "text/html": [
       "<div id=\"53c298c3-632f-4c2c-9977-a51a9d39c790\" style=\"height: 525px; width: 100%;\" class=\"plotly-graph-div\"></div><script type=\"text/javascript\">require([\"plotly\"], function(Plotly) { window.PLOTLYENV=window.PLOTLYENV || {};window.PLOTLYENV.BASE_URL=\"https://plot.ly\";Plotly.newPlot(\"53c298c3-632f-4c2c-9977-a51a9d39c790\", [{\"cells\": {\"values\": [0.7727272727272727, 0.22727272727272727]}, \"header\": {\"values\": [\"In-Person\", \"Online\"]}, \"type\": \"table\", \"uid\": \"a88d4e3d-8929-450e-ac1a-5294bf6459bb\"}, {\"cells\": {\"values\": [0.7777777777777778, 0.1111111111111111, 0.1111111111111111]}, \"header\": {\"values\": [\"In-Person\", \"Online\", \"Other\"]}, \"type\": \"table\", \"uid\": \"8f023fbb-23eb-4a77-b121-50c64a403ba8\"}, {\"cells\": {\"values\": [0.9036144578313253, 0.07228915662650602, 0.024096385542168676]}, \"header\": {\"values\": [\"In-Person\", \"Online\", \"Other\"]}, \"type\": \"table\", \"uid\": \"8b45f551-eb6c-4672-b04f-e9e8a94edcfc\"}, {\"cells\": {\"values\": [0.6956521739130435, 0.30434782608695654]}, \"header\": {\"values\": [\"In-Person\", \"Online\"]}, \"type\": \"table\", \"uid\": \"74da1f81-b23a-4dae-8b7a-da87f43fc34e\"}, {\"cells\": {\"values\": [0.75, 0.25]}, \"header\": {\"values\": [\"In-Person\", \"Online\"]}, \"type\": \"table\", \"uid\": \"56695edd-0db2-4e32-b3e2-0dc8714ee34c\"}, {\"cells\": {\"values\": [1.0]}, \"header\": {\"values\": [\"In-Person\"]}, \"type\": \"table\", \"uid\": \"c11a78cb-452a-42da-b4ce-f3fc3a5521a2\"}, {\"cells\": {\"values\": [0.75, 0.25]}, \"header\": {\"values\": [\"In-Person\", \"Online\"]}, \"type\": \"table\", \"uid\": \"64772138-854a-4905-8749-08da7b4baa3e\"}, {\"cells\": {\"values\": [0.6923076923076923, 0.3076923076923077]}, \"header\": {\"values\": [\"In-Person\", \"Online\"]}, \"type\": \"table\", \"uid\": \"316c15ea-06c6-4881-bd16-d095be104248\"}, {\"cells\": {\"values\": [0.6363636363636364, 0.36363636363636365]}, \"header\": {\"values\": [\"In-Person\", \"Online\"]}, \"type\": \"table\", \"uid\": \"3cc039c2-8fe4-4ec1-a0c4-0ccc0aecea0c\"}, {\"cells\": {\"values\": [0.7222222222222222, 0.2777777777777778]}, \"header\": {\"values\": [\"In-Person\", \"Online\"]}, \"type\": \"table\", \"uid\": \"2098e85f-4cb6-4614-b27f-6d30f4004ccb\"}, {\"cells\": {\"values\": [1.0]}, \"header\": {\"values\": [\"In-Person\"]}, \"type\": \"table\", \"uid\": \"63c8bc06-97f6-4b74-9975-7dbb7045187e\"}, {\"cells\": {\"values\": [1.0]}, \"header\": {\"values\": [\"In-Person\"]}, \"type\": \"table\", \"uid\": \"830d7986-e15a-4581-87c2-d796a4439bd7\"}, {\"cells\": {\"values\": [1.0]}, \"header\": {\"values\": [\"In-Person\"]}, \"type\": \"table\", \"uid\": \"922356c2-f85d-4a62-9018-6a27181d52d0\"}, {\"cells\": {\"values\": [1.0]}, \"header\": {\"values\": [\"Online\"]}, \"type\": \"table\", \"uid\": \"7362e561-1c40-48f4-b0f3-8eafa842be1c\"}, {\"cells\": {\"values\": [0.6666666666666666, 0.3333333333333333]}, \"header\": {\"values\": [\"In-Person\", \"Other\"]}, \"type\": \"table\", \"uid\": \"111714bc-023f-47a5-b4b1-39b0a754f298\"}, {\"cells\": {\"values\": [0.4, 0.4, 0.2]}, \"header\": {\"values\": [\"Online\", \"In-Person\", \"Other\"]}, \"type\": \"table\", \"uid\": \"13845eb5-1227-4bc9-8021-b888578ed33d\"}, {\"cells\": {\"values\": [0.5, 0.5]}, \"header\": {\"values\": [\"Online\", \"In-Person\"]}, \"type\": \"table\", \"uid\": \"cbf6e643-3a31-47a0-b136-07a683d636db\"}, {\"cells\": {\"values\": [0.9943502824858758, 0.005649717514124294]}, \"header\": {\"values\": [\"In-Person\", \"Online\"]}, \"type\": \"table\", \"uid\": \"323635c4-c04e-44e5-85a4-5fcee4d035f1\"}, {\"cells\": {\"values\": [0.803030303030303, 0.19696969696969696]}, \"header\": {\"values\": [\"In-Person\", \"Online\"]}, \"type\": \"table\", \"uid\": \"d1d53c52-41f3-4789-96d2-77fec7f572f5\"}, {\"cells\": {\"values\": [1.0]}, \"header\": {\"values\": [\"In-Person\"]}, \"type\": \"table\", \"uid\": \"550b979f-ad47-4af6-b8ed-8d5f3f62a4f6\"}, {\"cells\": {\"values\": [1.0]}, \"header\": {\"values\": [\"In-Person\"]}, \"type\": \"table\", \"uid\": \"06100570-2d9b-454b-b34b-fe9077da1ffa\"}, {\"cells\": {\"values\": [1.0]}, \"header\": {\"values\": [\"Online\"]}, \"type\": \"table\", \"uid\": \"1ae4de71-63c1-4669-93e0-bd9e7a72be2f\"}, {\"cells\": {\"values\": [0.8235294117647058, 0.17647058823529413]}, \"header\": {\"values\": [\"Online\", \"In-Person\"]}, \"type\": \"table\", \"uid\": \"a973ad59-10bf-4061-bf1a-6914e719d452\"}, {\"cells\": {\"values\": [0.8, 0.2]}, \"header\": {\"values\": [\"Online\", \"In-Person\"]}, \"type\": \"table\", \"uid\": \"eaea5b0b-d3b2-4ddf-80c8-05283c34fe14\"}, {\"cells\": {\"values\": [0.875, 0.125]}, \"header\": {\"values\": [\"In-Person\", \"Online\"]}, \"type\": \"table\", \"uid\": \"c934dab9-37c4-43ab-8505-67b05a3da365\"}, {\"cells\": {\"values\": [0.7959183673469388, 0.1836734693877551, 0.02040816326530612]}, \"header\": {\"values\": [\"In-Person\", \"Online\", \"Other\"]}, \"type\": \"table\", \"uid\": \"36607615-aa8e-4033-9c5e-bd58cf671a9f\"}, {\"cells\": {\"values\": [0.9747899159663865, 0.01680672268907563, 0.008403361344537815]}, \"header\": {\"values\": [\"In-Person\", \"Other\", \"Online\"]}, \"type\": \"table\", \"uid\": \"24f65895-f483-437e-acb3-eceab72b0b83\"}, {\"cells\": {\"values\": [0.9580838323353293, 0.023952095808383235, 0.017964071856287425]}, \"header\": {\"values\": [\"In-Person\", \"Other\", \"Online\"]}, \"type\": \"table\", \"uid\": \"ae52b4bb-aaef-4eea-8d8b-9cf01edebc08\"}, {\"cells\": {\"values\": [0.6363636363636364, 0.36363636363636365]}, \"header\": {\"values\": [\"In-Person\", \"Online\"]}, \"type\": \"table\", \"uid\": \"e3ec4ed2-2184-4501-9b24-8dcb012b762e\"}, {\"cells\": {\"values\": [1.0]}, \"header\": {\"values\": [\"In-Person\"]}, \"type\": \"table\", \"uid\": \"f92cd0d1-4460-417f-8fa8-9530e5fef2b7\"}, {\"cells\": {\"values\": [1.0]}, \"header\": {\"values\": [\"Online\"]}, \"type\": \"table\", \"uid\": \"ce5f5887-4491-4d51-957c-e57c4c1a646e\"}], {\"title\": {\"text\": \"Proportion of Purchase Mode by Item Category\"}, \"updatemenus\": [{\"active\": -1, \"buttons\": [{\"args\": [{\"visible\": [true, false, false, false, false, false, false, false, false, false, false, false, false, false, false, false, false, false, false, false, false, false, false, false, false, false, false, false, false, false, false]}], \"label\": \"Arts and Crafts kit\", \"method\": \"update\"}, {\"args\": [{\"visible\": [false, true, false, false, false, false, false, false, false, false, false, false, false, false, false, false, false, false, false, false, false, false, false, false, false, false, false, false, false, false, false]}], \"label\": \"Bicycles or bicycle equipment\", \"method\": \"update\"}, {\"args\": [{\"visible\": [false, false, true, false, false, false, false, false, false, false, false, false, false, false, false, false, false, false, false, false, false, false, false, false, false, false, false, false, false, false, false]}], \"label\": \"Boat, with motor\", \"method\": \"update\"}, {\"args\": [{\"visible\": [false, false, false, true, false, false, false, false, false, false, false, false, false, false, false, false, false, false, false, false, false, false, false, false, false, false, false, false, false, false, false]}], \"label\": \"Boat, without motor\", \"method\": \"update\"}, {\"args\": [{\"visible\": [false, false, false, false, true, false, false, false, false, false, false, false, false, false, false, false, false, false, false, false, false, false, false, false, false, false, false, false, false, false, false]}], \"label\": \"Camping Equipment\", \"method\": \"update\"}, {\"args\": [{\"visible\": [false, false, false, false, false, true, false, false, false, false, false, false, false, false, false, false, false, false, false, false, false, false, false, false, false, false, false, false, false, false, false]}], \"label\": \"Computer accessories\", \"method\": \"update\"}, {\"args\": [{\"visible\": [false, false, false, false, false, false, true, false, false, false, false, false, false, false, false, false, false, false, false, false, false, false, false, false, false, false, false, false, false, false, false]}], \"label\": \"DVD Players, VCRs, DVRs, or vi\", \"method\": \"update\"}, {\"args\": [{\"visible\": [false, false, false, false, false, false, false, true, false, false, false, false, false, false, false, false, false, false, false, false, false, false, false, false, false, false, false, false, false, false, false]}], \"label\": \"General Sports Equipment (excl\", \"method\": \"update\"}, {\"args\": [{\"visible\": [false, false, false, false, false, false, false, false, true, false, false, false, false, false, false, false, false, false, false, false, false, false, false, false, false, false, false, false, false, false, false]}], \"label\": \"Health and Exercise Equipment\", \"method\": \"update\"}, {\"args\": [{\"visible\": [false, false, false, false, false, false, false, false, false, true, false, false, false, false, false, false, false, false, false, false, false, false, false, false, false, false, false, false, false, false, false]}], \"label\": \"Hunting and Fishing Equipment\", \"method\": \"update\"}, {\"args\": [{\"visible\": [false, false, false, false, false, false, false, false, false, false, true, false, false, false, false, false, false, false, false, false, false, false, false, false, false, false, false, false, false, false, false]}], \"label\": \"Lawn mowing Machinery and Othe\", \"method\": \"update\"}, {\"args\": [{\"visible\": [false, false, false, false, false, false, false, false, false, false, false, true, false, false, false, false, false, false, false, false, false, false, false, false, false, false, false, false, false, false, false]}], \"label\": \"Non-powered Tools\", \"method\": \"update\"}, {\"args\": [{\"visible\": [false, false, false, false, false, false, false, false, false, false, false, false, true, false, false, false, false, false, false, false, false, false, false, false, false, false, false, false, false, false, false]}], \"label\": \"Other Attachable Type Camper\", \"method\": \"update\"}, {\"args\": [{\"visible\": [false, false, false, false, false, false, false, false, false, false, false, false, false, true, false, false, false, false, false, false, false, false, false, false, false, false, false, false, false, false, false]}], \"label\": \"Other Household Appliances\", \"method\": \"update\"}, {\"args\": [{\"visible\": [false, false, false, false, false, false, false, false, false, false, false, false, false, false, true, false, false, false, false, false, false, false, false, false, false, false, false, false, false, false, false]}], \"label\": \"Other Sports, Recreation and E\", \"method\": \"update\"}, {\"args\": [{\"visible\": [false, false, false, false, false, false, false, false, false, false, false, false, false, false, false, true, false, false, false, false, false, false, false, false, false, false, false, false, false, false, false]}], \"label\": \"Other household appliances, in\", \"method\": \"update\"}, {\"args\": [{\"visible\": [false, false, false, false, false, false, false, false, false, false, false, false, false, false, false, false, true, false, false, false, false, false, false, false, false, false, false, false, false, false, false]}], \"label\": \"Other sound and video equipmen\", \"method\": \"update\"}, {\"args\": [{\"visible\": [false, false, false, false, false, false, false, false, false, false, false, false, false, false, false, false, false, true, false, false, false, false, false, false, false, false, false, false, false, false, false]}], \"label\": \"Other vehicle\", \"method\": \"update\"}, {\"args\": [{\"visible\": [false, false, false, false, false, false, false, false, false, false, false, false, false, false, false, false, false, false, true, false, false, false, false, false, false, false, false, false, false, false, false]}], \"label\": \"Pets, pet supplies and medicin\", \"method\": \"update\"}, {\"args\": [{\"visible\": [false, false, false, false, false, false, false, false, false, false, false, false, false, false, false, false, false, false, false, true, false, false, false, false, false, false, false, false, false, false, false]}], \"label\": \"Playground Equipment\", \"method\": \"update\"}, {\"args\": [{\"visible\": [false, false, false, false, false, false, false, false, false, false, false, false, false, false, false, false, false, false, false, false, true, false, false, false, false, false, false, false, false, false, false]}], \"label\": \"Power Tools\", \"method\": \"update\"}, {\"args\": [{\"visible\": [false, false, false, false, false, false, false, false, false, false, false, false, false, false, false, false, false, false, false, false, false, true, false, false, false, false, false, false, false, false, false]}], \"label\": \"Purchased music files, CDs, or\", \"method\": \"update\"}, {\"args\": [{\"visible\": [false, false, false, false, false, false, false, false, false, false, false, false, false, false, false, false, false, false, false, false, false, false, true, false, false, false, false, false, false, false, false]}], \"label\": \"Purchased video files, Blu-Ray\", \"method\": \"update\"}, {\"args\": [{\"visible\": [false, false, false, false, false, false, false, false, false, false, false, false, false, false, false, false, false, false, false, false, false, false, false, true, false, false, false, false, false, false, false]}], \"label\": \"Stereos, radios, speakers, and\", \"method\": \"update\"}, {\"args\": [{\"visible\": [false, false, false, false, false, false, false, false, false, false, false, false, false, false, false, false, false, false, false, false, false, false, false, false, true, false, false, false, false, false, false]}], \"label\": \"Televisions, all types includi\", \"method\": \"update\"}, {\"args\": [{\"visible\": [false, false, false, false, false, false, false, false, false, false, false, false, false, false, false, false, false, false, false, false, false, false, false, false, false, true, false, false, false, false, false]}], \"label\": \"Toys and games\", \"method\": \"update\"}, {\"args\": [{\"visible\": [false, false, false, false, false, false, false, false, false, false, false, false, false, false, false, false, false, false, false, false, false, false, false, false, false, false, true, false, false, false, false]}], \"label\": \"Trailer (other than camper typ\", \"method\": \"update\"}, {\"args\": [{\"visible\": [false, false, false, false, false, false, false, false, false, false, false, false, false, false, false, false, false, false, false, false, false, false, false, false, false, false, false, true, false, false, false]}], \"label\": \"Trailer Type Camper\", \"method\": \"update\"}, {\"args\": [{\"visible\": [false, false, false, false, false, false, false, false, false, false, false, false, false, false, false, false, false, false, false, false, false, false, false, false, false, false, false, false, true, false, false]}], \"label\": \"Video game hardware and access\", \"method\": \"update\"}, {\"args\": [{\"visible\": [false, false, false, false, false, false, false, false, false, false, false, false, false, false, false, false, false, false, false, false, false, false, false, false, false, false, false, false, false, true, false]}], \"label\": \"Water Sports Equipment\", \"method\": \"update\"}, {\"args\": [{\"visible\": [false, false, false, false, false, false, false, false, false, false, false, false, false, false, false, false, false, false, false, false, false, false, false, false, false, false, false, false, false, false, true]}], \"label\": \"Winter Sports Equipment\", \"method\": \"update\"}], \"type\": \"dropdown\", \"x\": 0.65, \"y\": 0.8}]}, {\"showLink\": false, \"linkText\": \"Export to plot.ly\", \"plotlyServerURL\": \"https://plot.ly\"})});</script><script type=\"text/javascript\">window.addEventListener(\"resize\", function(){window._Plotly.Plots.resize(document.getElementById(\"53c298c3-632f-4c2c-9977-a51a9d39c790\"));});</script>"
      ],
      "text/vnd.plotly.v1+html": [
       "<div id=\"53c298c3-632f-4c2c-9977-a51a9d39c790\" style=\"height: 525px; width: 100%;\" class=\"plotly-graph-div\"></div><script type=\"text/javascript\">require([\"plotly\"], function(Plotly) { window.PLOTLYENV=window.PLOTLYENV || {};window.PLOTLYENV.BASE_URL=\"https://plot.ly\";Plotly.newPlot(\"53c298c3-632f-4c2c-9977-a51a9d39c790\", [{\"cells\": {\"values\": [0.7727272727272727, 0.22727272727272727]}, \"header\": {\"values\": [\"In-Person\", \"Online\"]}, \"type\": \"table\", \"uid\": \"a88d4e3d-8929-450e-ac1a-5294bf6459bb\"}, {\"cells\": {\"values\": [0.7777777777777778, 0.1111111111111111, 0.1111111111111111]}, \"header\": {\"values\": [\"In-Person\", \"Online\", \"Other\"]}, \"type\": \"table\", \"uid\": \"8f023fbb-23eb-4a77-b121-50c64a403ba8\"}, {\"cells\": {\"values\": [0.9036144578313253, 0.07228915662650602, 0.024096385542168676]}, \"header\": {\"values\": [\"In-Person\", \"Online\", \"Other\"]}, \"type\": \"table\", \"uid\": \"8b45f551-eb6c-4672-b04f-e9e8a94edcfc\"}, {\"cells\": {\"values\": [0.6956521739130435, 0.30434782608695654]}, \"header\": {\"values\": [\"In-Person\", \"Online\"]}, \"type\": \"table\", \"uid\": \"74da1f81-b23a-4dae-8b7a-da87f43fc34e\"}, {\"cells\": {\"values\": [0.75, 0.25]}, \"header\": {\"values\": [\"In-Person\", \"Online\"]}, \"type\": \"table\", \"uid\": \"56695edd-0db2-4e32-b3e2-0dc8714ee34c\"}, {\"cells\": {\"values\": [1.0]}, \"header\": {\"values\": [\"In-Person\"]}, \"type\": \"table\", \"uid\": \"c11a78cb-452a-42da-b4ce-f3fc3a5521a2\"}, {\"cells\": {\"values\": [0.75, 0.25]}, \"header\": {\"values\": [\"In-Person\", \"Online\"]}, \"type\": \"table\", \"uid\": \"64772138-854a-4905-8749-08da7b4baa3e\"}, {\"cells\": {\"values\": [0.6923076923076923, 0.3076923076923077]}, \"header\": {\"values\": [\"In-Person\", \"Online\"]}, \"type\": \"table\", \"uid\": \"316c15ea-06c6-4881-bd16-d095be104248\"}, {\"cells\": {\"values\": [0.6363636363636364, 0.36363636363636365]}, \"header\": {\"values\": [\"In-Person\", \"Online\"]}, \"type\": \"table\", \"uid\": \"3cc039c2-8fe4-4ec1-a0c4-0ccc0aecea0c\"}, {\"cells\": {\"values\": [0.7222222222222222, 0.2777777777777778]}, \"header\": {\"values\": [\"In-Person\", \"Online\"]}, \"type\": \"table\", \"uid\": \"2098e85f-4cb6-4614-b27f-6d30f4004ccb\"}, {\"cells\": {\"values\": [1.0]}, \"header\": {\"values\": [\"In-Person\"]}, \"type\": \"table\", \"uid\": \"63c8bc06-97f6-4b74-9975-7dbb7045187e\"}, {\"cells\": {\"values\": [1.0]}, \"header\": {\"values\": [\"In-Person\"]}, \"type\": \"table\", \"uid\": \"830d7986-e15a-4581-87c2-d796a4439bd7\"}, {\"cells\": {\"values\": [1.0]}, \"header\": {\"values\": [\"In-Person\"]}, \"type\": \"table\", \"uid\": \"922356c2-f85d-4a62-9018-6a27181d52d0\"}, {\"cells\": {\"values\": [1.0]}, \"header\": {\"values\": [\"Online\"]}, \"type\": \"table\", \"uid\": \"7362e561-1c40-48f4-b0f3-8eafa842be1c\"}, {\"cells\": {\"values\": [0.6666666666666666, 0.3333333333333333]}, \"header\": {\"values\": [\"In-Person\", \"Other\"]}, \"type\": \"table\", \"uid\": \"111714bc-023f-47a5-b4b1-39b0a754f298\"}, {\"cells\": {\"values\": [0.4, 0.4, 0.2]}, \"header\": {\"values\": [\"Online\", \"In-Person\", \"Other\"]}, \"type\": \"table\", \"uid\": \"13845eb5-1227-4bc9-8021-b888578ed33d\"}, {\"cells\": {\"values\": [0.5, 0.5]}, \"header\": {\"values\": [\"Online\", \"In-Person\"]}, \"type\": \"table\", \"uid\": \"cbf6e643-3a31-47a0-b136-07a683d636db\"}, {\"cells\": {\"values\": [0.9943502824858758, 0.005649717514124294]}, \"header\": {\"values\": [\"In-Person\", \"Online\"]}, \"type\": \"table\", \"uid\": \"323635c4-c04e-44e5-85a4-5fcee4d035f1\"}, {\"cells\": {\"values\": [0.803030303030303, 0.19696969696969696]}, \"header\": {\"values\": [\"In-Person\", \"Online\"]}, \"type\": \"table\", \"uid\": \"d1d53c52-41f3-4789-96d2-77fec7f572f5\"}, {\"cells\": {\"values\": [1.0]}, \"header\": {\"values\": [\"In-Person\"]}, \"type\": \"table\", \"uid\": \"550b979f-ad47-4af6-b8ed-8d5f3f62a4f6\"}, {\"cells\": {\"values\": [1.0]}, \"header\": {\"values\": [\"In-Person\"]}, \"type\": \"table\", \"uid\": \"06100570-2d9b-454b-b34b-fe9077da1ffa\"}, {\"cells\": {\"values\": [1.0]}, \"header\": {\"values\": [\"Online\"]}, \"type\": \"table\", \"uid\": \"1ae4de71-63c1-4669-93e0-bd9e7a72be2f\"}, {\"cells\": {\"values\": [0.8235294117647058, 0.17647058823529413]}, \"header\": {\"values\": [\"Online\", \"In-Person\"]}, \"type\": \"table\", \"uid\": \"a973ad59-10bf-4061-bf1a-6914e719d452\"}, {\"cells\": {\"values\": [0.8, 0.2]}, \"header\": {\"values\": [\"Online\", \"In-Person\"]}, \"type\": \"table\", \"uid\": \"eaea5b0b-d3b2-4ddf-80c8-05283c34fe14\"}, {\"cells\": {\"values\": [0.875, 0.125]}, \"header\": {\"values\": [\"In-Person\", \"Online\"]}, \"type\": \"table\", \"uid\": \"c934dab9-37c4-43ab-8505-67b05a3da365\"}, {\"cells\": {\"values\": [0.7959183673469388, 0.1836734693877551, 0.02040816326530612]}, \"header\": {\"values\": [\"In-Person\", \"Online\", \"Other\"]}, \"type\": \"table\", \"uid\": \"36607615-aa8e-4033-9c5e-bd58cf671a9f\"}, {\"cells\": {\"values\": [0.9747899159663865, 0.01680672268907563, 0.008403361344537815]}, \"header\": {\"values\": [\"In-Person\", \"Other\", \"Online\"]}, \"type\": \"table\", \"uid\": \"24f65895-f483-437e-acb3-eceab72b0b83\"}, {\"cells\": {\"values\": [0.9580838323353293, 0.023952095808383235, 0.017964071856287425]}, \"header\": {\"values\": [\"In-Person\", \"Other\", \"Online\"]}, \"type\": \"table\", \"uid\": \"ae52b4bb-aaef-4eea-8d8b-9cf01edebc08\"}, {\"cells\": {\"values\": [0.6363636363636364, 0.36363636363636365]}, \"header\": {\"values\": [\"In-Person\", \"Online\"]}, \"type\": \"table\", \"uid\": \"e3ec4ed2-2184-4501-9b24-8dcb012b762e\"}, {\"cells\": {\"values\": [1.0]}, \"header\": {\"values\": [\"In-Person\"]}, \"type\": \"table\", \"uid\": \"f92cd0d1-4460-417f-8fa8-9530e5fef2b7\"}, {\"cells\": {\"values\": [1.0]}, \"header\": {\"values\": [\"Online\"]}, \"type\": \"table\", \"uid\": \"ce5f5887-4491-4d51-957c-e57c4c1a646e\"}], {\"title\": {\"text\": \"Proportion of Purchase Mode by Item Category\"}, \"updatemenus\": [{\"active\": -1, \"buttons\": [{\"args\": [{\"visible\": [true, false, false, false, false, false, false, false, false, false, false, false, false, false, false, false, false, false, false, false, false, false, false, false, false, false, false, false, false, false, false]}], \"label\": \"Arts and Crafts kit\", \"method\": \"update\"}, {\"args\": [{\"visible\": [false, true, false, false, false, false, false, false, false, false, false, false, false, false, false, false, false, false, false, false, false, false, false, false, false, false, false, false, false, false, false]}], \"label\": \"Bicycles or bicycle equipment\", \"method\": \"update\"}, {\"args\": [{\"visible\": [false, false, true, false, false, false, false, false, false, false, false, false, false, false, false, false, false, false, false, false, false, false, false, false, false, false, false, false, false, false, false]}], \"label\": \"Boat, with motor\", \"method\": \"update\"}, {\"args\": [{\"visible\": [false, false, false, true, false, false, false, false, false, false, false, false, false, false, false, false, false, false, false, false, false, false, false, false, false, false, false, false, false, false, false]}], \"label\": \"Boat, without motor\", \"method\": \"update\"}, {\"args\": [{\"visible\": [false, false, false, false, true, false, false, false, false, false, false, false, false, false, false, false, false, false, false, false, false, false, false, false, false, false, false, false, false, false, false]}], \"label\": \"Camping Equipment\", \"method\": \"update\"}, {\"args\": [{\"visible\": [false, false, false, false, false, true, false, false, false, false, false, false, false, false, false, false, false, false, false, false, false, false, false, false, false, false, false, false, false, false, false]}], \"label\": \"Computer accessories\", \"method\": \"update\"}, {\"args\": [{\"visible\": [false, false, false, false, false, false, true, false, false, false, false, false, false, false, false, false, false, false, false, false, false, false, false, false, false, false, false, false, false, false, false]}], \"label\": \"DVD Players, VCRs, DVRs, or vi\", \"method\": \"update\"}, {\"args\": [{\"visible\": [false, false, false, false, false, false, false, true, false, false, false, false, false, false, false, false, false, false, false, false, false, false, false, false, false, false, false, false, false, false, false]}], \"label\": \"General Sports Equipment (excl\", \"method\": \"update\"}, {\"args\": [{\"visible\": [false, false, false, false, false, false, false, false, true, false, false, false, false, false, false, false, false, false, false, false, false, false, false, false, false, false, false, false, false, false, false]}], \"label\": \"Health and Exercise Equipment\", \"method\": \"update\"}, {\"args\": [{\"visible\": [false, false, false, false, false, false, false, false, false, true, false, false, false, false, false, false, false, false, false, false, false, false, false, false, false, false, false, false, false, false, false]}], \"label\": \"Hunting and Fishing Equipment\", \"method\": \"update\"}, {\"args\": [{\"visible\": [false, false, false, false, false, false, false, false, false, false, true, false, false, false, false, false, false, false, false, false, false, false, false, false, false, false, false, false, false, false, false]}], \"label\": \"Lawn mowing Machinery and Othe\", \"method\": \"update\"}, {\"args\": [{\"visible\": [false, false, false, false, false, false, false, false, false, false, false, true, false, false, false, false, false, false, false, false, false, false, false, false, false, false, false, false, false, false, false]}], \"label\": \"Non-powered Tools\", \"method\": \"update\"}, {\"args\": [{\"visible\": [false, false, false, false, false, false, false, false, false, false, false, false, true, false, false, false, false, false, false, false, false, false, false, false, false, false, false, false, false, false, false]}], \"label\": \"Other Attachable Type Camper\", \"method\": \"update\"}, {\"args\": [{\"visible\": [false, false, false, false, false, false, false, false, false, false, false, false, false, true, false, false, false, false, false, false, false, false, false, false, false, false, false, false, false, false, false]}], \"label\": \"Other Household Appliances\", \"method\": \"update\"}, {\"args\": [{\"visible\": [false, false, false, false, false, false, false, false, false, false, false, false, false, false, true, false, false, false, false, false, false, false, false, false, false, false, false, false, false, false, false]}], \"label\": \"Other Sports, Recreation and E\", \"method\": \"update\"}, {\"args\": [{\"visible\": [false, false, false, false, false, false, false, false, false, false, false, false, false, false, false, true, false, false, false, false, false, false, false, false, false, false, false, false, false, false, false]}], \"label\": \"Other household appliances, in\", \"method\": \"update\"}, {\"args\": [{\"visible\": [false, false, false, false, false, false, false, false, false, false, false, false, false, false, false, false, true, false, false, false, false, false, false, false, false, false, false, false, false, false, false]}], \"label\": \"Other sound and video equipmen\", \"method\": \"update\"}, {\"args\": [{\"visible\": [false, false, false, false, false, false, false, false, false, false, false, false, false, false, false, false, false, true, false, false, false, false, false, false, false, false, false, false, false, false, false]}], \"label\": \"Other vehicle\", \"method\": \"update\"}, {\"args\": [{\"visible\": [false, false, false, false, false, false, false, false, false, false, false, false, false, false, false, false, false, false, true, false, false, false, false, false, false, false, false, false, false, false, false]}], \"label\": \"Pets, pet supplies and medicin\", \"method\": \"update\"}, {\"args\": [{\"visible\": [false, false, false, false, false, false, false, false, false, false, false, false, false, false, false, false, false, false, false, true, false, false, false, false, false, false, false, false, false, false, false]}], \"label\": \"Playground Equipment\", \"method\": \"update\"}, {\"args\": [{\"visible\": [false, false, false, false, false, false, false, false, false, false, false, false, false, false, false, false, false, false, false, false, true, false, false, false, false, false, false, false, false, false, false]}], \"label\": \"Power Tools\", \"method\": \"update\"}, {\"args\": [{\"visible\": [false, false, false, false, false, false, false, false, false, false, false, false, false, false, false, false, false, false, false, false, false, true, false, false, false, false, false, false, false, false, false]}], \"label\": \"Purchased music files, CDs, or\", \"method\": \"update\"}, {\"args\": [{\"visible\": [false, false, false, false, false, false, false, false, false, false, false, false, false, false, false, false, false, false, false, false, false, false, true, false, false, false, false, false, false, false, false]}], \"label\": \"Purchased video files, Blu-Ray\", \"method\": \"update\"}, {\"args\": [{\"visible\": [false, false, false, false, false, false, false, false, false, false, false, false, false, false, false, false, false, false, false, false, false, false, false, true, false, false, false, false, false, false, false]}], \"label\": \"Stereos, radios, speakers, and\", \"method\": \"update\"}, {\"args\": [{\"visible\": [false, false, false, false, false, false, false, false, false, false, false, false, false, false, false, false, false, false, false, false, false, false, false, false, true, false, false, false, false, false, false]}], \"label\": \"Televisions, all types includi\", \"method\": \"update\"}, {\"args\": [{\"visible\": [false, false, false, false, false, false, false, false, false, false, false, false, false, false, false, false, false, false, false, false, false, false, false, false, false, true, false, false, false, false, false]}], \"label\": \"Toys and games\", \"method\": \"update\"}, {\"args\": [{\"visible\": [false, false, false, false, false, false, false, false, false, false, false, false, false, false, false, false, false, false, false, false, false, false, false, false, false, false, true, false, false, false, false]}], \"label\": \"Trailer (other than camper typ\", \"method\": \"update\"}, {\"args\": [{\"visible\": [false, false, false, false, false, false, false, false, false, false, false, false, false, false, false, false, false, false, false, false, false, false, false, false, false, false, false, true, false, false, false]}], \"label\": \"Trailer Type Camper\", \"method\": \"update\"}, {\"args\": [{\"visible\": [false, false, false, false, false, false, false, false, false, false, false, false, false, false, false, false, false, false, false, false, false, false, false, false, false, false, false, false, true, false, false]}], \"label\": \"Video game hardware and access\", \"method\": \"update\"}, {\"args\": [{\"visible\": [false, false, false, false, false, false, false, false, false, false, false, false, false, false, false, false, false, false, false, false, false, false, false, false, false, false, false, false, false, true, false]}], \"label\": \"Water Sports Equipment\", \"method\": \"update\"}, {\"args\": [{\"visible\": [false, false, false, false, false, false, false, false, false, false, false, false, false, false, false, false, false, false, false, false, false, false, false, false, false, false, false, false, false, false, true]}], \"label\": \"Winter Sports Equipment\", \"method\": \"update\"}], \"type\": \"dropdown\", \"x\": 0.65, \"y\": 0.8}]}, {\"showLink\": false, \"linkText\": \"Export to plot.ly\", \"plotlyServerURL\": \"https://plot.ly\"})});</script><script type=\"text/javascript\">window.addEventListener(\"resize\", function(){window._Plotly.Plots.resize(document.getElementById(\"53c298c3-632f-4c2c-9977-a51a9d39c790\"));});</script>"
      ]
     },
     "metadata": {},
     "output_type": "display_data"
    }
   ],
   "source": [
    "layout = dict(title='Proportion of Purchase Mode by Item Category',\n",
    "              updatemenus=updatemenus)\n",
    "\n",
    "figure = dict(data=table_traces, layout=layout)\n",
    "\n",
    "iplot(figure)"
   ]
  },
  {
   "cell_type": "code",
   "execution_count": null,
   "metadata": {},
   "outputs": [],
   "source": []
  }
 ],
 "metadata": {
  "hide_input": false,
  "kernelspec": {
   "display_name": "Python 3",
   "language": "python",
   "name": "python3"
  },
  "language_info": {
   "codemirror_mode": {
    "name": "ipython",
    "version": 3
   },
   "file_extension": ".py",
   "mimetype": "text/x-python",
   "name": "python",
   "nbconvert_exporter": "python",
   "pygments_lexer": "ipython3",
   "version": "3.6.8"
  }
 },
 "nbformat": 4,
 "nbformat_minor": 2
}
