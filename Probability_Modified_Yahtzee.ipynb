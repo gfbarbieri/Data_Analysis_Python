{
 "cells": [
  {
   "cell_type": "markdown",
   "metadata": {},
   "source": [
    "# Probability: Modified Yahtzee\n",
    "\n",
    "For reference, I reprinted the problem below.\n",
    "\n",
    ">There are 10 coins, each blank on one side and numbered on the other side with numbers 1 - 10. All ten coins are tossed and the sum of the numbers landing face up is calculated. What is the probability that this sum is at least 45?\n",
    "\n",
    "I know that this problem is not <i>exactly</i> Yahtzee, as Yahtzee is played with five identical dice and this game is played with 10 dissimilar coins. However, the concept is similar in that we are tossing things on the table and summing the values that landed face up.\n",
    "\n",
    "In this game, the coins share half of their possible outcomes, specifically zero or blank, but the other outcomes range from 1 - 10. The probability of the blank/zero side or the numbered side landing face up is 50%, so in that sense it is a fair coin. The numeric value, however, is different for each coin."
   ]
  },
  {
   "cell_type": "markdown",
   "metadata": {},
   "source": [
    "## Import Libraries\n",
    "\n",
    "We will use the <b>SymPy</b> library and its statistics module for our sampling functions. We will also use <b>Itertools</b> library to help generalize the problem a bit in case the reader wants to change the number of dissimilar coins tossed. Lastly, we will use <b>Numpy</b>, <b>Pandas</b>, and <b>Matplotlib</b> libraries for a bit of plotting at the end."
   ]
  },
  {
   "cell_type": "code",
   "execution_count": 1,
   "metadata": {},
   "outputs": [],
   "source": [
    "from sympy.stats import *\n",
    "import itertools as it, pandas as pd, matplotlib.pyplot as plt, numpy as np"
   ]
  },
  {
   "cell_type": "markdown",
   "metadata": {},
   "source": [
    "## Bernoulli Random Variable\n",
    "\n",
    "Before we dive into the problem, lets briefly go over the <b>Bernoulli</b> function, which we will use exclusively to toss our coins and create the underlying probability density function.\n",
    "\n",
    "A Bernoulli process results in only two possible outcomes, sometimes interpreted as \"success\" or \"failure\" of an event to take place. The Bernoulli function in SymPy allows us to define those two possible outcomes by passing values through the <b>succ</b> and <b>fail</b> arguments. Typically, the probability defined in the Bernoulli process is the probability associated with a successful outcome. In our case, the probability of both failure and success is 50%. That is, regardless of the numeric value associated with a successful outcome, both the numeric value and zero are equally likely.\n",
    "\n",
    "Let's create a Bernoulli random variable named ${Y}$ which has a probability of 50% to be either 1 or 0."
   ]
  },
  {
   "cell_type": "code",
   "execution_count": 2,
   "metadata": {},
   "outputs": [],
   "source": [
    "Y = Bernoulli('Y',0.50,succ=1,fail=0)"
   ]
  },
  {
   "cell_type": "markdown",
   "metadata": {},
   "source": [
    "From here, we can get back the probability for each event, in this case either 1 or 0, and we see that both events occur with 50% probability."
   ]
  },
  {
   "cell_type": "code",
   "execution_count": 3,
   "metadata": {},
   "outputs": [
    {
     "data": {
      "text/plain": [
       "BernoulliDistribution(0.5, 1, 0)"
      ]
     },
     "execution_count": 3,
     "metadata": {},
     "output_type": "execute_result"
    }
   ],
   "source": [
    "density(Y)"
   ]
  },
  {
   "cell_type": "markdown",
   "metadata": {},
   "source": [
    "There are also functions to calculate the expected value and the variance of ${Y}$"
   ]
  },
  {
   "cell_type": "code",
   "execution_count": 4,
   "metadata": {},
   "outputs": [
    {
     "data": {
      "text/plain": [
       "0.500000000000000"
      ]
     },
     "execution_count": 4,
     "metadata": {},
     "output_type": "execute_result"
    }
   ],
   "source": [
    "E(Y)"
   ]
  },
  {
   "cell_type": "code",
   "execution_count": 5,
   "metadata": {},
   "outputs": [
    {
     "data": {
      "text/plain": [
       "0.250000000000000"
      ]
     },
     "execution_count": 5,
     "metadata": {},
     "output_type": "execute_result"
    }
   ],
   "source": [
    "variance(Y)"
   ]
  },
  {
   "cell_type": "markdown",
   "metadata": {},
   "source": [
    "Lastly, there are functions that draw a sample from the underlying distribution. Here I draw only one value from our Bernoulli random variable ${Y}$ using the <b>sample</b> function and 10 values using the <b>sample_iter</b> function."
   ]
  },
  {
   "cell_type": "code",
   "execution_count": 6,
   "metadata": {},
   "outputs": [
    {
     "name": "stdout",
     "output_type": "stream",
     "text": [
      "0 [0, 0, 1, 1, 1, 1, 1, 1, 0, 0]\n"
     ]
    }
   ],
   "source": [
    "print(sample(Y), list(sample_iter(Y,numsamples=10)))"
   ]
  },
  {
   "cell_type": "markdown",
   "metadata": {},
   "source": [
    "## Toss the Coins\n",
    "\n",
    "Getting back to the problem, the question involves assessing the results of flipping 10 coins simultaneously. Since each coin in the problem has a different expected value, due to the different numeric values associated with a successful outcome, we will need to create 10 different Bernoulli random variables."
   ]
  },
  {
   "cell_type": "markdown",
   "metadata": {},
   "source": [
    "### Naming Random Variables\n",
    "\n",
    "To generalize the process of creating more than one Bernoulli random variable, I will use the <b>Itertools</b> library to create a list of numeric values, convert them to strings, and use the strings as the name of the random variable. The benefit of this approach versus explicitly coding 10 different Bernoulli random variables is one may experiment with any number of coins."
   ]
  },
  {
   "cell_type": "code",
   "execution_count": 7,
   "metadata": {},
   "outputs": [
    {
     "data": {
      "text/plain": [
       "['0', '1', '2', '3', '4', '5', '6', '7', '8', '9']"
      ]
     },
     "execution_count": 7,
     "metadata": {},
     "output_type": "execute_result"
    }
   ],
   "source": [
    "num_coins = 10\n",
    "\n",
    "coin_names = list(''.join(map(str,it.islice(it.count(),num_coins))))\n",
    "\n",
    "coin_names"
   ]
  },
  {
   "cell_type": "markdown",
   "metadata": {},
   "source": [
    "### Toss Coins, Sum Results\n",
    "\n",
    "We will create a Bernoulli random variable for each name in the list <b>coin_names</b>. We will use a counter <b>i</b> to increment the numeric value associated with a successful outcome, starting from 1 and ending on 10.\n",
    "\n",
    "The for-loop will both create the 10 independent Bernoulli random variables <i>and</i> create a new random variable which is the sum of the 10 independent Bernoulli random variables. Explicitly, the for-loop says if we are at the start of the <b>coin_names</b> list, create a Bernoulli variable named ${\"0\"}$ and set it to the random variable ${X}$. For each subsequent place in the list <b>coin_names</b> create another Bernoulli random variable and add it to the random variable ${X}$.\n",
    "\n",
    "When we have reached the end of the list <b>coin_names</b>, no more Bernoulli random variables will be added to the random variable ${X}$."
   ]
  },
  {
   "cell_type": "code",
   "execution_count": 8,
   "metadata": {},
   "outputs": [],
   "source": [
    "i = 1\n",
    "\n",
    "for count, name in enumerate(coin_names):\n",
    "    if count == 0:\n",
    "        X = Bernoulli(name,0.50,succ=i,fail=0)\n",
    "    else:\n",
    "        X += Bernoulli(name,0.50,succ=i,fail=0)\n",
    "    i += 1"
   ]
  },
  {
   "cell_type": "markdown",
   "metadata": {},
   "source": [
    "### Probability Density Function (PDF)\n",
    "\n",
    "Using the <b>density</b> function, we can print the probability density function of the random variable ${X}$. It will list every possible outcome of flipping the 10 coins and summing the results, as well as the probability associated with each value."
   ]
  },
  {
   "cell_type": "code",
   "execution_count": 9,
   "metadata": {},
   "outputs": [
    {
     "data": {
      "text/plain": [
       "{0: 0.000976562500000000,\n",
       " 1: 0.000976562500000000,\n",
       " 2: 0.000976562500000000,\n",
       " 3: 0.00195312500000000,\n",
       " 4: 0.00195312500000000,\n",
       " 5: 0.00292968750000000,\n",
       " 6: 0.00390625000000000,\n",
       " 7: 0.00488281250000000,\n",
       " 8: 0.00585937500000000,\n",
       " 9: 0.00781250000000000,\n",
       " 10: 0.00976562500000000,\n",
       " 11: 0.0107421875000000,\n",
       " 12: 0.0126953125000000,\n",
       " 13: 0.0146484375000000,\n",
       " 14: 0.0166015625000000,\n",
       " 15: 0.0195312500000000,\n",
       " 16: 0.0214843750000000,\n",
       " 17: 0.0234375000000000,\n",
       " 18: 0.0263671875000000,\n",
       " 19: 0.0283203125000000,\n",
       " 20: 0.0302734375000000,\n",
       " 21: 0.0322265625000000,\n",
       " 22: 0.0341796875000000,\n",
       " 23: 0.0351562500000000,\n",
       " 24: 0.0371093750000000,\n",
       " 25: 0.0380859375000000,\n",
       " 26: 0.0380859375000000,\n",
       " 27: 0.0390625000000000,\n",
       " 28: 0.0390625000000000,\n",
       " 29: 0.0380859375000000,\n",
       " 30: 0.0380859375000000,\n",
       " 31: 0.0371093750000000,\n",
       " 32: 0.0351562500000000,\n",
       " 33: 0.0341796875000000,\n",
       " 34: 0.0322265625000000,\n",
       " 35: 0.0302734375000000,\n",
       " 36: 0.0283203125000000,\n",
       " 37: 0.0263671875000000,\n",
       " 38: 0.0234375000000000,\n",
       " 39: 0.0214843750000000,\n",
       " 40: 0.0195312500000000,\n",
       " 41: 0.0166015625000000,\n",
       " 42: 0.0146484375000000,\n",
       " 43: 0.0126953125000000,\n",
       " 44: 0.0107421875000000,\n",
       " 45: 0.00976562500000000,\n",
       " 46: 0.00781250000000000,\n",
       " 47: 0.00585937500000000,\n",
       " 48: 0.00488281250000000,\n",
       " 49: 0.00390625000000000,\n",
       " 50: 0.00292968750000000,\n",
       " 51: 0.00195312500000000,\n",
       " 52: 0.00195312500000000,\n",
       " 53: 0.000976562500000000,\n",
       " 54: 0.000976562500000000,\n",
       " 55: 0.000976562500000000}"
      ]
     },
     "execution_count": 9,
     "metadata": {},
     "output_type": "execute_result"
    }
   ],
   "source": [
    "density(X)"
   ]
  },
  {
   "cell_type": "markdown",
   "metadata": {},
   "source": [
    "We are looking for the probability that the sum is at least 45. That means we want to sum all probabilities from 45 to 55. <b>SymPy</b> makes that very easy to answer using the <b>P</b> function and passing the condition ${X} \\geq\\ 45$. We see that the probability is about <b>4.2%</b>."
   ]
  },
  {
   "cell_type": "code",
   "execution_count": 10,
   "metadata": {},
   "outputs": [
    {
     "data": {
      "text/plain": [
       "0.0419921875000000"
      ]
     },
     "execution_count": 10,
     "metadata": {},
     "output_type": "execute_result"
    }
   ],
   "source": [
    "P(X>=45)"
   ]
  },
  {
   "cell_type": "markdown",
   "metadata": {},
   "source": [
    "### Plotting the PDF\n",
    "\n",
    "I thought it would be interesting to plot the density function. Let's throw the PDF into a <b>Pandas</b> Series, making sure to change the data time to <b>float</b> from what would otherwise be interpreted as an <b>object</b> data type."
   ]
  },
  {
   "cell_type": "code",
   "execution_count": 11,
   "metadata": {},
   "outputs": [
    {
     "data": {
      "text/plain": [
       "0    0.000977\n",
       "1    0.000977\n",
       "2    0.000977\n",
       "3    0.001953\n",
       "4    0.001953\n",
       "dtype: float64"
      ]
     },
     "execution_count": 11,
     "metadata": {},
     "output_type": "execute_result"
    }
   ],
   "source": [
    "df = pd.Series(density(X), dtype=np.dtype(float))\n",
    "df.head()"
   ]
  },
  {
   "cell_type": "markdown",
   "metadata": {},
   "source": [
    "Using <b>Matplotlib</b> we can both plot the PDF and shade in the region of the PDF where probability of ${X} \\geq\\ 45$. That is, we shade under the curve from ${X} = 45$ to ${X} = 55$."
   ]
  },
  {
   "cell_type": "code",
   "execution_count": 12,
   "metadata": {},
   "outputs": [
    {
     "data": {
      "image/png": "[encoded data removed]",
      "text/plain": [
       "<matplotlib.figure.Figure at 0x1e03a8e60b8>"
      ]
     },
     "metadata": {},
     "output_type": "display_data"
    }
   ],
   "source": [
    "#Create the figure.\n",
    "plt.figure()\n",
    "\n",
    "#Plot the density of X.\n",
    "plt.plot(df)\n",
    "\n",
    "#Hard-code the x- and y-axis limits.\n",
    "plt.ylim([0, 0.040])\n",
    "plt.xlim([0, 55])\n",
    "\n",
    "#Shade in the region under the PDF of X from X = 45 to X = 55.\n",
    "x = np.array(df.index).astype(int)[45:56]\n",
    "y1 = 0\n",
    "y2 = np.array(df[45:56])\n",
    "\n",
    "plt.fill_between(x, y1, y2)\n",
    "\n",
    "#Show the plot.\n",
    "plt.show()"
   ]
  }
 ],
 "metadata": {
  "kernelspec": {
   "display_name": "Python 3",
   "language": "python",
   "name": "python3"
  },
  "language_info": {
   "codemirror_mode": {
    "name": "ipython",
    "version": 3
   },
   "file_extension": ".py",
   "mimetype": "text/x-python",
   "name": "python",
   "nbconvert_exporter": "python",
   "pygments_lexer": "ipython3",
   "version": "3.5.4"
  }
 },
 "nbformat": 4,
 "nbformat_minor": 2
}
