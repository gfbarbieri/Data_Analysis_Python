{
 "cells": [
  {
   "cell_type": "markdown",
   "metadata": {},
   "source": [
    "# Probability: The Game-Show Problem\n",
    "\n",
    "The Game-Show Problem, or Monty Hall Problem according to <a href=\"https://en.wikipedia.org/wiki/Monty_Hall_problem\"> Wikipedia</a>, is brought up frequently. Whether it's an interesting puzzle presented by a friend as an anecdote, a scene in a movie, or in an introduction to probability textbook.\n",
    "\n",
    "The situation is as follows:\n",
    "1. You choose one of three doors. One has a desired prize, like a new car behind it and two have a goat. If your door has the desired prize behind it, you keep the prize (unclear on who keeps the goat).\n",
    "2. After choosing a door, the game show host <i>always opens one of the remaining two doors with a goat behind it</i>. That is, he always opens a door that has a goat behind it and is not the door you selected.\n",
    "3. The host then presents you with two options, to keep the door you selected or to switch to the last remaining unopened door.\n",
    "\n",
    "The question becomes, <b>which option maximizes your chance of winning the car?</b>"
   ]
  },
  {
   "cell_type": "markdown",
   "metadata": {},
   "source": [
    "Professor Morin mentions the problem in his book <a href=\"http://www.people.fas.harvard.edu/~djmorin/book.html\">Probability For the Enthusiastic Beginner</a> and provides several explanations. Having had experience with this scenario, the part I found most intriguing is his advice for convincing yourself of the answer:\n",
    "\n",
    ">\"It doesn't make any sense to argue about this problem for more than, say, 20 minutes, because at that point everyone should stop and just play the game!\"\n",
    "\n",
    "He is absolutely right and below is my little walk through simulating the Game-Show Problem. This post will show you that by always switching your choice of doors, the chance of winning the desired prize is 2/3."
   ]
  },
  {
   "cell_type": "markdown",
   "metadata": {},
   "source": [
    "### Import Libraries\n",
    "\n",
    "Lets import a few libraries."
   ]
  },
  {
   "cell_type": "code",
   "execution_count": 11,
   "metadata": {},
   "outputs": [],
   "source": [
    "import pandas as pd\n",
    "import numpy as np\n",
    "import matplotlib.pyplot as plt"
   ]
  },
  {
   "cell_type": "markdown",
   "metadata": {},
   "source": [
    "### Door Prizes\n",
    "\n",
    "Create a data frame called <b>door_prizes</b> where each value for <b>door_prizes</b> is either a \"P\" to symbolize the desired prize or \"G\" for goat. Two \"doors\" will have a goat, or \"G\", behind it and one \"door\" will have a \"P\" behind it to represent the prize.\n",
    "\n",
    "Now use the <b>sample</b> function in the <b>Pandas</b> library to randomly sort the three doors. We will need to reset the index because <b>sample</b> would return the original index values otherwise."
   ]
  },
  {
   "cell_type": "code",
   "execution_count": 2,
   "metadata": {},
   "outputs": [
    {
     "data": {
      "text/html": [
       "<div>\n",
       "<style>\n",
       "    .dataframe thead tr:only-child th {\n",
       "        text-align: right;\n",
       "    }\n",
       "\n",
       "    .dataframe thead th {\n",
       "        text-align: left;\n",
       "    }\n",
       "\n",
       "    .dataframe tbody tr th {\n",
       "        vertical-align: top;\n",
       "    }\n",
       "</style>\n",
       "<table border=\"1\" class=\"dataframe\">\n",
       "  <thead>\n",
       "    <tr style=\"text-align: right;\">\n",
       "      <th></th>\n",
       "      <th>Doors</th>\n",
       "    </tr>\n",
       "  </thead>\n",
       "  <tbody>\n",
       "    <tr>\n",
       "      <th>0</th>\n",
       "      <td>G</td>\n",
       "    </tr>\n",
       "    <tr>\n",
       "      <th>1</th>\n",
       "      <td>P</td>\n",
       "    </tr>\n",
       "    <tr>\n",
       "      <th>2</th>\n",
       "      <td>G</td>\n",
       "    </tr>\n",
       "  </tbody>\n",
       "</table>\n",
       "</div>"
      ],
      "text/plain": [
       "  Doors\n",
       "0     G\n",
       "1     P\n",
       "2     G"
      ]
     },
     "execution_count": 2,
     "metadata": {},
     "output_type": "execute_result"
    }
   ],
   "source": [
    "door_prizes = pd.DataFrame(data=['P','G','G'], columns=['Doors'])\n",
    "door_prizes = door_prizes.sample(n=3).reset_index(drop=True)\n",
    "door_prizes"
   ]
  },
  {
   "cell_type": "markdown",
   "metadata": {},
   "source": [
    "## Play the Game\n",
    "\n",
    "With the doors randomized, let's play the game!\n",
    "\n",
    "### 1. Choose a Door\n",
    "\n",
    "First step in the game is for the player to choose a door. I will use the <b>randint</b> from the <b>Numpy</b> library to select an integer between 0 and 2 (including 0 and 2)."
   ]
  },
  {
   "cell_type": "code",
   "execution_count": 3,
   "metadata": {},
   "outputs": [
    {
     "data": {
      "text/plain": [
       "0"
      ]
     },
     "execution_count": 3,
     "metadata": {},
     "output_type": "execute_result"
    }
   ],
   "source": [
    "door_choice = np.random.randint(low=0,high=3)\n",
    "door_choice"
   ]
  },
  {
   "cell_type": "markdown",
   "metadata": {},
   "source": [
    "### 2. Host Reveals a Goat\n",
    "\n",
    "The second step is for the host select one of the two remaining doors and reveal a goat, thereby removing that door as a choice and providing us with valuable information about where the desired prize is not.\n",
    "\n",
    "I will simulate this by finding the first instance of a goat and deleting it from the data frame <b>door_prizes</b>. I will use a for-loop to loop over the rows in <b>door_prizes</b>. If a row has a goat and is not the door I selected, then I will delete the row from the data frame. To make sure I don't delete any other rows that may satisfy the if-statement, I use the <b>break</b> statement to break the for-loop."
   ]
  },
  {
   "cell_type": "code",
   "execution_count": 4,
   "metadata": {},
   "outputs": [
    {
     "name": "stdout",
     "output_type": "stream",
     "text": [
      "  Doors\n",
      "0     G\n",
      "1     P\n"
     ]
    }
   ],
   "source": [
    "for index, choice in door_prizes.iterrows():\n",
    "    if choice[0] == 'G' and index != door_choice:\n",
    "        door_prizes = door_prizes.drop([index])\n",
    "        break\n",
    "print(door_prizes)"
   ]
  },
  {
   "cell_type": "markdown",
   "metadata": {},
   "source": [
    "### 3. Optimizing Strategy\n",
    "\n",
    "The third step of the game is to choose whether or not to switch doors. I said in the beginning that I am doing this with the strategy that I will switch doors when the time comes. By doing so, I will show that I win the game with a probably of two-thirds.\n",
    "\n",
    "To simulate switching doors, I am just going to delete the door I selected, thereby leaving me with only one door."
   ]
  },
  {
   "cell_type": "code",
   "execution_count": 5,
   "metadata": {},
   "outputs": [
    {
     "data": {
      "text/html": [
       "<div>\n",
       "<style>\n",
       "    .dataframe thead tr:only-child th {\n",
       "        text-align: right;\n",
       "    }\n",
       "\n",
       "    .dataframe thead th {\n",
       "        text-align: left;\n",
       "    }\n",
       "\n",
       "    .dataframe tbody tr th {\n",
       "        vertical-align: top;\n",
       "    }\n",
       "</style>\n",
       "<table border=\"1\" class=\"dataframe\">\n",
       "  <thead>\n",
       "    <tr style=\"text-align: right;\">\n",
       "      <th></th>\n",
       "      <th>Doors</th>\n",
       "    </tr>\n",
       "  </thead>\n",
       "  <tbody>\n",
       "    <tr>\n",
       "      <th>1</th>\n",
       "      <td>P</td>\n",
       "    </tr>\n",
       "  </tbody>\n",
       "</table>\n",
       "</div>"
      ],
      "text/plain": [
       "  Doors\n",
       "1     P"
      ]
     },
     "execution_count": 5,
     "metadata": {},
     "output_type": "execute_result"
    }
   ],
   "source": [
    "door_prizes = door_prizes.drop([door_choice])\n",
    "door_prizes"
   ]
  },
  {
   "cell_type": "markdown",
   "metadata": {},
   "source": [
    "### 4. Check Behind the Door\n",
    "\n",
    "If the prize is behind the final door, then print \"You Win!\", otherwise print \"You Lose.\""
   ]
  },
  {
   "cell_type": "code",
   "execution_count": 6,
   "metadata": {},
   "outputs": [
    {
     "name": "stdout",
     "output_type": "stream",
     "text": [
      "You Win!\n"
     ]
    }
   ],
   "source": [
    "for prize in door_prizes['Doors']:\n",
    "    if prize == \"P\":\n",
    "        print(\"You Win!\")\n",
    "    else:\n",
    "        print(\"You Lose.\")"
   ]
  },
  {
   "cell_type": "markdown",
   "metadata": {},
   "source": [
    "## Multi-Game Simulation\n",
    "\n",
    "Now to show that the proportion of wins is two-thirds, we need to play this game may more times. Let's combine all of the steps above and run through the game 10,000 times. I will create two lists <b>win</b> and <b>runs</b> to capture the data we need to calculate the ratio of wins to total simulated games."
   ]
  },
  {
   "cell_type": "markdown",
   "metadata": {},
   "source": [
    "### Run Simulation"
   ]
  },
  {
   "cell_type": "code",
   "execution_count": 7,
   "metadata": {},
   "outputs": [],
   "source": [
    "#Create the door prizes\n",
    "door_prizes = pd.DataFrame(data=['P','G','G'], columns=['Doors'])\n",
    "\n",
    "#Create the list of winning and total games. Use list, not counters, so that we have a running count.\n",
    "win = []\n",
    "runs = []\n",
    "\n",
    "i = 1\n",
    "while i <= 10000:\n",
    "    #Randomize the doors\n",
    "    door_prizes_rand = door_prizes.sample(n=3).reset_index(drop=True)\n",
    "    \n",
    "    #1. Choose a door\n",
    "    door_choice = np.random.randint(low=0,high=3)\n",
    "    \n",
    "    #2. Show me a goat!\n",
    "    counter = 0\n",
    "    for index, choice in door_prizes_rand.iterrows():\n",
    "        if choice[0] == 'G' and index != door_choice and counter == 0:\n",
    "            counter = 1\n",
    "            door_prizes_rand = door_prizes_rand.drop([index])\n",
    "            \n",
    "    #3. Now employ the strategy where we switch doors, giving up our initial choice.\n",
    "    door_prizes_rand = door_prizes_rand.drop([door_choice])\n",
    "    \n",
    "    #4. Check what is behind the door, goat or prize.\n",
    "    for prize in door_prizes_rand['Doors']:\n",
    "        if prize == \"P\":\n",
    "            win.append(1)\n",
    "        else:\n",
    "            win.append(0)\n",
    "        \n",
    "        runs.append(i)\n",
    "        i += 1"
   ]
  },
  {
   "cell_type": "markdown",
   "metadata": {},
   "source": [
    "### Calculate Results\n",
    "\n",
    "Let's add the lists <b>runs</b> and <b>wins</b> to a data frame called <b>sim_data</b>. In order to see the progression of wins over time, calculate the cumulative sum of wins using the <b>cumsum</b> function and store it in <b>win_cumulative</b>. Then take the ratio of <b>win_cumulative</b> and <b>runs</b> and store it in <b>win_proportion</b>. Also, for visual effects, it will be helpful to store the value of 2/3."
   ]
  },
  {
   "cell_type": "code",
   "execution_count": 8,
   "metadata": {},
   "outputs": [
    {
     "data": {
      "text/html": [
       "<div>\n",
       "<style>\n",
       "    .dataframe thead tr:only-child th {\n",
       "        text-align: right;\n",
       "    }\n",
       "\n",
       "    .dataframe thead th {\n",
       "        text-align: left;\n",
       "    }\n",
       "\n",
       "    .dataframe tbody tr th {\n",
       "        vertical-align: top;\n",
       "    }\n",
       "</style>\n",
       "<table border=\"1\" class=\"dataframe\">\n",
       "  <thead>\n",
       "    <tr style=\"text-align: right;\">\n",
       "      <th></th>\n",
       "      <th>runs</th>\n",
       "      <th>win</th>\n",
       "      <th>win_cumulative</th>\n",
       "      <th>win_proportion</th>\n",
       "      <th>twothirds</th>\n",
       "    </tr>\n",
       "  </thead>\n",
       "  <tbody>\n",
       "    <tr>\n",
       "      <th>0</th>\n",
       "      <td>1</td>\n",
       "      <td>0</td>\n",
       "      <td>0</td>\n",
       "      <td>0.000000</td>\n",
       "      <td>0.666667</td>\n",
       "    </tr>\n",
       "    <tr>\n",
       "      <th>1</th>\n",
       "      <td>2</td>\n",
       "      <td>1</td>\n",
       "      <td>1</td>\n",
       "      <td>0.500000</td>\n",
       "      <td>0.666667</td>\n",
       "    </tr>\n",
       "    <tr>\n",
       "      <th>2</th>\n",
       "      <td>3</td>\n",
       "      <td>1</td>\n",
       "      <td>2</td>\n",
       "      <td>0.666667</td>\n",
       "      <td>0.666667</td>\n",
       "    </tr>\n",
       "    <tr>\n",
       "      <th>3</th>\n",
       "      <td>4</td>\n",
       "      <td>1</td>\n",
       "      <td>3</td>\n",
       "      <td>0.750000</td>\n",
       "      <td>0.666667</td>\n",
       "    </tr>\n",
       "    <tr>\n",
       "      <th>4</th>\n",
       "      <td>5</td>\n",
       "      <td>1</td>\n",
       "      <td>4</td>\n",
       "      <td>0.800000</td>\n",
       "      <td>0.666667</td>\n",
       "    </tr>\n",
       "  </tbody>\n",
       "</table>\n",
       "</div>"
      ],
      "text/plain": [
       "   runs  win  win_cumulative  win_proportion  twothirds\n",
       "0     1    0               0        0.000000   0.666667\n",
       "1     2    1               1        0.500000   0.666667\n",
       "2     3    1               2        0.666667   0.666667\n",
       "3     4    1               3        0.750000   0.666667\n",
       "4     5    1               4        0.800000   0.666667"
      ]
     },
     "execution_count": 8,
     "metadata": {},
     "output_type": "execute_result"
    }
   ],
   "source": [
    "sim_data = pd.DataFrame(data={'win':win,\n",
    "                              'runs':runs})\n",
    "\n",
    "sim_data['win_cumulative'] = sim_data['win'].cumsum()\n",
    "sim_data['win_proportion'] = sim_data['win_cumulative'] / sim_data['runs']\n",
    "sim_data['twothirds'] = 2/3\n",
    "\n",
    "sim_data.head()"
   ]
  },
  {
   "cell_type": "markdown",
   "metadata": {},
   "source": [
    "### Plot Results\n",
    "\n",
    "Plot using the <b>plot.line</b> module that is available with <b>Pandas</b>. We can see that the proportions of wins becomes approaches 2/3."
   ]
  },
  {
   "cell_type": "code",
   "execution_count": 12,
   "metadata": {},
   "outputs": [
    {
     "data": {
      "image/png": "[encoded data removed]",
      "text/plain": [
       "<matplotlib.figure.Figure at 0x1cc10e127f0>"
      ]
     },
     "metadata": {},
     "output_type": "display_data"
    }
   ],
   "source": [
    "sim_data.plot.line(x='runs', y=['win_proportion','twothirds'])\n",
    "plt.show()"
   ]
  }
 ],
 "metadata": {
  "kernelspec": {
   "display_name": "Python 3",
   "language": "python",
   "name": "python3"
  },
  "language_info": {
   "codemirror_mode": {
    "name": "ipython",
    "version": 3
   },
   "file_extension": ".py",
   "mimetype": "text/x-python",
   "name": "python",
   "nbconvert_exporter": "python",
   "pygments_lexer": "ipython3",
   "version": "3.5.3"
  }
 },
 "nbformat": 4,
 "nbformat_minor": 2
}
