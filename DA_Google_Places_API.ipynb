{
 "cells": [
  {
   "cell_type": "markdown",
   "metadata": {},
   "source": [
    "# Data Analysis: Google Places API"
   ]
  },
  {
   "cell_type": "markdown",
   "metadata": {},
   "source": [
    "Government agencies <a href=\"https://www.data.gov/developers/government-apis/\">have APIs</a>, as well as many popular companies like <a href=\"https://developers.google.com/places/\">Google</a> and <a href=\"https://www.yelp.com/developers/documentation/v3\">Yelp</a>. When available, APIs are a good resource for pulling data programmatically.\n",
    "\n",
    "The steps to using any API can be summarized as follows:\n",
    "<ol>\n",
    "<li>Get an API key</li>\n",
    "<li>Build a URL/query (see API documentation)</li>\n",
    "<li>Submit the API request</li>\n",
    "<li>Parse the response</li>\n",
    "<li>Store, export, etc. for analysis</li>\n",
    "</ol>\n",
    "\n",
    "From my experience, Google has one of the most intuitive and well documented APIs, offering a good introduction to making API calls. In this post, we will use the Google Places API Web Service to place a \"text search request\", an explanation of which can be found <a href=\"https://developers.google.com/places/web-service/search#TextSearchRequests\">here</a>. Using this service, we will submit a request for a business and get back the recommended businesses and their locations (very similar to a common Google search). We will then compile the suggested businesses from Google and a portion of its address information in a Pandas data frame."
   ]
  },
  {
   "cell_type": "markdown",
   "metadata": {},
   "source": [
    "### Import Libraries\n",
    "\n",
    "I will use the <b>Requests</b> library to make the API requests--an intuitive library for working with APIs--and use the <b>Pandas</b> library for the data frame."
   ]
  },
  {
   "cell_type": "code",
   "execution_count": 1,
   "metadata": {
    "collapsed": true
   },
   "outputs": [],
   "source": [
    "import requests\n",
    "import pandas as pd"
   ]
  },
  {
   "cell_type": "markdown",
   "metadata": {},
   "source": [
    "### Build the Request URL\n",
    "\n",
    "The documentation for sending a text search request states that the URL must take the following form:\n",
    "```python\n",
    "https://maps.googleapis.com/maps/api/place/textsearch/output?parameters\n",
    "```\n",
    "\n",
    "Where ```output``` is how we would like the data returned and ```parameters``` will contain details about what we are searching for, as well as our API key. We will only pass the two required parameters shown on the documentation page, ```key``` and ```query```."
   ]
  },
  {
   "cell_type": "markdown",
   "metadata": {},
   "source": [
    "#### Fixed Components\n",
    "Most of the URL wont change, it is fixed across repeated API calls. That includes the URL up to ```output```, as well as the output argument and the API key parameter. The base of the URL will be stored in <b>base_url</b>, the API key in <b>api_key</b> and the output argument in <b>output</b>. For our search, we will request the output in JSON format.\n",
    "\n",
    "*Note that the value for <b>api_key</b> is a <i>fake</i> API key and is not the key I used to perform the request (that would be irresponsible to share with the public)."
   ]
  },
  {
   "cell_type": "code",
   "execution_count": 2,
   "metadata": {
    "collapsed": true
   },
   "outputs": [],
   "source": [
    "base_url = 'https://maps.googleapis.com/maps/api/place/textsearch/'\n",
    "api_key = 'API_KEY'\n",
    "output = 'json'"
   ]
  },
  {
   "cell_type": "markdown",
   "metadata": {},
   "source": [
    "#### Query Parameter\n",
    "The ```query``` parameter will tell Google what to look for. I am going to define a search with three pieces of information, (1) the store name, (2) the city, and (3) the state. These will be stored in the <b>store_name</b>, <b>store_city</b>, and <b>store_state</b> variables and concatenated together as <b>store_search</b>. As is standard for URLs, blank spaces will be replaced with a plus sign.\n",
    "\n",
    "Printing <b>store_search</b> shows the final assignment of the ```query``` parameter."
   ]
  },
  {
   "cell_type": "code",
   "execution_count": 3,
   "metadata": {},
   "outputs": [
    {
     "name": "stdout",
     "output_type": "stream",
     "text": [
      "Walmart+Washington,+DC\n"
     ]
    }
   ],
   "source": [
    "store_name = 'Walmart'\n",
    "store_city = 'Washington'\n",
    "store_state = 'DC'\n",
    "\n",
    "store_search = (store_name + ' ' + store_city + ', ' + store_state).replace(' ','+')\n",
    "print(store_search)"
   ]
  },
  {
   "cell_type": "markdown",
   "metadata": {},
   "source": [
    "#### Complete URL\n",
    "\n",
    "Putting the fixed components together with the query parameter completes the URL. Concatenate all of the parts of the URL together and store in <b>complete_url</b>. Printing <b>complete_url</b> shows the URL we will pass to Google (replacing my API key of course)."
   ]
  },
  {
   "cell_type": "code",
   "execution_count": 4,
   "metadata": {},
   "outputs": [
    {
     "name": "stdout",
     "output_type": "stream",
     "text": [
      "https://maps.googleapis.com/maps/api/place/textsearch/json?query=Walmart+Washington,+DC&key=API_KEY\n"
     ]
    }
   ],
   "source": [
    "complete_url = base_url + output + '?query=' + store_search + '&key=' + api_key\n",
    "print(complete_url.replace(api_key, 'API_KEY'))"
   ]
  },
  {
   "cell_type": "markdown",
   "metadata": {},
   "source": [
    "### 2. Submit the API request\n",
    "\n",
    "We will use the <b>request</b> library to submit our request to Google's servers, which will return a \"response\" object. The <b>request</b> library has a module <b>text</b> that makes printing the response object readable for instructive purposes. Notice that the response looks almost identical to the <a href=\"https://developers.google.com/places/web-service/search#PlaceSearchResponses\">response example</a> in the documentation. Feel free to browse the results!"
   ]
  },
  {
   "cell_type": "code",
   "execution_count": 5,
   "metadata": {},
   "outputs": [
    {
     "name": "stdout",
     "output_type": "stream",
     "text": [
      "{\n",
      "   \"html_attributions\" : [],\n",
      "   \"results\" : [\n",
      "      {\n",
      "         \"formatted_address\" : \"99 H St NW, Washington, DC 20001, United States\",\n",
      "         \"geometry\" : {\n",
      "            \"location\" : {\n",
      "               \"lat\" : 38.9004177,\n",
      "               \"lng\" : -77.01193379999999\n",
      "            },\n",
      "            \"viewport\" : {\n",
      "               \"northeast\" : {\n",
      "                  \"lat\" : 38.9016865802915,\n",
      "                  \"lng\" : -77.01061981970851\n",
      "               },\n",
      "               \"southwest\" : {\n",
      "                  \"lat\" : 38.8989886197085,\n",
      "                  \"lng\" : -77.01331778029152\n",
      "               }\n",
      "            }\n",
      "         },\n",
      "         \"icon\" : \"https://maps.gstatic.com/mapfiles/place_api/icons/shopping-71.png\",\n",
      "         \"id\" : \"db2cc938bca138dd9c479d2ec0f3abd57a9de235\",\n",
      "         \"name\" : \"Walmart Supercenter\",\n",
      "         \"opening_hours\" : {\n",
      "            \"open_now\" : true,\n",
      "            \"weekday_text\" : []\n",
      "         },\n",
      "         \"photos\" : [\n",
      "            {\n",
      "               \"height\" : 2988,\n",
      "               \"html_attributions\" : [\n",
      "                  \"\\u003ca href=\\\"https://maps.google.com/maps/contrib/108575574014845199832/photos\\\"\\u003eDereje Hailu\\u003c/a\\u003e\"\n",
      "               ],\n",
      "               \"photo_reference\" : \"CmRaAAAA9ukU8XYC9NCS3zS5_3JxLM8-xLFlonYjhLlxOx6S4mNrih_tslux0r9X-L7jqLd1kPosCfTKNM1Rf7pnoidg2Ka0vkhY-WcJdF9kl6H0JYrc3zWtK41Wam9yjn7iq8vCEhAGjlNvv8_4oos2qPA1y1qOGhR6e1E5RxD7KnADGsxOWcfqetzACA\",\n",
      "               \"width\" : 5312\n",
      "            }\n",
      "         ],\n",
      "         \"place_id\" : \"ChIJlRmAQ4q3t4kRDhaR4yfucJg\",\n",
      "         \"price_level\" : 1,\n",
      "         \"rating\" : 3.7,\n",
      "         \"reference\" : \"CmRSAAAAq3iHBK5uw5CgzbFxm_lg-WbXtBrFw4B704oAUmVarYfoR_1Z5KpbKv5lfTLZTsFYryzuKbbt2ZH3jqbEb5W3rYXKJW3S-gN3l97HIzUIl3C3cjr4ZcC5hvQGL5ttcG1DEhCkluntJMIZHu0HzdLh58pqGhSWtdaFseoNxB0B7fpCwGAl8k9XEQ\",\n",
      "         \"types\" : [\n",
      "            \"department_store\",\n",
      "            \"supermarket\",\n",
      "            \"electronics_store\",\n",
      "            \"grocery_or_supermarket\",\n",
      "            \"food\",\n",
      "            \"store\",\n",
      "            \"point_of_interest\",\n",
      "            \"establishment\"\n",
      "         ]\n",
      "      },\n",
      "      {\n",
      "         \"formatted_address\" : \"310 Riggs Rd NE, Washington, DC 20011, United States\",\n",
      "         \"geometry\" : {\n",
      "            \"location\" : {\n",
      "               \"lat\" : 38.9580125,\n",
      "               \"lng\" : -77.00244690000001\n",
      "            },\n",
      "            \"viewport\" : {\n",
      "               \"northeast\" : {\n",
      "                  \"lat\" : 38.9593382802915,\n",
      "                  \"lng\" : -77.0007402697085\n",
      "               },\n",
      "               \"southwest\" : {\n",
      "                  \"lat\" : 38.9566403197085,\n",
      "                  \"lng\" : -77.00343823029151\n",
      "               }\n",
      "            }\n",
      "         },\n",
      "         \"icon\" : \"https://maps.gstatic.com/mapfiles/place_api/icons/shopping-71.png\",\n",
      "         \"id\" : \"c3272c8822868df32cf2fd4d3ed2351ab76b5c2d\",\n",
      "         \"name\" : \"Walmart\",\n",
      "         \"opening_hours\" : {\n",
      "            \"open_now\" : true,\n",
      "            \"weekday_text\" : []\n",
      "         },\n",
      "         \"photos\" : [\n",
      "            {\n",
      "               \"height\" : 3120,\n",
      "               \"html_attributions\" : [\n",
      "                  \"\\u003ca href=\\\"https://maps.google.com/maps/contrib/117400837474581765563/photos\\\"\\u003eTonia Gore\\u003c/a\\u003e\"\n",
      "               ],\n",
      "               \"photo_reference\" : \"CmRaAAAAXdM4Alivi6bZLAp634AeIArb29twMUgzApr1X8JF45AB5uSl3gat6EVcRrlfx4P8qyE1jwCwPAig69ToRKxE78yCCoK0krX4VkoA1w1l1tXaFWAJEICUe1Arxt-rkZUGEhBfAl6wMWOGKAxhr7qnR0NjGhQ5fTnB5l6fpmW23ZFTzex1T8S0GQ\",\n",
      "               \"width\" : 4160\n",
      "            }\n",
      "         ],\n",
      "         \"place_id\" : \"ChIJywIxCdHHt4kRDNBJeIZ1Jbc\",\n",
      "         \"price_level\" : 1,\n",
      "         \"rating\" : 4.1,\n",
      "         \"reference\" : \"CmRSAAAAXQqZbMDKd5n-eJpfQEoKJRlPPVT9ELm1nGiRj-Z9-0BzR0HWAPT9E7HHkWqnSV_vuiAB3Vn-w1ncGs0Wcl47dGNuF3Q41RhOew_OKf-v20BNhgCITe1K4rhsYQcyTEywEhA452uRLr6t1eissiOFoAG5GhQMSgmmxt24NW0O__XZ9C5sqeo8hw\",\n",
      "         \"types\" : [\n",
      "            \"department_store\",\n",
      "            \"supermarket\",\n",
      "            \"grocery_or_supermarket\",\n",
      "            \"food\",\n",
      "            \"store\",\n",
      "            \"point_of_interest\",\n",
      "            \"establishment\"\n",
      "         ]\n",
      "      },\n",
      "      {\n",
      "         \"formatted_address\" : \"5929 Georgia Ave NW, Washington, DC 20011, United States\",\n",
      "         \"geometry\" : {\n",
      "            \"location\" : {\n",
      "               \"lat\" : 38.961977,\n",
      "               \"lng\" : -77.02738859999999\n",
      "            },\n",
      "            \"viewport\" : {\n",
      "               \"northeast\" : {\n",
      "                  \"lat\" : 38.9632490802915,\n",
      "                  \"lng\" : -77.02632266970849\n",
      "               },\n",
      "               \"southwest\" : {\n",
      "                  \"lat\" : 38.9605511197085,\n",
      "                  \"lng\" : -77.0290206302915\n",
      "               }\n",
      "            }\n",
      "         },\n",
      "         \"icon\" : \"https://maps.gstatic.com/mapfiles/place_api/icons/shopping-71.png\",\n",
      "         \"id\" : \"4e7f7c568c2d8f017e20323c64159dd4ab30fa69\",\n",
      "         \"name\" : \"Walmart Supercenter\",\n",
      "         \"opening_hours\" : {\n",
      "            \"open_now\" : true,\n",
      "            \"weekday_text\" : []\n",
      "         },\n",
      "         \"photos\" : [\n",
      "            {\n",
      "               \"height\" : 3024,\n",
      "               \"html_attributions\" : [\n",
      "                  \"\\u003ca href=\\\"https://maps.google.com/maps/contrib/101810068829626301924/photos\\\"\\u003eAustin Graff\\u003c/a\\u003e\"\n",
      "               ],\n",
      "               \"photo_reference\" : \"CmRaAAAAXf06F-u5vRa4NN_IUxIvikPtZFvsMgMUWc4-kYM9cwoa3AQywC9BElIVZRqKJKvWcJUtXy9t-wk2i6xw4SnQMqNDX-1ZETwIsnXp1BSbm3e5bCZgo3wgu49k3VodwNYvEhD6N49jkCzeaL6x-n6KZ9faGhQ5cScZxlfshtTj8bbawMILVso14Q\",\n",
      "               \"width\" : 4032\n",
      "            }\n",
      "         ],\n",
      "         \"place_id\" : \"ChIJy1391WPIt4kRqpZ2j_HGM38\",\n",
      "         \"price_level\" : 1,\n",
      "         \"rating\" : 4,\n",
      "         \"reference\" : \"CmRRAAAAx8FKtAQrhhTYr1oEcI-Nt4prUyvnkpPVtkd6oM692Z_BoH2bmmfaTdUTkLSZbAHlD7C9MkPDhDJ22a-jJ_AvwbLcNRh3noCUYMERfkH4YrlsD_4ce6BY1ewCthAf1acfEhCMQBQuIeZAFW3Q6x3d2dchGhTHIROatvdBKz-keFl5oWW-60zeaw\",\n",
      "         \"types\" : [\n",
      "            \"department_store\",\n",
      "            \"supermarket\",\n",
      "            \"electronics_store\",\n",
      "            \"grocery_or_supermarket\",\n",
      "            \"food\",\n",
      "            \"store\",\n",
      "            \"point_of_interest\",\n",
      "            \"establishment\"\n",
      "         ]\n",
      "      }\n",
      "   ],\n",
      "   \"status\" : \"OK\"\n",
      "}\n",
      "\n"
     ]
    }
   ],
   "source": [
    "response = requests.get(complete_url)\n",
    "print(response.text)"
   ]
  },
  {
   "cell_type": "markdown",
   "metadata": {},
   "source": [
    "### 3. Convert the Response\n",
    "\n",
    "In order to begin extracting data from the response object, I will need to convert it to a JSON object. This can be done applying the <b>json()</b> module on the response object. Printing the type of the converted response object <b>response_json</b> confirms that we have a workable dictionary!\n",
    "\n",
    "For example, according to the Google Places API documentation, the response has an element called \"results\", which itself is a list that contains information on each of the stores returned in the response. I picked Walmart because I know there are exactly three in DC, which we can confirm by counting the total number of elements in the \"results\" list."
   ]
  },
  {
   "cell_type": "code",
   "execution_count": 6,
   "metadata": {},
   "outputs": [
    {
     "name": "stdout",
     "output_type": "stream",
     "text": [
      "<class 'dict'>\n",
      "3\n"
     ]
    }
   ],
   "source": [
    "response_json = response.json()\n",
    "print(type(response_json))\n",
    "print(len(response_json['results']))"
   ]
  },
  {
   "cell_type": "markdown",
   "metadata": {},
   "source": [
    "### 4. Compile Data into Data Frame\n",
    "\n",
    "I want to compile each store name, city and state from the results into a data frame. For instructive purposes, let's start by printing the name of the business and the formatted address for all three Walmart's Google found in DC. As we can see, the \"formatted_address\" includes the street number, street name, city, state, zip code, and country all in one field. We will need to separate the field into its components."
   ]
  },
  {
   "cell_type": "code",
   "execution_count": 7,
   "metadata": {},
   "outputs": [
    {
     "name": "stdout",
     "output_type": "stream",
     "text": [
      "Walmart Supercenter 99 H St NW, Washington, DC 20001, United States\n",
      "Walmart 310 Riggs Rd NE, Washington, DC 20011, United States\n",
      "Walmart Supercenter 5929 Georgia Ave NW, Washington, DC 20011, United States\n"
     ]
    }
   ],
   "source": [
    "for business in response_json['results']:\n",
    "    print(business['name'], business['formatted_address'])"
   ]
  },
  {
   "cell_type": "markdown",
   "metadata": {},
   "source": [
    "Let's put the results into a Pandas data frame called <b>business_df</b>."
   ]
  },
  {
   "cell_type": "code",
   "execution_count": 8,
   "metadata": {},
   "outputs": [
    {
     "data": {
      "text/html": [
       "<div>\n",
       "<style>\n",
       "    .dataframe thead tr:only-child th {\n",
       "        text-align: right;\n",
       "    }\n",
       "\n",
       "    .dataframe thead th {\n",
       "        text-align: left;\n",
       "    }\n",
       "\n",
       "    .dataframe tbody tr th {\n",
       "        vertical-align: top;\n",
       "    }\n",
       "</style>\n",
       "<table border=\"1\" class=\"dataframe\">\n",
       "  <thead>\n",
       "    <tr style=\"text-align: right;\">\n",
       "      <th></th>\n",
       "      <th>formatted_address</th>\n",
       "      <th>geometry</th>\n",
       "      <th>icon</th>\n",
       "      <th>id</th>\n",
       "      <th>name</th>\n",
       "      <th>opening_hours</th>\n",
       "      <th>photos</th>\n",
       "      <th>place_id</th>\n",
       "      <th>price_level</th>\n",
       "      <th>rating</th>\n",
       "      <th>reference</th>\n",
       "      <th>types</th>\n",
       "    </tr>\n",
       "  </thead>\n",
       "  <tbody>\n",
       "    <tr>\n",
       "      <th>0</th>\n",
       "      <td>99 H St NW, Washington, DC 20001, United States</td>\n",
       "      <td>{'location': {'lng': -77.0119338, 'lat': 38.90...</td>\n",
       "      <td>https://maps.gstatic.com/mapfiles/place_api/ic...</td>\n",
       "      <td>db2cc938bca138dd9c479d2ec0f3abd57a9de235</td>\n",
       "      <td>Walmart Supercenter</td>\n",
       "      <td>{'weekday_text': [], 'open_now': True}</td>\n",
       "      <td>[{'html_attributions': ['&lt;a href=\"https://maps...</td>\n",
       "      <td>ChIJlRmAQ4q3t4kRDhaR4yfucJg</td>\n",
       "      <td>1</td>\n",
       "      <td>3.7</td>\n",
       "      <td>CmRSAAAAq3iHBK5uw5CgzbFxm_lg-WbXtBrFw4B704oAUm...</td>\n",
       "      <td>[department_store, supermarket, electronics_st...</td>\n",
       "    </tr>\n",
       "    <tr>\n",
       "      <th>1</th>\n",
       "      <td>310 Riggs Rd NE, Washington, DC 20011, United ...</td>\n",
       "      <td>{'location': {'lng': -77.00244690000001, 'lat'...</td>\n",
       "      <td>https://maps.gstatic.com/mapfiles/place_api/ic...</td>\n",
       "      <td>c3272c8822868df32cf2fd4d3ed2351ab76b5c2d</td>\n",
       "      <td>Walmart</td>\n",
       "      <td>{'weekday_text': [], 'open_now': True}</td>\n",
       "      <td>[{'html_attributions': ['&lt;a href=\"https://maps...</td>\n",
       "      <td>ChIJywIxCdHHt4kRDNBJeIZ1Jbc</td>\n",
       "      <td>1</td>\n",
       "      <td>4.1</td>\n",
       "      <td>CmRSAAAAXQqZbMDKd5n-eJpfQEoKJRlPPVT9ELm1nGiRj-...</td>\n",
       "      <td>[department_store, supermarket, grocery_or_sup...</td>\n",
       "    </tr>\n",
       "    <tr>\n",
       "      <th>2</th>\n",
       "      <td>5929 Georgia Ave NW, Washington, DC 20011, Uni...</td>\n",
       "      <td>{'location': {'lng': -77.0273886, 'lat': 38.96...</td>\n",
       "      <td>https://maps.gstatic.com/mapfiles/place_api/ic...</td>\n",
       "      <td>4e7f7c568c2d8f017e20323c64159dd4ab30fa69</td>\n",
       "      <td>Walmart Supercenter</td>\n",
       "      <td>{'weekday_text': [], 'open_now': True}</td>\n",
       "      <td>[{'html_attributions': ['&lt;a href=\"https://maps...</td>\n",
       "      <td>ChIJy1391WPIt4kRqpZ2j_HGM38</td>\n",
       "      <td>1</td>\n",
       "      <td>4.0</td>\n",
       "      <td>CmRRAAAAx8FKtAQrhhTYr1oEcI-Nt4prUyvnkpPVtkd6oM...</td>\n",
       "      <td>[department_store, supermarket, electronics_st...</td>\n",
       "    </tr>\n",
       "  </tbody>\n",
       "</table>\n",
       "</div>"
      ],
      "text/plain": [
       "                                   formatted_address  \\\n",
       "0    99 H St NW, Washington, DC 20001, United States   \n",
       "1  310 Riggs Rd NE, Washington, DC 20011, United ...   \n",
       "2  5929 Georgia Ave NW, Washington, DC 20011, Uni...   \n",
       "\n",
       "                                            geometry  \\\n",
       "0  {'location': {'lng': -77.0119338, 'lat': 38.90...   \n",
       "1  {'location': {'lng': -77.00244690000001, 'lat'...   \n",
       "2  {'location': {'lng': -77.0273886, 'lat': 38.96...   \n",
       "\n",
       "                                                icon  \\\n",
       "0  https://maps.gstatic.com/mapfiles/place_api/ic...   \n",
       "1  https://maps.gstatic.com/mapfiles/place_api/ic...   \n",
       "2  https://maps.gstatic.com/mapfiles/place_api/ic...   \n",
       "\n",
       "                                         id                 name  \\\n",
       "0  db2cc938bca138dd9c479d2ec0f3abd57a9de235  Walmart Supercenter   \n",
       "1  c3272c8822868df32cf2fd4d3ed2351ab76b5c2d              Walmart   \n",
       "2  4e7f7c568c2d8f017e20323c64159dd4ab30fa69  Walmart Supercenter   \n",
       "\n",
       "                            opening_hours  \\\n",
       "0  {'weekday_text': [], 'open_now': True}   \n",
       "1  {'weekday_text': [], 'open_now': True}   \n",
       "2  {'weekday_text': [], 'open_now': True}   \n",
       "\n",
       "                                              photos  \\\n",
       "0  [{'html_attributions': ['<a href=\"https://maps...   \n",
       "1  [{'html_attributions': ['<a href=\"https://maps...   \n",
       "2  [{'html_attributions': ['<a href=\"https://maps...   \n",
       "\n",
       "                      place_id  price_level  rating  \\\n",
       "0  ChIJlRmAQ4q3t4kRDhaR4yfucJg            1     3.7   \n",
       "1  ChIJywIxCdHHt4kRDNBJeIZ1Jbc            1     4.1   \n",
       "2  ChIJy1391WPIt4kRqpZ2j_HGM38            1     4.0   \n",
       "\n",
       "                                           reference  \\\n",
       "0  CmRSAAAAq3iHBK5uw5CgzbFxm_lg-WbXtBrFw4B704oAUm...   \n",
       "1  CmRSAAAAXQqZbMDKd5n-eJpfQEoKJRlPPVT9ELm1nGiRj-...   \n",
       "2  CmRRAAAAx8FKtAQrhhTYr1oEcI-Nt4prUyvnkpPVtkd6oM...   \n",
       "\n",
       "                                               types  \n",
       "0  [department_store, supermarket, electronics_st...  \n",
       "1  [department_store, supermarket, grocery_or_sup...  \n",
       "2  [department_store, supermarket, electronics_st...  "
      ]
     },
     "execution_count": 8,
     "metadata": {},
     "output_type": "execute_result"
    }
   ],
   "source": [
    "business_df = pd.DataFrame(data=response_json['results'])\n",
    "business_df.head()"
   ]
  },
  {
   "cell_type": "markdown",
   "metadata": {},
   "source": [
    "Let's drop all the variables I have deemed unnecessary, leaving us with only the name of the business and the formatted_address. Drop variables using the <b>drop</b> function."
   ]
  },
  {
   "cell_type": "code",
   "execution_count": 9,
   "metadata": {},
   "outputs": [
    {
     "data": {
      "text/html": [
       "<div>\n",
       "<style>\n",
       "    .dataframe thead tr:only-child th {\n",
       "        text-align: right;\n",
       "    }\n",
       "\n",
       "    .dataframe thead th {\n",
       "        text-align: left;\n",
       "    }\n",
       "\n",
       "    .dataframe tbody tr th {\n",
       "        vertical-align: top;\n",
       "    }\n",
       "</style>\n",
       "<table border=\"1\" class=\"dataframe\">\n",
       "  <thead>\n",
       "    <tr style=\"text-align: right;\">\n",
       "      <th></th>\n",
       "      <th>formatted_address</th>\n",
       "      <th>name</th>\n",
       "    </tr>\n",
       "  </thead>\n",
       "  <tbody>\n",
       "    <tr>\n",
       "      <th>0</th>\n",
       "      <td>99 H St NW, Washington, DC 20001, United States</td>\n",
       "      <td>Walmart Supercenter</td>\n",
       "    </tr>\n",
       "    <tr>\n",
       "      <th>1</th>\n",
       "      <td>310 Riggs Rd NE, Washington, DC 20011, United ...</td>\n",
       "      <td>Walmart</td>\n",
       "    </tr>\n",
       "    <tr>\n",
       "      <th>2</th>\n",
       "      <td>5929 Georgia Ave NW, Washington, DC 20011, Uni...</td>\n",
       "      <td>Walmart Supercenter</td>\n",
       "    </tr>\n",
       "  </tbody>\n",
       "</table>\n",
       "</div>"
      ],
      "text/plain": [
       "                                   formatted_address                 name\n",
       "0    99 H St NW, Washington, DC 20001, United States  Walmart Supercenter\n",
       "1  310 Riggs Rd NE, Washington, DC 20011, United ...              Walmart\n",
       "2  5929 Georgia Ave NW, Washington, DC 20011, Uni...  Walmart Supercenter"
      ]
     },
     "execution_count": 9,
     "metadata": {},
     "output_type": "execute_result"
    }
   ],
   "source": [
    "business_df = business_df.drop(['geometry','icon','id','opening_hours','photos',\n",
    "                                'place_id','price_level','rating','types','reference'], axis=1)\n",
    "business_df.head()"
   ]
  },
  {
   "cell_type": "markdown",
   "metadata": {},
   "source": [
    "My first impression is to split <b>formatted_address</b> at each comma using the <b>str.split()</b> function in the <b>Pandas</b> library. Let's store the split address as <b>formatted_address_delim</b>."
   ]
  },
  {
   "cell_type": "code",
   "execution_count": 10,
   "metadata": {},
   "outputs": [
    {
     "data": {
      "text/html": [
       "<div>\n",
       "<style>\n",
       "    .dataframe thead tr:only-child th {\n",
       "        text-align: right;\n",
       "    }\n",
       "\n",
       "    .dataframe thead th {\n",
       "        text-align: left;\n",
       "    }\n",
       "\n",
       "    .dataframe tbody tr th {\n",
       "        vertical-align: top;\n",
       "    }\n",
       "</style>\n",
       "<table border=\"1\" class=\"dataframe\">\n",
       "  <thead>\n",
       "    <tr style=\"text-align: right;\">\n",
       "      <th></th>\n",
       "      <th>formatted_address</th>\n",
       "      <th>name</th>\n",
       "      <th>formatted_address_delim</th>\n",
       "    </tr>\n",
       "  </thead>\n",
       "  <tbody>\n",
       "    <tr>\n",
       "      <th>0</th>\n",
       "      <td>99 H St NW, Washington, DC 20001, United States</td>\n",
       "      <td>Walmart Supercenter</td>\n",
       "      <td>[99 H St NW,  Washington,  DC 20001,  United S...</td>\n",
       "    </tr>\n",
       "    <tr>\n",
       "      <th>1</th>\n",
       "      <td>310 Riggs Rd NE, Washington, DC 20011, United ...</td>\n",
       "      <td>Walmart</td>\n",
       "      <td>[310 Riggs Rd NE,  Washington,  DC 20011,  Uni...</td>\n",
       "    </tr>\n",
       "    <tr>\n",
       "      <th>2</th>\n",
       "      <td>5929 Georgia Ave NW, Washington, DC 20011, Uni...</td>\n",
       "      <td>Walmart Supercenter</td>\n",
       "      <td>[5929 Georgia Ave NW,  Washington,  DC 20011, ...</td>\n",
       "    </tr>\n",
       "  </tbody>\n",
       "</table>\n",
       "</div>"
      ],
      "text/plain": [
       "                                   formatted_address                 name  \\\n",
       "0    99 H St NW, Washington, DC 20001, United States  Walmart Supercenter   \n",
       "1  310 Riggs Rd NE, Washington, DC 20011, United ...              Walmart   \n",
       "2  5929 Georgia Ave NW, Washington, DC 20011, Uni...  Walmart Supercenter   \n",
       "\n",
       "                             formatted_address_delim  \n",
       "0  [99 H St NW,  Washington,  DC 20001,  United S...  \n",
       "1  [310 Riggs Rd NE,  Washington,  DC 20011,  Uni...  \n",
       "2  [5929 Georgia Ave NW,  Washington,  DC 20011, ...  "
      ]
     },
     "execution_count": 10,
     "metadata": {},
     "output_type": "execute_result"
    }
   ],
   "source": [
    "business_df['formatted_address_delim'] = business_df['formatted_address'].str.split(pat=',')\n",
    "business_df.head()"
   ]
  },
  {
   "cell_type": "markdown",
   "metadata": {},
   "source": [
    "Notice that each value of <b>formatted_address_delim</b> is a list with four elements. The first element is the street information, the second element is the city, but the third element is a combination of the state and zip code. In order to capture the state only, we will need to take a substring of the third element of <b>formatted_address_delim</b>"
   ]
  },
  {
   "cell_type": "code",
   "execution_count": 11,
   "metadata": {},
   "outputs": [
    {
     "name": "stdout",
     "output_type": "stream",
     "text": [
      "['99 H St NW', ' Washington', ' DC 20001', ' United States']\n"
     ]
    }
   ],
   "source": [
    "print(business_df['formatted_address_delim'][0])"
   ]
  },
  {
   "cell_type": "markdown",
   "metadata": {},
   "source": [
    "Create three new variables, <b>street</b>, <b>city</b>, and <b>state</b>. Using the <b>iterrows()</b> function to loop over each row, we will set the value of the variables <b>street</b>, <b>city</b>, and <b>state</b> based on their location in the variable <b>formatted_address_delim</b>."
   ]
  },
  {
   "cell_type": "code",
   "execution_count": 12,
   "metadata": {},
   "outputs": [
    {
     "data": {
      "text/html": [
       "<div>\n",
       "<style>\n",
       "    .dataframe thead tr:only-child th {\n",
       "        text-align: right;\n",
       "    }\n",
       "\n",
       "    .dataframe thead th {\n",
       "        text-align: left;\n",
       "    }\n",
       "\n",
       "    .dataframe tbody tr th {\n",
       "        vertical-align: top;\n",
       "    }\n",
       "</style>\n",
       "<table border=\"1\" class=\"dataframe\">\n",
       "  <thead>\n",
       "    <tr style=\"text-align: right;\">\n",
       "      <th></th>\n",
       "      <th>formatted_address</th>\n",
       "      <th>name</th>\n",
       "      <th>formatted_address_delim</th>\n",
       "      <th>street</th>\n",
       "      <th>city</th>\n",
       "      <th>state</th>\n",
       "    </tr>\n",
       "  </thead>\n",
       "  <tbody>\n",
       "    <tr>\n",
       "      <th>0</th>\n",
       "      <td>99 H St NW, Washington, DC 20001, United States</td>\n",
       "      <td>Walmart Supercenter</td>\n",
       "      <td>[99 H St NW,  Washington,  DC 20001,  United S...</td>\n",
       "      <td>99 H St NW</td>\n",
       "      <td>Washington</td>\n",
       "      <td>DC</td>\n",
       "    </tr>\n",
       "    <tr>\n",
       "      <th>1</th>\n",
       "      <td>310 Riggs Rd NE, Washington, DC 20011, United ...</td>\n",
       "      <td>Walmart</td>\n",
       "      <td>[310 Riggs Rd NE,  Washington,  DC 20011,  Uni...</td>\n",
       "      <td>310 Riggs Rd NE</td>\n",
       "      <td>Washington</td>\n",
       "      <td>DC</td>\n",
       "    </tr>\n",
       "    <tr>\n",
       "      <th>2</th>\n",
       "      <td>5929 Georgia Ave NW, Washington, DC 20011, Uni...</td>\n",
       "      <td>Walmart Supercenter</td>\n",
       "      <td>[5929 Georgia Ave NW,  Washington,  DC 20011, ...</td>\n",
       "      <td>5929 Georgia Ave NW</td>\n",
       "      <td>Washington</td>\n",
       "      <td>DC</td>\n",
       "    </tr>\n",
       "  </tbody>\n",
       "</table>\n",
       "</div>"
      ],
      "text/plain": [
       "                                   formatted_address                 name  \\\n",
       "0    99 H St NW, Washington, DC 20001, United States  Walmart Supercenter   \n",
       "1  310 Riggs Rd NE, Washington, DC 20011, United ...              Walmart   \n",
       "2  5929 Georgia Ave NW, Washington, DC 20011, Uni...  Walmart Supercenter   \n",
       "\n",
       "                             formatted_address_delim               street  \\\n",
       "0  [99 H St NW,  Washington,  DC 20001,  United S...           99 H St NW   \n",
       "1  [310 Riggs Rd NE,  Washington,  DC 20011,  Uni...      310 Riggs Rd NE   \n",
       "2  [5929 Georgia Ave NW,  Washington,  DC 20011, ...  5929 Georgia Ave NW   \n",
       "\n",
       "          city state  \n",
       "0   Washington    DC  \n",
       "1   Washington    DC  \n",
       "2   Washington    DC  "
      ]
     },
     "execution_count": 12,
     "metadata": {},
     "output_type": "execute_result"
    }
   ],
   "source": [
    "business_df['street'] = \"\"\n",
    "business_df['city'] = \"\"\n",
    "business_df['state'] = \"\"\n",
    "\n",
    "for index, address in business_df.iterrows():\n",
    "    business_df['street'][index] = address['formatted_address_delim'][0]\n",
    "    business_df['city'][index] = address['formatted_address_delim'][1]\n",
    "    business_df['state'][index] = address['formatted_address_delim'][2][1:3]\n",
    "\n",
    "business_df.head()"
   ]
  },
  {
   "cell_type": "markdown",
   "metadata": {},
   "source": [
    "Now we clean it up by dropping the <b>formatted_address</b> and <b>formatted_address_delim</b> variables."
   ]
  },
  {
   "cell_type": "code",
   "execution_count": 13,
   "metadata": {},
   "outputs": [
    {
     "data": {
      "text/html": [
       "<div>\n",
       "<style>\n",
       "    .dataframe thead tr:only-child th {\n",
       "        text-align: right;\n",
       "    }\n",
       "\n",
       "    .dataframe thead th {\n",
       "        text-align: left;\n",
       "    }\n",
       "\n",
       "    .dataframe tbody tr th {\n",
       "        vertical-align: top;\n",
       "    }\n",
       "</style>\n",
       "<table border=\"1\" class=\"dataframe\">\n",
       "  <thead>\n",
       "    <tr style=\"text-align: right;\">\n",
       "      <th></th>\n",
       "      <th>name</th>\n",
       "      <th>street</th>\n",
       "      <th>city</th>\n",
       "      <th>state</th>\n",
       "    </tr>\n",
       "  </thead>\n",
       "  <tbody>\n",
       "    <tr>\n",
       "      <th>0</th>\n",
       "      <td>Walmart Supercenter</td>\n",
       "      <td>99 H St NW</td>\n",
       "      <td>Washington</td>\n",
       "      <td>DC</td>\n",
       "    </tr>\n",
       "    <tr>\n",
       "      <th>1</th>\n",
       "      <td>Walmart</td>\n",
       "      <td>310 Riggs Rd NE</td>\n",
       "      <td>Washington</td>\n",
       "      <td>DC</td>\n",
       "    </tr>\n",
       "    <tr>\n",
       "      <th>2</th>\n",
       "      <td>Walmart Supercenter</td>\n",
       "      <td>5929 Georgia Ave NW</td>\n",
       "      <td>Washington</td>\n",
       "      <td>DC</td>\n",
       "    </tr>\n",
       "  </tbody>\n",
       "</table>\n",
       "</div>"
      ],
      "text/plain": [
       "                  name               street         city state\n",
       "0  Walmart Supercenter           99 H St NW   Washington    DC\n",
       "1              Walmart      310 Riggs Rd NE   Washington    DC\n",
       "2  Walmart Supercenter  5929 Georgia Ave NW   Washington    DC"
      ]
     },
     "execution_count": 13,
     "metadata": {},
     "output_type": "execute_result"
    }
   ],
   "source": [
    "business_df = business_df.drop(['formatted_address', 'formatted_address_delim'], axis = 1)\n",
    "business_df.head()"
   ]
  }
 ],
 "metadata": {
  "kernelspec": {
   "display_name": "Python 3",
   "language": "python",
   "name": "python3"
  },
  "language_info": {
   "codemirror_mode": {
    "name": "ipython",
    "version": 3
   },
   "file_extension": ".py",
   "mimetype": "text/x-python",
   "name": "python",
   "nbconvert_exporter": "python",
   "pygments_lexer": "ipython3",
   "version": "3.5.3"
  }
 },
 "nbformat": 4,
 "nbformat_minor": 2
}
