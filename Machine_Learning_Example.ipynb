{
 "cells": [
  {
   "cell_type": "markdown",
   "metadata": {},
   "source": [
    "# Exploring the Mechanics of Machine Learning"
   ]
  },
  {
   "cell_type": "code",
   "execution_count": 1,
   "metadata": {
    "collapsed": true
   },
   "outputs": [],
   "source": [
    "import pandas as pd\n",
    "import numpy as np\n",
    "\n",
    "from sklearn.feature_extraction.text import CountVectorizer\n",
    "from sklearn.linear_model import LogisticRegression\n",
    "from sklearn.naive_bayes import MultinomialNB"
   ]
  },
  {
   "cell_type": "markdown",
   "metadata": {},
   "source": [
    "## Part 1: Import Training Dataset"
   ]
  },
  {
   "cell_type": "markdown",
   "metadata": {},
   "source": [
    "A dummy dataset is created below as a learning tool. Training dataset will only have a \"messy\" outlet name and a \"clean\" outlet name. The only \"features\" we can use from this dataset are the strings split up by a space in the \"messy\" outlet name\n",
    "\n",
    "Importing the array into a Pandas DataFrame helps with visualizing the dataset."
   ]
  },
  {
   "cell_type": "code",
   "execution_count": 18,
   "metadata": {},
   "outputs": [
    {
     "data": {
      "text/html": [
       "<div>\n",
       "<style>\n",
       "    .dataframe thead tr:only-child th {\n",
       "        text-align: right;\n",
       "    }\n",
       "\n",
       "    .dataframe thead th {\n",
       "        text-align: left;\n",
       "    }\n",
       "\n",
       "    .dataframe tbody tr th {\n",
       "        vertical-align: top;\n",
       "    }\n",
       "</style>\n",
       "<table border=\"1\" class=\"dataframe\">\n",
       "  <thead>\n",
       "    <tr style=\"text-align: right;\">\n",
       "      <th></th>\n",
       "      <th>messy</th>\n",
       "      <th>clean</th>\n",
       "    </tr>\n",
       "  </thead>\n",
       "  <tbody>\n",
       "    <tr>\n",
       "      <th>0</th>\n",
       "      <td>Bet Buys</td>\n",
       "      <td>Best Buy</td>\n",
       "    </tr>\n",
       "    <tr>\n",
       "      <th>1</th>\n",
       "      <td>Best Buys</td>\n",
       "      <td>Best Buy</td>\n",
       "    </tr>\n",
       "    <tr>\n",
       "      <th>2</th>\n",
       "      <td>BetsBuys</td>\n",
       "      <td>Best Buy</td>\n",
       "    </tr>\n",
       "    <tr>\n",
       "      <th>3</th>\n",
       "      <td>Walmert</td>\n",
       "      <td>Wal-Mart</td>\n",
       "    </tr>\n",
       "    <tr>\n",
       "      <th>4</th>\n",
       "      <td>Walmart</td>\n",
       "      <td>Wal-Mart</td>\n",
       "    </tr>\n",
       "    <tr>\n",
       "      <th>5</th>\n",
       "      <td>Wal mrt</td>\n",
       "      <td>Wal-Mart</td>\n",
       "    </tr>\n",
       "    <tr>\n",
       "      <th>6</th>\n",
       "      <td>Wall mrt</td>\n",
       "      <td>Wal-Mart</td>\n",
       "    </tr>\n",
       "    <tr>\n",
       "      <th>7</th>\n",
       "      <td>Tar gat</td>\n",
       "      <td>Target</td>\n",
       "    </tr>\n",
       "    <tr>\n",
       "      <th>8</th>\n",
       "      <td>Targ get</td>\n",
       "      <td>Target</td>\n",
       "    </tr>\n",
       "  </tbody>\n",
       "</table>\n",
       "</div>"
      ],
      "text/plain": [
       "       messy     clean\n",
       "0   Bet Buys  Best Buy\n",
       "1  Best Buys  Best Buy\n",
       "2   BetsBuys  Best Buy\n",
       "3    Walmert  Wal-Mart\n",
       "4    Walmart  Wal-Mart\n",
       "5    Wal mrt  Wal-Mart\n",
       "6   Wall mrt  Wal-Mart\n",
       "7    Tar gat    Target\n",
       "8   Targ get    Target"
      ]
     },
     "execution_count": 18,
     "metadata": {},
     "output_type": "execute_result"
    }
   ],
   "source": [
    "train_outlet = [[\"Bet Buys\", \"Best Buy\"], [\"Best Buys\", \"Best Buy\"], [\"BetsBuys\",\"Best Buy\"], \n",
    "                [\"Walmert\", \"Wal-Mart\"], [\"Walmart\", \"Wal-Mart\"], [\"Wal mrt\", \"Wal-Mart\"], [\"Wall mrt\", \"Wal-Mart\"],\n",
    "                [\"Tar gat\", \"Target\"], [\"Targ get\", \"Target\"]]\n",
    "\n",
    "df_train_outlet = pd.DataFrame(data=train_outlet, columns = ['messy', 'clean'])\n",
    "df_train_outlet"
   ]
  },
  {
   "cell_type": "markdown",
   "metadata": {},
   "source": [
    "## Part 2: Building a Model from Training Set"
   ]
  },
  {
   "cell_type": "markdown",
   "metadata": {},
   "source": [
    "### Building the Features"
   ]
  },
  {
   "cell_type": "markdown",
   "metadata": {},
   "source": [
    "I used <b>CountVectorizer()</b>. It will split up the \"messy\" outlet name by spaces and name each of the resulting substrings a \"feature\". This appears to be only <b>one</b> way to extract \"features\" from text data. Another seems to be <b>TfidfTransformer</b> and they are not mutually exclusive.\n",
    "\n",
    "It looks like the <b>fit()</b> function does the actual feature extraction and the <b>transform()</b> function turns it into a spase matrix. "
   ]
  },
  {
   "cell_type": "code",
   "execution_count": 19,
   "metadata": {},
   "outputs": [],
   "source": [
    "outlet_vector = CountVectorizer()\n",
    "outlet_train_fit = outlet_vector.fit(df_train_outlet['messy'])\n",
    "outlet_train_tf = outlet_train_fit.transform(df_train_outlet['messy'])"
   ]
  },
  {
   "cell_type": "markdown",
   "metadata": {},
   "source": [
    "To build intuition of what <b>CountVectorizer()</b> is doing and the results of <b>transform()</b>: \n",
    "1. Print the feature names\n",
    "2. Print the shape of the transform matrix\n",
    "3. Print the transform matrix elements\n",
    "\n",
    "The feature names are the variables. The variable is 1 if the \"messy\" outlet name includes that feature and 0 otherwise. <i>I am not sure why/how outlet_vector has feature names as well and outlet_train_tf has no features names.</i>"
   ]
  },
  {
   "cell_type": "code",
   "execution_count": 20,
   "metadata": {},
   "outputs": [
    {
     "name": "stdout",
     "output_type": "stream",
     "text": [
      "['best', 'bet', 'betsbuys', 'buys', 'gat', 'get', 'mrt', 'tar', 'targ', 'wal', 'wall', 'walmart', 'walmert']\n",
      "['best', 'bet', 'betsbuys', 'buys', 'gat', 'get', 'mrt', 'tar', 'targ', 'wal', 'wall', 'walmart', 'walmert']\n",
      "(9, 13)\n",
      "[[0 1 0 1 0 0 0 0 0 0 0 0 0]\n",
      " [1 0 0 1 0 0 0 0 0 0 0 0 0]\n",
      " [0 0 1 0 0 0 0 0 0 0 0 0 0]\n",
      " [0 0 0 0 0 0 0 0 0 0 0 0 1]\n",
      " [0 0 0 0 0 0 0 0 0 0 0 1 0]\n",
      " [0 0 0 0 0 0 1 0 0 1 0 0 0]\n",
      " [0 0 0 0 0 0 1 0 0 0 1 0 0]\n",
      " [0 0 0 0 1 0 0 1 0 0 0 0 0]\n",
      " [0 0 0 0 0 1 0 0 1 0 0 0 0]]\n"
     ]
    }
   ],
   "source": [
    "print(outlet_vector.get_feature_names())\n",
    "print(outlet_train_fit.get_feature_names())\n",
    "print(outlet_train_tf.shape)\n",
    "print(outlet_train_tf.toarray())"
   ]
  },
  {
   "cell_type": "markdown",
   "metadata": {},
   "source": [
    "### Building the Model"
   ]
  },
  {
   "cell_type": "markdown",
   "metadata": {},
   "source": [
    "Three logistics regressions are stored in <b>model</b> (there are other models available, such as MultinomialNB - naive Bayes). The theree models calculate the probability that the input will be equal to a category, in this case, \"Best Buy\", \"Wal-Mart\", or \"Target\".\n",
    "\n",
    "The values for our regressors are stored in <b>outlet_train_tf</b> and we are trying to fit them to <b>df_train_outlet['clean']</b>, which is the \"clean\" outlet name from our training dataset. The results will be coefficients for each of our feature variables.\n",
    "\n",
    "$$\\operatorname{Pr}(\\text{Outlet Name}) = \\frac{exp(\\alpha + \\beta_{1}\\mathrm{best}_{i}+ \\beta_{2}\\mathrm{bet}_{i}+ \\beta_{3}\\mathrm{betsbuys}_{i} + \\beta_{4}\\mathrm{buys}_{i} + ... + \\beta_{9}\\mathrm{walmert}_{i})}{1+exp(\\alpha + \\beta_{1}\\mathrm{best}_{i}+ \\beta_{2}\\mathrm{bet}_{i}+ \\beta_{3}\\mathrm{betsbuys}_{i} + \\beta_{4}\\mathrm{buys}_{i} + \\beta_{5}\\mathrm{mrt}_{i} + ... + \\beta_{9}\\mathrm{walmert}_{i})}$$"
   ]
  },
  {
   "cell_type": "code",
   "execution_count": 21,
   "metadata": {},
   "outputs": [
    {
     "data": {
      "text/plain": [
       "LogisticRegression(C=1.0, class_weight=None, dual=False, fit_intercept=True,\n",
       "          intercept_scaling=1, max_iter=100, multi_class='ovr', n_jobs=1,\n",
       "          penalty='l2', random_state=None, solver='liblinear', tol=0.0001,\n",
       "          verbose=0, warm_start=False)"
      ]
     },
     "execution_count": 21,
     "metadata": {},
     "output_type": "execute_result"
    }
   ],
   "source": [
    "model = LogisticRegression()\n",
    "model.fit(outlet_train_tf, df_train_outlet['clean'])"
   ]
  },
  {
   "cell_type": "markdown",
   "metadata": {},
   "source": [
    "For intuition, print the coefficients and the intercepts."
   ]
  },
  {
   "cell_type": "code",
   "execution_count": 22,
   "metadata": {},
   "outputs": [
    {
     "name": "stdout",
     "output_type": "stream",
     "text": [
      "[[ 0.35293808  0.35293808  0.49053479  0.70587616 -0.27027493 -0.27027493\n",
      "  -0.47529205 -0.27027493 -0.27027493 -0.23764602 -0.23764602 -0.31662451\n",
      "  -0.31662451]\n",
      " [-0.20653576 -0.20653576 -0.26971548 -0.41307152  0.45447395  0.45447395\n",
      "  -0.41307152  0.45447395  0.45447395 -0.20653576 -0.20653576 -0.26971548\n",
      "  -0.26971548]\n",
      " [-0.27878693 -0.27878693 -0.37912528 -0.55757385 -0.31994963 -0.31994963\n",
      "   0.61588609 -0.31994963 -0.31994963  0.30794304  0.30794304  0.42330551\n",
      "   0.42330551]] [-0.45267998 -0.72634159 -0.11410127]\n"
     ]
    }
   ],
   "source": [
    "print(model.coef_, model.intercept_)"
   ]
  },
  {
   "cell_type": "markdown",
   "metadata": {},
   "source": [
    "## Part 3: Predicting New Outlet Names"
   ]
  },
  {
   "cell_type": "markdown",
   "metadata": {},
   "source": [
    "Create an array which has all the outlet names we want to fix. Obviously, we are only doing this for learning purposes, so I am only using things close to \"Best Buy\" and \"Wal-Mart\"."
   ]
  },
  {
   "cell_type": "code",
   "execution_count": 23,
   "metadata": {},
   "outputs": [
    {
     "data": {
      "text/plain": [
       "array([[0, 0, 0, 1, 0, 0, 0, 0, 0, 0, 0, 0, 0],\n",
       "       [0, 0, 0, 0, 0, 0, 0, 0, 0, 0, 1, 0, 0],\n",
       "       [0, 0, 0, 0, 0, 0, 0, 1, 0, 0, 0, 0, 0]], dtype=int64)"
      ]
     },
     "execution_count": 23,
     "metadata": {},
     "output_type": "execute_result"
    }
   ],
   "source": [
    "new_outlet = [\"Better Buys\", \"Wall Cart\", \"Tar rat\"]\n",
    "outlet_new = outlet_vector.transform(new_outlet)\n",
    "outlet_new.toarray()"
   ]
  },
  {
   "cell_type": "markdown",
   "metadata": {},
   "source": [
    "Running the model to predict each new outlet will return the suggested outlet name with highest probability. Also, the actual probability for each outlet choice can be printed as well. "
   ]
  },
  {
   "cell_type": "code",
   "execution_count": 24,
   "metadata": {
    "collapsed": true
   },
   "outputs": [],
   "source": [
    "predicted = model.predict(outlet_new)\n",
    "prob = model.predict_proba(outlet_new)"
   ]
  },
  {
   "cell_type": "code",
   "execution_count": 25,
   "metadata": {},
   "outputs": [
    {
     "name": "stdout",
     "output_type": "stream",
     "text": [
      "Best Buy [ 0.49231012  0.21200295  0.29568693]\n",
      "Wal-Mart [ 0.28675713  0.24243399  0.47080888]\n",
      "Target [ 0.28354443  0.37527521  0.34118036]\n"
     ]
    }
   ],
   "source": [
    "for p, i in zip(predicted, prob):\n",
    "    print(p,i)"
   ]
  },
  {
   "cell_type": "code",
   "execution_count": null,
   "metadata": {
    "collapsed": true
   },
   "outputs": [],
   "source": []
  }
 ],
 "metadata": {
  "kernelspec": {
   "display_name": "Python [default]",
   "language": "python",
   "name": "python3"
  },
  "language_info": {
   "codemirror_mode": {
    "name": "ipython",
    "version": 3
   },
   "file_extension": ".py",
   "mimetype": "text/x-python",
   "name": "python",
   "nbconvert_exporter": "python",
   "pygments_lexer": "ipython3",
   "version": "3.5.3"
  }
 },
 "nbformat": 4,
 "nbformat_minor": 2
}
