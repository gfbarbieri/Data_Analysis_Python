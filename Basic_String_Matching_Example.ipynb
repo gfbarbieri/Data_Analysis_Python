{
 "cells": [
  {
   "cell_type": "markdown",
   "metadata": {},
   "source": [
    "# Basic String Matching\n",
    "\n",
    "The Consumer Price Index Program at the Bureau of Labor Statistics uses a survey called the Telephone Point of Purchase Survey (TPOPS) to collect data on where people shop. <a href=\"https://www.bls.gov/opub/hom/pdf/homch17.pdf\">The BLS Handbook of Methods</a> discusses this survey, starting on page 13.\n",
    "\n",
    "One could imagine the various ways store names and locations show up in survey data. Incorrect spelling (\"Wallmart\" vs \"Wal-Mart\") and regional understandings (\"King St\" vs \"Route 7\") are common reasons for the variations. The added task of matching incoming reports to a database table of previous reports (record linking) means a considerable amount of effort is used to clean or standardize survey data.\n",
    "\n",
    "Testing ways to improve this process is important and designing a test is the focus of this post. In this post we will use string distance to match mock survey reports to a universe of stores in an attempt to standardize the names reported."
   ]
  },
  {
   "cell_type": "markdown",
   "metadata": {},
   "source": [
    "### Import Libraries\n",
    "\n",
    "Let's import the needed libraries before we continue.\n",
    "\n",
    "<ol>\n",
    "<li>Pandas</li>\n",
    "<li>Numpy</li>\n",
    "<li>JellyFish</li>\n",
    "<li>Itertools</li>\n",
    "<li>Matplotlib</li>\n",
    "</ol>"
   ]
  },
  {
   "cell_type": "code",
   "execution_count": 1,
   "metadata": {
    "collapsed": true
   },
   "outputs": [],
   "source": [
    "import pandas as pd\n",
    "import numpy as np\n",
    "import jellyfish as jf\n",
    "import itertools as it\n",
    "import matplotlib.pyplot as plt"
   ]
  },
  {
   "cell_type": "markdown",
   "metadata": {},
   "source": [
    "### Creating Tables\n",
    "\n",
    "Two tables are required for this test:\n",
    "<ol>\n",
    "    <li>An answer key or \"gold standard\"</li>\n",
    "    <li>A universe of standardized store names.</li>\n",
    "</ol>\n",
    "\n",
    "The answer key will allow us to determine whether a suggested match is the correct store name or not. The answer key is the most time consuming and underappreciated part of preparing these investigations. \n",
    "\n",
    "The universe is a list of all correct store names. When testing it is helpful to make sure all reported store names have a possible match in the universe list. Otherwise, there is the possibility of a store name guaranteed to not have a match, regardless of the algorithm used. Since the goal is to test an algorithm, that would be an unhelpful result."
   ]
  },
  {
   "cell_type": "markdown",
   "metadata": {},
   "source": [
    "#### Table 1: Answer Key\n",
    "\n",
    "An answer key has two things--a report and an answer. If a report is located all in one column, then there will be only two columns. In our case, the report is simply a store name. Depending on what needs to be matched, more columns could be added, such as a city, state, street name, or some sort of categorical identifier. In this test, one column will be populated with incoming survey data and another populated with the standardized name (the answer).\n",
    "\n",
    "For example, let's say we received four reports, as shown in the table below. The reported store names are on the left and the \"correct\" store names are on the right. Notice we can have duplicates of the correct store name; duplicate standardized store names are fine and expected.\n",
    "\n",
    "<table style=\"width:25%\">\n",
    "  <caption>Format for Answer Key</caption>\n",
    "    <tr>\n",
    "      <th>Reported Store Name (Survey)</th>\n",
    "      <th>Standardized Store Name (Answer)</th> \n",
    "    </tr>\n",
    "    <tr>\n",
    "      <td>Bst Bye</td>\n",
    "      <td>Best Buy</td>\n",
    "    </tr>\n",
    "    <tr>\n",
    "      <td>Bestby</td>\n",
    "      <td>Best Buy</td> \n",
    "    </tr> \n",
    "    <tr>\n",
    "      <td>Wal mert</td>\n",
    "      <td>Wal-Mart</td> \n",
    "    </tr>\n",
    "    <tr>\n",
    "      <td>While food</td>\n",
    "      <td>Whole Foods Market</td> \n",
    "    </tr>   \n",
    "</table>\n",
    "<br>\n",
    "Humorously, the steps to create mock data (and answer key) are the reverse for creating a key from actual survey data. First, I searched for grocery stores using <a href=\"https://developers.google.com/places/\">Google's API</a>, culminating in 158 stores from 12 cities in 9 states. Second, since Google returned to me perfectly formatted store names, I had to deliberately make typos in the store names to simulate survey data.\n",
    "\n",
    "The answer key is available on my <a href=\"https://github.com/gfbarbieri/Data_Analysis_Python/blob/master/Basic_String_Matching_Answer_Key.xls\">Github page</a>, with an import statement below."
   ]
  },
  {
   "cell_type": "code",
   "execution_count": 2,
   "metadata": {},
   "outputs": [
    {
     "data": {
      "text/html": [
       "<div>\n",
       "<style>\n",
       "    .dataframe thead tr:only-child th {\n",
       "        text-align: right;\n",
       "    }\n",
       "\n",
       "    .dataframe thead th {\n",
       "        text-align: left;\n",
       "    }\n",
       "\n",
       "    .dataframe tbody tr th {\n",
       "        vertical-align: top;\n",
       "    }\n",
       "</style>\n",
       "<table border=\"1\" class=\"dataframe\">\n",
       "  <thead>\n",
       "    <tr style=\"text-align: right;\">\n",
       "      <th></th>\n",
       "      <th>Reported</th>\n",
       "      <th>Answer</th>\n",
       "    </tr>\n",
       "  </thead>\n",
       "  <tbody>\n",
       "    <tr>\n",
       "      <th>0</th>\n",
       "      <td>A Mattier ofh Hellth</td>\n",
       "      <td>A Matter of Health</td>\n",
       "    </tr>\n",
       "    <tr>\n",
       "      <th>1</th>\n",
       "      <td>A&amp;G Freshq Markeht</td>\n",
       "      <td>A&amp;G Fresh Market</td>\n",
       "    </tr>\n",
       "    <tr>\n",
       "      <th>2</th>\n",
       "      <td>A-Groncery Warehgouse</td>\n",
       "      <td>A-Grocery Warehouse</td>\n",
       "    </tr>\n",
       "    <tr>\n",
       "      <th>3</th>\n",
       "      <td>ndronicos Maket</td>\n",
       "      <td>Andronico's Market</td>\n",
       "    </tr>\n",
       "    <tr>\n",
       "      <th>4</th>\n",
       "      <td>Atla Market</td>\n",
       "      <td>Atlas Market</td>\n",
       "    </tr>\n",
       "  </tbody>\n",
       "</table>\n",
       "</div>"
      ],
      "text/plain": [
       "                Reported               Answer\n",
       "0   A Mattier ofh Hellth   A Matter of Health\n",
       "1     A&G Freshq Markeht     A&G Fresh Market\n",
       "2  A-Groncery Warehgouse  A-Grocery Warehouse\n",
       "3        ndronicos Maket   Andronico's Market\n",
       "4            Atla Market         Atlas Market"
      ]
     },
     "execution_count": 2,
     "metadata": {},
     "output_type": "execute_result"
    }
   ],
   "source": [
    "answer_key = pd.read_excel(io=\"Basic_String_Matching_Answer_Key.xls\",\n",
    "                           sheet=\"Reported Stores\")\n",
    "answer_key.head()"
   ]
  },
  {
   "cell_type": "markdown",
   "metadata": {},
   "source": [
    "#### Table 2: Universe\n",
    "\n",
    "The second table is the universe of stores. This is the list of all possible stores in the universe to match a survey report to. To create that from the first table, take the unique reports of the standardized column.\n",
    "\n",
    "The format for the universe table is below.\n",
    "\n",
    "<table style=\"width:15%\">\n",
    "    <caption>Format for Universe</caption>\n",
    "    <tr>\n",
    "        <th>Standardized Store Name</th> \n",
    "    </tr>\n",
    "    <tr>\n",
    "        <td>Wal-Mart</td>\n",
    "    </tr>\n",
    "    <tr>\n",
    "        <td>Best Buy</td>\n",
    "    </tr>\n",
    "    <tr>\n",
    "        <td>Whole Foods Market</td>\n",
    "    </tr>\n",
    "</table>"
   ]
  },
  {
   "cell_type": "code",
   "execution_count": 3,
   "metadata": {},
   "outputs": [
    {
     "data": {
      "text/plain": [
       "0     A Matter of Health\n",
       "1       A&G Fresh Market\n",
       "2    A-Grocery Warehouse\n",
       "3     Andronico's Market\n",
       "4           Atlas Market\n",
       "Name: Standardized Name, dtype: object"
      ]
     },
     "execution_count": 3,
     "metadata": {},
     "output_type": "execute_result"
    }
   ],
   "source": [
    "df = answer_key['Answer'].drop_duplicates(inplace=False)\n",
    "df.rename(index='Standardized Name', inplace=True)\n",
    "df.head()"
   ]
  },
  {
   "cell_type": "markdown",
   "metadata": {},
   "source": [
    "### Functions\n",
    "This is where you would define the functions which would calculate the string distances. There are several available through the <b>JellyFish</b> library, and below I listed five of the most common string distance measures used. For this post, I only wrote one function using the Levenshtein distance.\n",
    "<ol>\n",
    "<li>Soundex</li>\n",
    "<li>Levenshtein Distance</li>\n",
    "<li>Damerau-Levenshtein Distance</li>\n",
    "<li>Jaro Distance</li>\n",
    "<li>Jaro-Winkler Distance</li>\n",
    "</ol>"
   ]
  },
  {
   "cell_type": "code",
   "execution_count": 4,
   "metadata": {
    "collapsed": true
   },
   "outputs": [],
   "source": [
    "def calc_leven(row):\n",
    "    reported_store = row['Reported']\n",
    "    standardized_store = row['Standardized Name']\n",
    "    return jf.levenshtein_distance(reported_store, standardized_store)"
   ]
  },
  {
   "cell_type": "markdown",
   "metadata": {},
   "source": [
    "### Suggest Matching Store Name (Minimum String Distance)\n",
    "\n",
    "Lets walk through the steps for determining a best match using string distance.\n",
    "\n",
    "<ol>\n",
    "<li>\n",
    "For each store reported, we will use the <b>product()</b> function from the <b>Itertools</b> library to create a Cartesian product between the reported store and every store name in the universe. The resulting list, called <b>comparisons</b>, will have one column for the reported store name and one column for every store name in the universe. There will be as many rows as there are store names in the universe table. Use the <b>comparision</b> list to populate a dataframe called <b>compare_store_names</b>.\n",
    "</li>\n",
    "<table style=\"width:25%\">\n",
    "    <caption>Example for \"Bst Bye\"</caption>\n",
    "    <tr>\n",
    "      <th>Reported Store Name</th>\n",
    "      <th>Standardized Store Name</th>\n",
    "    </tr>\n",
    "    <tr>\n",
    "        <td>Bst Bye</td>\n",
    "        <td>Wal-Mart</td>\n",
    "    </tr>\n",
    "    <tr>\n",
    "        <td>Bst Bye</td>\n",
    "        <td>Best Buy</td>\n",
    "    </tr>\n",
    "    <tr>\n",
    "        <td>Bst Bye</td>\n",
    "        <td>Whole Foods</td>\n",
    "    </tr>\n",
    "</table>\n",
    "<br>\n",
    "<li>\n",
    "Add back the correct store name associated with the reported store name to the dataframe <b>compare_store_names</b>. We will use it to compare the correct store name with the store name selected at the end of the algorithm.\n",
    "</li>\n",
    "<table style=\"width:50%\">\n",
    "    <caption>Example for \"Bst Bye\"</caption>\n",
    "    <tr>\n",
    "      <th>Reported Store Name</th>\n",
    "      <th>Standardized Store Name</th>\n",
    "      <th>Answer/Correct Store Name</th>\n",
    "    </tr>\n",
    "    <tr>\n",
    "        <td>Bst Bye</td>\n",
    "        <td>Best Buy</td>\n",
    "        <td>Wal-Mart</td>\n",
    "    </tr>\n",
    "    <tr>\n",
    "        <td>Bst Bye</td>\n",
    "        <td>Best Buy</td>\n",
    "        <td>Best Buy</td>\n",
    "    </tr>\n",
    "    <tr>\n",
    "        <td>Bst Bye</td>\n",
    "        <td>Best Buy</td>\n",
    "        <td>Whole Foods</td>\n",
    "    </tr>\n",
    "</table>\n",
    "<br>\n",
    "<li>\n",
    "Calculate the string distance between the reported store name and the standardized store name from the universe dataset.\n",
    "</li>\n",
    "<table style=\"width:75%\">\n",
    "    <caption>Example for \"Bst Bye\"</caption>\n",
    "    <tr>\n",
    "      <th>Reported Store Name</th>\n",
    "      <th>Standardized Store Name</th>\n",
    "      <th>Answer/Correct Store Name</th>\n",
    "      <th>Distance Measure</th>\n",
    "    </tr>\n",
    "    <tr>\n",
    "        <td>Bst Bye</td>\n",
    "        <td>Best Buy</td>\n",
    "        <td>Wal-Mart</td>\n",
    "        <td>8</td>\n",
    "    </tr>\n",
    "    <tr>\n",
    "        <td>Bst Bye</td>\n",
    "        <td>Best Buy</td>\n",
    "        <td>Best Buy</td>\n",
    "        <td>3</td>\n",
    "    </tr>\n",
    "    <tr>\n",
    "        <td>Bst Bye</td>\n",
    "        <td>Best Buy</td>\n",
    "        <td>Whole Foods</td>\n",
    "        <td>12</td>\n",
    "    </tr>\n",
    "</table>\n",
    "<br>\n",
    "<li>\n",
    "This next step is to design a tie breaker rule if minimum string distances that are equal. In this test plan we select with equal probability using the <b>sample()</b> function in the <b>Pandas</b> library. Equal probabilities can be used setting the parameter <b>weights</b> equal to \"None\". Store the selected store name in a dataframe called <b>suggestion</b>.\n",
    "</li>\n",
    "<table style=\"width:75%\">\n",
    "    <caption>Final dataset with suggested store name by algorithm</caption>\n",
    "    <tr>\n",
    "      <th>Reported Store Name</th>\n",
    "      <th>Standardized Store Name</th>\n",
    "      <th>Answer/Correct Store Name</th>\n",
    "      <th>Distance Measure</th>\n",
    "    </tr>\n",
    "    <tr>\n",
    "        <td>Bst Bye</td>\n",
    "        <td>Best Buy</td>\n",
    "        <td>Best Buy</td>\n",
    "        <td>3</td>\n",
    "    </tr>\n",
    "</table>\n",
    "<br>\n",
    "<li>\n",
    "Finally, append the store name suggested by the algorithm in <b>suggestion</b> to a dataframe called <b>suggested_store_names</b>.\n",
    "</li>\n",
    "</ol>"
   ]
  },
  {
   "cell_type": "code",
   "execution_count": 5,
   "metadata": {
    "collapsed": true
   },
   "outputs": [],
   "source": [
    "suggested_store_names = pd.DataFrame()\n",
    "\n",
    "for index, store in answer_key.iterrows():\n",
    "    #1.\n",
    "    comparisons = list(it.product([store[0]], df))\n",
    "    compare_store_names = pd.DataFrame(comparisons, columns=['Reported', 'Standardized Name'])\n",
    "    \n",
    "    #2.\n",
    "    compare_store_names['Answer'] = store[1]\n",
    "    \n",
    "    #3.\n",
    "    compare_store_names['Leven_Dist'] = compare_store_names.apply(calc_leven, axis=1)\n",
    "\n",
    "    #4.\n",
    "    minimum_string_distance = min(compare_store_names['Leven_Dist'])\n",
    "    \n",
    "    suggestion = compare_store_names[compare_store_names['Leven_Dist'] == minimum_string_distance]\n",
    "    suggestion = suggestion.sample(n=1, replace=False, weights=None, random_state=101)\n",
    "    \n",
    "    #5.\n",
    "    suggested_store_names = suggested_store_names.append(suggestion)"
   ]
  },
  {
   "cell_type": "markdown",
   "metadata": {},
   "source": [
    "### Determining a Match\n",
    "\n",
    "If the suggested store name equals the correct store name associated with the reported store name, then Match = 1, otherwise Match = 0. The assignment of the variable Match is done using the <b>where()</b> function from the <b>Numpy</b> library."
   ]
  },
  {
   "cell_type": "code",
   "execution_count": 6,
   "metadata": {
    "scrolled": true
   },
   "outputs": [
    {
     "data": {
      "text/html": [
       "<div>\n",
       "<style>\n",
       "    .dataframe thead tr:only-child th {\n",
       "        text-align: right;\n",
       "    }\n",
       "\n",
       "    .dataframe thead th {\n",
       "        text-align: left;\n",
       "    }\n",
       "\n",
       "    .dataframe tbody tr th {\n",
       "        vertical-align: top;\n",
       "    }\n",
       "</style>\n",
       "<table border=\"1\" class=\"dataframe\">\n",
       "  <thead>\n",
       "    <tr style=\"text-align: right;\">\n",
       "      <th></th>\n",
       "      <th>Reported</th>\n",
       "      <th>Standardized Name</th>\n",
       "      <th>Answer</th>\n",
       "      <th>Leven_Dist</th>\n",
       "      <th>Leven_Dist_Match</th>\n",
       "    </tr>\n",
       "  </thead>\n",
       "  <tbody>\n",
       "    <tr>\n",
       "      <th>0</th>\n",
       "      <td>A Mattier ofh Hellth</td>\n",
       "      <td>A Matter of Health</td>\n",
       "      <td>A Matter of Health</td>\n",
       "      <td>3</td>\n",
       "      <td>1</td>\n",
       "    </tr>\n",
       "    <tr>\n",
       "      <th>1</th>\n",
       "      <td>A&amp;G Freshq Markeht</td>\n",
       "      <td>A&amp;G Fresh Market</td>\n",
       "      <td>A&amp;G Fresh Market</td>\n",
       "      <td>2</td>\n",
       "      <td>1</td>\n",
       "    </tr>\n",
       "    <tr>\n",
       "      <th>2</th>\n",
       "      <td>A-Groncery Warehgouse</td>\n",
       "      <td>A-Grocery Warehouse</td>\n",
       "      <td>A-Grocery Warehouse</td>\n",
       "      <td>2</td>\n",
       "      <td>1</td>\n",
       "    </tr>\n",
       "    <tr>\n",
       "      <th>3</th>\n",
       "      <td>ndronicos Maket</td>\n",
       "      <td>Andronico's Market</td>\n",
       "      <td>Andronico's Market</td>\n",
       "      <td>3</td>\n",
       "      <td>1</td>\n",
       "    </tr>\n",
       "    <tr>\n",
       "      <th>4</th>\n",
       "      <td>Atla Market</td>\n",
       "      <td>Atlas Market</td>\n",
       "      <td>Atlas Market</td>\n",
       "      <td>1</td>\n",
       "      <td>1</td>\n",
       "    </tr>\n",
       "  </tbody>\n",
       "</table>\n",
       "</div>"
      ],
      "text/plain": [
       "                Reported    Standardized Name               Answer  \\\n",
       "0   A Mattier ofh Hellth   A Matter of Health   A Matter of Health   \n",
       "1     A&G Freshq Markeht     A&G Fresh Market     A&G Fresh Market   \n",
       "2  A-Groncery Warehgouse  A-Grocery Warehouse  A-Grocery Warehouse   \n",
       "3        ndronicos Maket   Andronico's Market   Andronico's Market   \n",
       "4            Atla Market         Atlas Market         Atlas Market   \n",
       "\n",
       "   Leven_Dist  Leven_Dist_Match  \n",
       "0           3                 1  \n",
       "1           2                 1  \n",
       "2           2                 1  \n",
       "3           3                 1  \n",
       "4           1                 1  "
      ]
     },
     "execution_count": 6,
     "metadata": {},
     "output_type": "execute_result"
    }
   ],
   "source": [
    "suggested_store_names['Leven_Dist_Match'] = np.where(suggested_store_names['Answer'] == suggested_store_names['Standardized Name'], 1, 0)\n",
    "suggested_store_names.head()"
   ]
  },
  {
   "cell_type": "markdown",
   "metadata": {},
   "source": [
    "#### Plotting Match Rates\n",
    "\n",
    "In this test, we only used one string distance measure, however, a real test would involve several. In that situation, we would want to plot the match rate of each string distance measure. The graph below, while naive with only one measure, shows that selecting a store based on the minimum Levenshtein distance was correct 100% of the time. I guess the typos I made were not realistic enough!"
   ]
  },
  {
   "cell_type": "code",
   "execution_count": 7,
   "metadata": {},
   "outputs": [
    {
     "data": {
      "image/png": "[encoded data removed]",
      "text/plain": [
       "<matplotlib.figure.Figure at 0x2ba26308048>"
      ]
     },
     "metadata": {},
     "output_type": "display_data"
    }
   ],
   "source": [
    "Leven_Dist_Match_Rate = suggested_store_names['Leven_Dist_Match'].value_counts()[1] / len(suggested_store_names)\n",
    "Match_Rates = pd.DataFrame(np.column_stack([Leven_Dist_Match_Rate]),columns=['Leven'])\n",
    "\n",
    "Match_Rates.plot(kind='bar')\n",
    "plt.show()"
   ]
  },
  {
   "cell_type": "markdown",
   "metadata": {},
   "source": [
    "### Export Matches to Excel\n",
    "\n",
    "We may also want to export the matches to Excel, which is another place one would calculate and plot match rates (change the file path)."
   ]
  },
  {
   "cell_type": "code",
   "execution_count": 8,
   "metadata": {
    "collapsed": true
   },
   "outputs": [],
   "source": [
    "suggested_store_names.to_excel(excel_writer=\"Basic_String_Matching_Results.xls\", \n",
    "                               sheet_name=\"Suggested Store Names\", \n",
    "                               index=False)"
   ]
  }
 ],
 "metadata": {
  "kernelspec": {
   "display_name": "Python 3",
   "language": "python",
   "name": "python3"
  },
  "language_info": {
   "codemirror_mode": {
    "name": "ipython",
    "version": 3
   },
   "file_extension": ".py",
   "mimetype": "text/x-python",
   "name": "python",
   "nbconvert_exporter": "python",
   "pygments_lexer": "ipython3",
   "version": "3.5.3"
  }
 },
 "nbformat": 4,
 "nbformat_minor": 2
}
