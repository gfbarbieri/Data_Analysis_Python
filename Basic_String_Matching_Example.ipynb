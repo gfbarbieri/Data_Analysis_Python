{
 "cells": [
  {
   "cell_type": "markdown",
   "metadata": {},
   "source": [
    "# Basic String Matching\n",
    "\n",
    "Below is an example of calculating string distances and collecting the shortest distance. No tie-breaking rules were used and no pre-cleaning of text data was performed. The example shown in the markup tables below are <b>fake</b> data."
   ]
  },
  {
   "cell_type": "markdown",
   "metadata": {},
   "source": [
    "#### Import Libraries:\n",
    "<ol>\n",
    "<li>Pandas</li>\n",
    "<li>Numpy</li>\n",
    "<li>JellyFish</li>\n",
    "<li>IterTools</li>\n",
    "</ol>"
   ]
  },
  {
   "cell_type": "code",
   "execution_count": null,
   "metadata": {
    "collapsed": true
   },
   "outputs": [],
   "source": [
    "import pandas as pd\n",
    "import numpy as np\n",
    "import jellyfish as jf\n",
    "import itertools as it"
   ]
  },
  {
   "cell_type": "markdown",
   "metadata": {},
   "source": [
    "#### Import Datasets\n",
    "\n",
    "<ol>\n",
    "<li>\n",
    "The first table will have all of the outlets you want to standardize (ie, clean or get a suggested outlet for). It should have two columns. The first column will be the unstandardized/dirty outlet name. The second column is the answer key, ie, the correct outlet name. You are required to have a correct outlet name to compared the suggested outlet to.\n",
    "</li>\n",
    "\n",
    "<table style=\"width:25%\">\n",
    "  <caption>Format for Table 1</caption>\n",
    "    <tr>\n",
    "      <th>Unstandardized Outlet Name</th>\n",
    "      <th>Standardized Outlet Name</th> \n",
    "    </tr>\n",
    "    <tr>\n",
    "      <td>Bst Bye</td>\n",
    "      <td>Best Buy</td>\n",
    "    </tr>\n",
    "    <tr>\n",
    "      <td>Wal mert</td>\n",
    "      <td>Wal-Mart</td> \n",
    "    </tr>\n",
    "    <tr>\n",
    "      <td>While food</td>\n",
    "      <td>WholeFoods</td> \n",
    "    </tr>\n",
    "</table>\n",
    "\n",
    "<br>\n",
    "\n",
    "<li>\n",
    "The second table will have the universe of clean/standardized outlet names. This is the table you will compare the dirty outlet name to and get a suggestion from. It is important for this experiment that the correct answer exist in this table, otherwise there will be errors of a certain type that are not important to the experiment. However, those types of errors will certainly take place in practice.\n",
    "</li>\n",
    "\n",
    "<table style=\"width:15%\">\n",
    "    <caption>Format for Table 2</caption>\n",
    "    <tr>\n",
    "        <th>Standardized Outlet Name</th> \n",
    "    </tr>\n",
    "    <tr>\n",
    "        <td>Wal-Mart</td>\n",
    "    </tr>\n",
    "    <tr>\n",
    "        <td>Best Buy</td>\n",
    "    </tr>\n",
    "    <tr>\n",
    "        <td>WholeFoods</td>\n",
    "    </tr>\n",
    "</table>\n",
    "\n",
    "</ol>"
   ]
  },
  {
   "cell_type": "code",
   "execution_count": null,
   "metadata": {
    "collapsed": true
   },
   "outputs": [],
   "source": [
    "#Table 1\n",
    "unstandard_outlets = pd.read_excel(io=\"\",\n",
    "                             names=[\"Unstandardized\",\"Answer\"])\n",
    "\n",
    "#Table 2\n",
    "universe_outlets = pd.read_excel(io=\"\",\n",
    "                              names=[\"Universe\"])"
   ]
  },
  {
   "cell_type": "markdown",
   "metadata": {},
   "source": [
    "#### Functions\n",
    "Below is where you would define the functions which would calculate the string distances. I used five measures (listed below), but for simplicity, I only show one function as an example.\n",
    "<ol>\n",
    "<li>Soundex</li>\n",
    "<li>Levenshtein Distance</li>\n",
    "<li>Damerau-Levenshtein Distance</li>\n",
    "<li>Jaro Distance</li>\n",
    "<li>Jaro-Winkler Distance</li>\n",
    "</ol>"
   ]
  },
  {
   "cell_type": "code",
   "execution_count": null,
   "metadata": {
    "collapsed": true
   },
   "outputs": [],
   "source": [
    "def calc_leven(row):\n",
    "    outlet_d = row['Unstandardized']\n",
    "    outlet_u = row['Universe']\n",
    "    return jf.levenshtein_distance(outlet_d, outlet_u)"
   ]
  },
  {
   "cell_type": "markdown",
   "metadata": {},
   "source": [
    "#### Find Shortest Distance (Best Match)\n",
    "<ol>\n",
    "<li>\n",
    "For each outlet to clean (standardize), create a dataset with one column for the dirty/unstandardized outlet and one column for every standardized outlet in the universe. It should produce a table with as name rows as there are standardized outlet in the universe. The column with the dirty outlet will be the same outlet repeated for every row.\n",
    "</li>\n",
    "<table style=\"width:25%\">\n",
    "    <caption>Example for \"Bst Bye\"</caption>\n",
    "    <tr>\n",
    "      <th>Unstandardized Outlet Name (Dirty)</th>\n",
    "      <th>Standardized Outlet (Universe)</th>\n",
    "    </tr>\n",
    "    <tr>\n",
    "        <td>Bst Bye</td>\n",
    "        <td>Wal-Mart</td>\n",
    "    </tr>\n",
    "    <tr>\n",
    "        <td>Bst Bye</td>\n",
    "        <td>Best Buy</td>\n",
    "    </tr>\n",
    "    <tr>\n",
    "        <td>Bst Bye</td>\n",
    "        <td>Whole Foods</td>\n",
    "    </tr>\n",
    "</table>\n",
    "<br>\n",
    "<li>\n",
    "Add the clean/standardized version of the dirty outlet name (answer key). We need it back to compare it to the \"suggested\" outlet from the algorithm.\n",
    "</li>\n",
    "<table style=\"width:50%\">\n",
    "    <caption>Example for \"Bst Bye\"</caption>\n",
    "    <tr>\n",
    "      <th>Unstandardized Outlet Name (Dirty)</th>\n",
    "      <th>Standardized Outlet (Answer/Clean)</th>\n",
    "      <th>Standardized Outlet (Universe)</th>\n",
    "    </tr>\n",
    "    <tr>\n",
    "        <td>Bst Bye</td>\n",
    "        <td>Best Buy</td>\n",
    "        <td>Wal-Mart</td>\n",
    "    </tr>\n",
    "    <tr>\n",
    "        <td>Bst Bye</td>\n",
    "        <td>Best Buy</td>\n",
    "        <td>Best Buy</td>\n",
    "    </tr>\n",
    "    <tr>\n",
    "        <td>Bst Bye</td>\n",
    "        <td>Best Buy</td>\n",
    "        <td>Whole Foods</td>\n",
    "    </tr>\n",
    "</table>\n",
    "<br>\n",
    "<li>\n",
    "Calculate the distance between the dirty outlet name and the universe. Sort the distances from low to high.\n",
    "</li>\n",
    "<table style=\"width:75%\">\n",
    "    <caption>Example for \"Bst Bye\"</caption>\n",
    "    <tr>\n",
    "      <th>Unstandardized Outlet Name (Dirty)</th>\n",
    "      <th>Standardized Outlet (Answer/Clean)</th>\n",
    "      <th>Standardized Outlet (Universe)</th>\n",
    "      <th>Distance Measure (Unstandard vs Universe)</th>\n",
    "    </tr>\n",
    "    <tr>\n",
    "        <td>Bst Bye</td>\n",
    "        <td>Best Buy</td>\n",
    "        <td>Best Buy</td>\n",
    "        <td>0</td>\n",
    "    </tr>\n",
    "    <tr>\n",
    "        <td>Bst Bye</td>\n",
    "        <td>Best Buy</td>\n",
    "        <td>Wal-Mart</td>\n",
    "        <td>12</td>\n",
    "    </tr>\n",
    "    <tr>\n",
    "        <td>Bst Bye</td>\n",
    "        <td>Best Buy</td>\n",
    "        <td>Whole Foods</td>\n",
    "        <td>10</td>\n",
    "    </tr>\n",
    "</table>\n",
    "<br>\n",
    "<li>\n",
    "Take the first row of the dataset (minimum distance). Point of concern: <i>no rules for breaking ties</i>. Append the results to another dataset for each outlet. The final dataset will have the suggested outlets based on the minimum distance.\n",
    "</li>\n",
    "<table style=\"width:75%\">\n",
    "    <caption>Final dataset with suggested outlet</caption>\n",
    "    <tr>\n",
    "      <th>Unstandardized Outlet Name (Dirty)</th>\n",
    "      <th>Standardized Outlet (Answer/Clean)</th>\n",
    "      <th>Standardized Outlet (Universe)</th>\n",
    "      <th>Distance Measure (Unstandard vs Universe)</th>\n",
    "    </tr>\n",
    "    <tr>\n",
    "        <td>Bst Bye</td>\n",
    "        <td>Best Buy</td>\n",
    "        <td>Best Buy</td>\n",
    "        <td>0</td>\n",
    "    </tr>\n",
    "</table>\n",
    "</ol>"
   ]
  },
  {
   "cell_type": "code",
   "execution_count": null,
   "metadata": {
    "collapsed": true
   },
   "outputs": [],
   "source": [
    "tdf_f = pd.DataFrame(columns = ['Unstandardized', 'Universe', 'Answer', 'Distance'])\n",
    "\n",
    "for index, outlet in unstandardized_outlets.iterrows():\n",
    "    #1.\n",
    "    combination = list(it.product([outlet[0]], universe_outlets['Universe']))\n",
    "    tdf = pd.DataFrame(combination, columns=['Unstandardized', 'Universe'])\n",
    "    \n",
    "    #2.\n",
    "    tdf['Answer'] = outlet[1]\n",
    "    \n",
    "    #3.\n",
    "    tdf['Distance'] = tdf.apply(calc_leven, axis=1)\n",
    "\n",
    "    #4.\n",
    "    tdf = tdf.sort_values('Distance').head(1)\n",
    "    tdf_f = tdf_f.append(tdf)"
   ]
  },
  {
   "cell_type": "markdown",
   "metadata": {},
   "source": [
    "#### Determining a Match\n",
    "\n",
    "If the suggested outlet equals the clean outlet (the answer) then Match = 1, otherwise, 0."
   ]
  },
  {
   "cell_type": "code",
   "execution_count": null,
   "metadata": {
    "scrolled": true
   },
   "outputs": [],
   "source": [
    "tdf_f['Match'] = np.where(tdf_f['Answer'] == tdf_f['Universe'], 1, 0)"
   ]
  },
  {
   "cell_type": "markdown",
   "metadata": {},
   "source": [
    "The match rate is the proportion of Match = 1, which we can create here and print for reference."
   ]
  },
  {
   "cell_type": "code",
   "execution_count": null,
   "metadata": {
    "collapsed": true
   },
   "outputs": [],
   "source": [
    "Match_Counts = tdf_f['Match'].value_counts()\n",
    "Match_Rate = Match_Counts[1] / (Match_Counts[0] + Match_Counts[1])\n",
    "Match_Rate"
   ]
  },
  {
   "cell_type": "markdown",
   "metadata": {},
   "source": [
    "#### Export to Excel"
   ]
  },
  {
   "cell_type": "code",
   "execution_count": null,
   "metadata": {
    "collapsed": true
   },
   "outputs": [],
   "source": [
    "tdf_f.to_excel(\"\",\n",
    "               sheet_name=\"Suggested Outlets\",\n",
    "               index=False)"
   ]
  }
 ],
 "metadata": {
  "kernelspec": {
   "display_name": "Python [default]",
   "language": "python",
   "name": "python3"
  },
  "language_info": {
   "codemirror_mode": {
    "name": "ipython",
    "version": 3
   },
   "file_extension": ".py",
   "mimetype": "text/x-python",
   "name": "python",
   "nbconvert_exporter": "python",
   "pygments_lexer": "ipython3",
   "version": "3.5.3"
  }
 },
 "nbformat": 4,
 "nbformat_minor": 2
}
