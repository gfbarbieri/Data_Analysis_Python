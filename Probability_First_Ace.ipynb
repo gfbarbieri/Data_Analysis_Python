{
 "cells": [
  {
   "cell_type": "markdown",
   "metadata": {},
   "source": [
    "### Import Libraries"
   ]
  },
  {
   "cell_type": "code",
   "execution_count": 1,
   "metadata": {},
   "outputs": [],
   "source": [
    "import numpy as np\n",
    "import matplotlib.pyplot as plt"
   ]
  },
  {
   "cell_type": "markdown",
   "metadata": {},
   "source": [
    "### Simulation\n",
    "\n",
    "The simulation follows these steps (1,000,000 runs):\n",
    "\n",
    "<ol>\n",
    "    <li>Create 52 cards, but we do not need the suits. Use the <b>repeat</b> in the <b>numpy</b> library to combine the ranks four times.</li>\n",
    "    <li>Randomly select 5 cards from 52. I realize that we could just have easily created all possible combinations of 5 cards from 52, something I have done before, instead of randomly drawing.</li>\n",
    "    <li>Check if the 5 card hand has an ace in it. The <b>isin</b> module returns an array with boolean values.</li>\n",
    "    <li>If the returned array has \"True\" anywhere, that is, there is in fact an ace present in the hand, then we want to know where in the array it is. I incremented its location by one since Python indexes at 0, making it more intuitive when thinking about \"when\" the ace was \"dealt\".</li>\n",
    "    <li>Append the location to a separate list called <b>first_ace_loc</b> to keep track.</li>\n",
    "</ol>"
   ]
  },
  {
   "cell_type": "code",
   "execution_count": 2,
   "metadata": {},
   "outputs": [],
   "source": [
    "#1. Create 52 cards without suits.\n",
    "ranks = np.array(['2','3','4','5','6','7','8','9','T','J','Q','K','A'])\n",
    "ranks = np.repeat(ranks, 4)\n",
    "\n",
    "#List for saving location of first ace\n",
    "first_ace_loc = []\n",
    "\n",
    "i = 0\n",
    "while i < 1000000:\n",
    "    #2. Randomly select 5 cards from 52\n",
    "    poker_hand = np.random.choice(ranks, size=5)\n",
    "    \n",
    "    #3. Check if the poker hand contains an ace. Returns bool array.\n",
    "    has_ace = np.isin(poker_hand,'A')\n",
    "    \n",
    "    #4. If any element in returned bool array is true, then find the location(s).\n",
    "    if np.any(has_ace) == True:\n",
    "        ace = np.where(has_ace == True)\n",
    "        #5. Append\n",
    "        first_ace_loc.append(np.ndarray.min(ace[0]) + 1)\n",
    "    else:\n",
    "        #5. Append (unconditional)\n",
    "        first_ace_loc.append(0)\n",
    "\n",
    "    i += 1"
   ]
  },
  {
   "cell_type": "markdown",
   "metadata": {},
   "source": [
    "## Results\n",
    "\n",
    "Calculate the probability of the first ace by when it was dealt, <i>conditional on an ace being dealt.</i>"
   ]
  },
  {
   "cell_type": "markdown",
   "metadata": {},
   "source": [
    "#### Conditional on Dealing an Ace"
   ]
  },
  {
   "cell_type": "code",
   "execution_count": 3,
   "metadata": {},
   "outputs": [],
   "source": [
    "first_ace_array = np.asarray(first_ace_loc)\n",
    "first_ace_array_cond = first_ace_array[np.where(first_ace_array != 0)]"
   ]
  },
  {
   "cell_type": "markdown",
   "metadata": {},
   "source": [
    "#### Count Instances of First Ace by Card\n",
    "\n",
    "We see from the resulting table that the probability decreases with each card dealt. The first ace appears in the first card dealt about 23% of the time, assuming an ace is dealt at all."
   ]
  },
  {
   "cell_type": "code",
   "execution_count": 4,
   "metadata": {},
   "outputs": [],
   "source": [
    "unique, counts = np.unique(first_ace_array_cond, return_counts=True)"
   ]
  },
  {
   "cell_type": "code",
   "execution_count": 5,
   "metadata": {},
   "outputs": [
    {
     "data": {
      "text/plain": [
       "array([[ 1.        ,  0.23328403],\n",
       "       [ 2.        ,  0.21623306],\n",
       "       [ 3.        ,  0.19858014],\n",
       "       [ 4.        ,  0.1832382 ],\n",
       "       [ 5.        ,  0.16866457]])"
      ]
     },
     "execution_count": 5,
     "metadata": {},
     "output_type": "execute_result"
    }
   ],
   "source": [
    "table = np.column_stack((unique, counts/len(first_ace_array_cond)))\n",
    "table"
   ]
  },
  {
   "cell_type": "markdown",
   "metadata": {},
   "source": [
    "#### Plot Results"
   ]
  },
  {
   "cell_type": "code",
   "execution_count": 6,
   "metadata": {},
   "outputs": [
    {
     "data": {
      "text/plain": [
       "<Container object of 5 artists>"
      ]
     },
     "execution_count": 6,
     "metadata": {},
     "output_type": "execute_result"
    },
    {
     "data": {
      "image/png": "[encoded data removed]",
      "text/plain": [
       "<matplotlib.figure.Figure at 0x23cd787d128>"
      ]
     },
     "metadata": {},
     "output_type": "display_data"
    }
   ],
   "source": [
    "plt.title(\"Probability; Conditional on Dealing an Ace\")\n",
    "plt.xlabel(\"Nth Card Dealt an Ace\")\n",
    "plt.ylabel(\"Probability\")\n",
    "plt.bar(unique, counts/len(first_ace_array_cond))"
   ]
  }
 ],
 "metadata": {
  "kernelspec": {
   "display_name": "Python 3",
   "language": "python",
   "name": "python3"
  },
  "language_info": {
   "codemirror_mode": {
    "name": "ipython",
    "version": 3
   },
   "file_extension": ".py",
   "mimetype": "text/x-python",
   "name": "python",
   "nbconvert_exporter": "python",
   "pygments_lexer": "ipython3",
   "version": "3.5.4"
  }
 },
 "nbformat": 4,
 "nbformat_minor": 2
}
