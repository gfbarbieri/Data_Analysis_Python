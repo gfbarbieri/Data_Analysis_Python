{
 "cells": [
  {
   "cell_type": "markdown",
   "metadata": {},
   "source": [
    "# Counting: Removing Repetitions"
   ]
  },
  {
   "cell_type": "markdown",
   "metadata": {},
   "source": [
    "This question comes from Professor David Morin's book, <a href=\"http://www.people.fas.harvard.edu/~djmorin/book.html\">Probability For the Enthusiastic Beginner</a>, Chapter 1, page 26.\n",
    "\n",
    "1. We know that the number of ordered sets of three people chosen from five people is $5*4*3 = 60$. Reproduce this results by starting with the naive answer of $5^3 = 125$ ordered sets where repetitions are allowed, and then subtracting off the number of triplets that have repeated people."
   ]
  },
  {
   "cell_type": "markdown",
   "metadata": {},
   "source": [
    "The naive answer comes from the formula $N^{k}$, where we want to select $k$ people from $N$ people, hence $5^3 = 125$. The answer without repetitions comes from the following formula: $$\\frac{N!}{(N-k)!} = \\frac{5!}{(5-3)!} = \\frac{5!}{2!} = 5 * 4 * 3 = 60$$. \n",
    "\n",
    "Using Python, we will count, search for, and remove the repetitions!"
   ]
  },
  {
   "cell_type": "markdown",
   "metadata": {},
   "source": [
    "Let's import the required libraries and create a list called <b>people</b> with five elements, each distinctly representing one of the five people."
   ]
  },
  {
   "cell_type": "code",
   "execution_count": 1,
   "metadata": {
    "collapsed": true
   },
   "outputs": [],
   "source": [
    "import itertools\n",
    "import pandas as pd\n",
    "\n",
    "people = ['P1', 'P2', 'P3', 'P4', 'P5']"
   ]
  },
  {
   "cell_type": "markdown",
   "metadata": {},
   "source": [
    "To get the naive answer of $5^3 = 125$ ordered sets of three people, we will use the <b>product()</b> function from the itertools library. We will store them in the list called <b>perm_w_rep</b>."
   ]
  },
  {
   "cell_type": "code",
   "execution_count": 2,
   "metadata": {},
   "outputs": [
    {
     "data": {
      "text/plain": [
       "125"
      ]
     },
     "execution_count": 2,
     "metadata": {},
     "output_type": "execute_result"
    }
   ],
   "source": [
    "perm_w_rep = list(itertools.product(people, repeat=3))\n",
    "len(perm_w_rep)"
   ]
  },
  {
   "cell_type": "markdown",
   "metadata": {},
   "source": [
    "If an arrangement contains a person (P1 - P5) more than once, then that arrangement is said to have a repetition. Before we search for and remove arrangements with repetitions, let's write out a few examples.\n",
    "\n",
    "The first type of arrangement with repetitions is when the same person is selected to fill all three spots. This can only occur one way for each person. Since there are five people, there are five arrangements with repetitions of this type of in our list <b>perm_w_rep</b>. All five are written out below."
   ]
  },
  {
   "cell_type": "code",
   "execution_count": 3,
   "metadata": {},
   "outputs": [
    {
     "name": "stdout",
     "output_type": "stream",
     "text": [
      "('P1', 'P1', 'P1') ('P2', 'P2', 'P2') ('P3', 'P3', 'P3') ('P4', 'P4', 'P4') ('P5', 'P5', 'P5')\n"
     ]
    }
   ],
   "source": [
    "print(perm_w_rep[0], perm_w_rep[31], perm_w_rep[62], perm_w_rep[93], perm_w_rep[124])"
   ]
  },
  {
   "cell_type": "markdown",
   "metadata": {},
   "source": [
    "The second type of arrangement with repetitions is when one person is selected twice, with a different person selected only once to fill the remaining spot. This type of arrangement can arise in three different ways for any two people. Below are the three different ways P1 can be selected twice and P2 selected once."
   ]
  },
  {
   "cell_type": "code",
   "execution_count": 4,
   "metadata": {},
   "outputs": [
    {
     "name": "stdout",
     "output_type": "stream",
     "text": [
      "('P1', 'P1', 'P2') ('P1', 'P2', 'P1') ('P2', 'P1', 'P1')\n"
     ]
    }
   ],
   "source": [
    "print(perm_w_rep[1], perm_w_rep[5], perm_w_rep[25])"
   ]
  },
  {
   "cell_type": "markdown",
   "metadata": {},
   "source": [
    "My first instinct to search the list <b>perm_w_rep</b> for arrangements with repetitions is to throw all the arrangements in a Pandas DataFrame. Each arrangement would be a row and each position in the arrangement would be the column value."
   ]
  },
  {
   "cell_type": "markdown",
   "metadata": {},
   "source": [
    "Create the DataFrame <b>df_perm_w_rep</b>, naming the columns after the position of the person in the arrangement."
   ]
  },
  {
   "cell_type": "code",
   "execution_count": 5,
   "metadata": {},
   "outputs": [
    {
     "data": {
      "text/html": [
       "<div>\n",
       "<style>\n",
       "    .dataframe thead tr:only-child th {\n",
       "        text-align: right;\n",
       "    }\n",
       "\n",
       "    .dataframe thead th {\n",
       "        text-align: left;\n",
       "    }\n",
       "\n",
       "    .dataframe tbody tr th {\n",
       "        vertical-align: top;\n",
       "    }\n",
       "</style>\n",
       "<table border=\"1\" class=\"dataframe\">\n",
       "  <thead>\n",
       "    <tr style=\"text-align: right;\">\n",
       "      <th></th>\n",
       "      <th>First</th>\n",
       "      <th>Second</th>\n",
       "      <th>Third</th>\n",
       "    </tr>\n",
       "  </thead>\n",
       "  <tbody>\n",
       "    <tr>\n",
       "      <th>0</th>\n",
       "      <td>P1</td>\n",
       "      <td>P1</td>\n",
       "      <td>P1</td>\n",
       "    </tr>\n",
       "    <tr>\n",
       "      <th>1</th>\n",
       "      <td>P1</td>\n",
       "      <td>P1</td>\n",
       "      <td>P2</td>\n",
       "    </tr>\n",
       "    <tr>\n",
       "      <th>2</th>\n",
       "      <td>P1</td>\n",
       "      <td>P1</td>\n",
       "      <td>P3</td>\n",
       "    </tr>\n",
       "    <tr>\n",
       "      <th>3</th>\n",
       "      <td>P1</td>\n",
       "      <td>P1</td>\n",
       "      <td>P4</td>\n",
       "    </tr>\n",
       "    <tr>\n",
       "      <th>4</th>\n",
       "      <td>P1</td>\n",
       "      <td>P1</td>\n",
       "      <td>P5</td>\n",
       "    </tr>\n",
       "  </tbody>\n",
       "</table>\n",
       "</div>"
      ],
      "text/plain": [
       "  First Second Third\n",
       "0    P1     P1    P1\n",
       "1    P1     P1    P2\n",
       "2    P1     P1    P3\n",
       "3    P1     P1    P4\n",
       "4    P1     P1    P5"
      ]
     },
     "execution_count": 5,
     "metadata": {},
     "output_type": "execute_result"
    }
   ],
   "source": [
    "df_perm_w_rep = pd.DataFrame(perm_w_rep, columns = ['First', 'Second', 'Third'])\n",
    "df_perm_w_rep.head()"
   ]
  },
  {
   "cell_type": "markdown",
   "metadata": {},
   "source": [
    "If the value of First equals the value of Second, on the same row, then that arrangement has repetitions. The same logic applies if the value of Second equals the value of Third or the value for First equals Third.\n",
    "\n",
    "We will use this logic to set a variable called <b>Repetitions</b> to either True or False. If any of the three positions (three columns) in the arrangement are equal, then that arrangement has a repeated person, setting the variable <b>Repetitions</b> to True."
   ]
  },
  {
   "cell_type": "code",
   "execution_count": 6,
   "metadata": {},
   "outputs": [
    {
     "data": {
      "text/html": [
       "<div>\n",
       "<style>\n",
       "    .dataframe thead tr:only-child th {\n",
       "        text-align: right;\n",
       "    }\n",
       "\n",
       "    .dataframe thead th {\n",
       "        text-align: left;\n",
       "    }\n",
       "\n",
       "    .dataframe tbody tr th {\n",
       "        vertical-align: top;\n",
       "    }\n",
       "</style>\n",
       "<table border=\"1\" class=\"dataframe\">\n",
       "  <thead>\n",
       "    <tr style=\"text-align: right;\">\n",
       "      <th></th>\n",
       "      <th>First</th>\n",
       "      <th>Second</th>\n",
       "      <th>Third</th>\n",
       "      <th>Repetitions</th>\n",
       "    </tr>\n",
       "  </thead>\n",
       "  <tbody>\n",
       "    <tr>\n",
       "      <th>0</th>\n",
       "      <td>P1</td>\n",
       "      <td>P1</td>\n",
       "      <td>P1</td>\n",
       "      <td>True</td>\n",
       "    </tr>\n",
       "    <tr>\n",
       "      <th>1</th>\n",
       "      <td>P1</td>\n",
       "      <td>P1</td>\n",
       "      <td>P2</td>\n",
       "      <td>True</td>\n",
       "    </tr>\n",
       "    <tr>\n",
       "      <th>2</th>\n",
       "      <td>P1</td>\n",
       "      <td>P1</td>\n",
       "      <td>P3</td>\n",
       "      <td>True</td>\n",
       "    </tr>\n",
       "    <tr>\n",
       "      <th>3</th>\n",
       "      <td>P1</td>\n",
       "      <td>P1</td>\n",
       "      <td>P4</td>\n",
       "      <td>True</td>\n",
       "    </tr>\n",
       "    <tr>\n",
       "      <th>4</th>\n",
       "      <td>P1</td>\n",
       "      <td>P1</td>\n",
       "      <td>P5</td>\n",
       "      <td>True</td>\n",
       "    </tr>\n",
       "  </tbody>\n",
       "</table>\n",
       "</div>"
      ],
      "text/plain": [
       "  First Second Third  Repetitions\n",
       "0    P1     P1    P1         True\n",
       "1    P1     P1    P2         True\n",
       "2    P1     P1    P3         True\n",
       "3    P1     P1    P4         True\n",
       "4    P1     P1    P5         True"
      ]
     },
     "execution_count": 6,
     "metadata": {},
     "output_type": "execute_result"
    }
   ],
   "source": [
    "df_perm_w_rep['Repetitions'] = ((df_perm_w_rep['First'] == df_perm_w_rep['Second']) | \n",
    "                                (df_perm_w_rep['First'] == df_perm_w_rep['Third']) | \n",
    "                                (df_perm_w_rep['Second'] == df_perm_w_rep['Third']))\n",
    "df_perm_w_rep.head()"
   ]
  },
  {
   "cell_type": "markdown",
   "metadata": {},
   "source": [
    "Counting the values of the variable <b>Repetitions</b> (either True or False) will tell us exactly how many arrangements have a repeated person. The results show that there are 65 arrangements with repetitions and 60 without."
   ]
  },
  {
   "cell_type": "code",
   "execution_count": 7,
   "metadata": {},
   "outputs": [
    {
     "data": {
      "text/plain": [
       "True     65\n",
       "False    60\n",
       "Name: Repetitions, dtype: int64"
      ]
     },
     "execution_count": 7,
     "metadata": {},
     "output_type": "execute_result"
    }
   ],
   "source": [
    "df_perm_w_rep['Repetitions'].value_counts()"
   ]
  },
  {
   "cell_type": "markdown",
   "metadata": {},
   "source": [
    "To remove the repetitions, we can create a new DataFrame <b>df_perm_wo_rep</b> with only rows where the variable <b>Repetitions</b> is equal to False. We then clean up the DataFrame by dropping the variable <b>Repetitions</b>."
   ]
  },
  {
   "cell_type": "code",
   "execution_count": 8,
   "metadata": {},
   "outputs": [],
   "source": [
    "df_perm_wo_rep = df_perm_w_rep[df_perm_w_rep['Repetitions'] == False].drop('Repetitions', axis=1)"
   ]
  },
  {
   "cell_type": "markdown",
   "metadata": {},
   "source": [
    "A count of the number of rows in our new DataFrame <b>df_perm_wo_rep</b> shows we have 60 arrangements remaining. This is what we would expect from the formula without repetitions."
   ]
  },
  {
   "cell_type": "code",
   "execution_count": 9,
   "metadata": {},
   "outputs": [
    {
     "data": {
      "text/plain": [
       "60"
      ]
     },
     "execution_count": 9,
     "metadata": {},
     "output_type": "execute_result"
    }
   ],
   "source": [
    "len(df_perm_wo_rep)"
   ]
  },
  {
   "cell_type": "markdown",
   "metadata": {},
   "source": [
    "Personally, I don't feel complete unless we leave our list in the way that we found it. Let's convert the DataFrame back to a list of tuples."
   ]
  },
  {
   "cell_type": "code",
   "execution_count": 10,
   "metadata": {},
   "outputs": [
    {
     "data": {
      "text/plain": [
       "60"
      ]
     },
     "execution_count": 10,
     "metadata": {},
     "output_type": "execute_result"
    }
   ],
   "source": [
    "perm_wo_rep = []\n",
    "for element in df_perm_wo_rep.to_records(index=False):\n",
    "    perm_wo_rep.append(tuple(element))\n",
    "\n",
    "len(perm_wo_rep)"
   ]
  }
 ],
 "metadata": {
  "kernelspec": {
   "display_name": "Python 3",
   "language": "python",
   "name": "python3"
  },
  "language_info": {
   "codemirror_mode": {
    "name": "ipython",
    "version": 3
   },
   "file_extension": ".py",
   "mimetype": "text/x-python",
   "name": "python",
   "nbconvert_exporter": "python",
   "pygments_lexer": "ipython3",
   "version": "3.5.3"
  }
 },
 "nbformat": 4,
 "nbformat_minor": 1
}
