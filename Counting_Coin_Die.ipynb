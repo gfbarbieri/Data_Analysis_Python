{
 "cells": [
  {
   "cell_type": "markdown",
   "metadata": {},
   "source": [
    "# Counting: Roll a Die, Flip a Coin"
   ]
  },
  {
   "cell_type": "markdown",
   "metadata": {},
   "source": [
    "This question comes from Professor David Morin's book, <a href=\"http://www.people.fas.harvard.edu/~djmorin/book.html\">Probability For the Enthusiastic Beginner</a>, Chapter 1, page 26.\n",
    "\n",
    "1. One person rolls two six-sided dice, and another person flips six two-sided coins. <b>Which setup has the larger number of possible outcomes</b>, assuming that the order matters?"
   ]
  },
  {
   "cell_type": "markdown",
   "metadata": {},
   "source": [
    "There are two situations presented in the problem:\n",
    "1. One person rolls two six-sided dice.\n",
    "2. One person flips six two-sided coins.\n",
    "\n",
    "An identical way to phrase the first situation is, one person rolls one six-sided die twice. The concept embedded in this statement is that we are dealing with identical trials (or repetition/replacement).\n",
    "\n",
    "To paraphrase Professor Morin, if we take a ball from a box and put it back, future drawings can show a repeat of the ball drawn previously. This is inherent in rolling dice because \"you don't remove the dots on a die after you roll it!\" (Page 7-8).\n",
    "\n",
    "Since repetitions are allowed and the problem states order matters, we are to use the following formula, where N represents the number of outcomes (6 on a die) and k represents the number of trials or rolls (2 in this case): $$N^{k} = 6^2 = 36$$"
   ]
  },
  {
   "cell_type": "markdown",
   "metadata": {},
   "source": [
    "A fun way to solve is problem is by brute force using the itertools library. We start by importing the itertools library and creating a list called <b>die</b>, which will represent our six-sided die. You could just as easily mimic a 20-sided die by creating a list with 1-20 instead of 1-6."
   ]
  },
  {
   "cell_type": "code",
   "execution_count": 1,
   "metadata": {},
   "outputs": [
    {
     "data": {
      "text/plain": [
       "['1', '2', '3', '4', '5', '6']"
      ]
     },
     "execution_count": 1,
     "metadata": {},
     "output_type": "execute_result"
    }
   ],
   "source": [
    "import itertools\n",
    "\n",
    "die = ['1','2','3','4','5','6']\n",
    "die"
   ]
  },
  {
   "cell_type": "markdown",
   "metadata": {},
   "source": [
    "If you prefer the statement \"rolling two six-sided die once\", then you can create all possible outcomes of rolling two identical die in the following matter.\n",
    "\n",
    "Using the <b>product()</b> function, we will perform a Cartesian product of the list <b>die</b> and itself. Each permutation will be stored in a list called <b>dice_permutations</b>."
   ]
  },
  {
   "cell_type": "code",
   "execution_count": 2,
   "metadata": {},
   "outputs": [],
   "source": [
    "dice_permutations = list(itertools.product(die, die))"
   ]
  },
  {
   "cell_type": "markdown",
   "metadata": {},
   "source": [
    "If you prefer the statement \"rolling one six-sided die twice\", then create all possible outcomes using the repeat option instead of explicitly stating the two lists."
   ]
  },
  {
   "cell_type": "code",
   "execution_count": 3,
   "metadata": {
    "collapsed": true
   },
   "outputs": [],
   "source": [
    "dice_permutations = list(itertools.product(die, repeat=2))"
   ]
  },
  {
   "cell_type": "markdown",
   "metadata": {},
   "source": [
    "Both return the same outcomes, as we can see from the following comparison."
   ]
  },
  {
   "cell_type": "code",
   "execution_count": 4,
   "metadata": {},
   "outputs": [
    {
     "data": {
      "text/plain": [
       "True"
      ]
     },
     "execution_count": 4,
     "metadata": {},
     "output_type": "execute_result"
    }
   ],
   "source": [
    "list(itertools.product(die, die)) == list(itertools.product(die, repeat=2))"
   ]
  },
  {
   "cell_type": "markdown",
   "metadata": {},
   "source": [
    "The power of the itertools library allows us write out all of the outcomes associated with rolling one six-sided die twice. In other words, we can print the elements of the list <b>dice_permutations</b>, where each element is one of the possible outcomes from rolling a die twice (or two dice once)."
   ]
  },
  {
   "cell_type": "code",
   "execution_count": 5,
   "metadata": {},
   "outputs": [
    {
     "data": {
      "text/plain": [
       "[('1', '1'),\n",
       " ('1', '2'),\n",
       " ('1', '3'),\n",
       " ('1', '4'),\n",
       " ('1', '5'),\n",
       " ('1', '6'),\n",
       " ('2', '1'),\n",
       " ('2', '2'),\n",
       " ('2', '3'),\n",
       " ('2', '4'),\n",
       " ('2', '5'),\n",
       " ('2', '6'),\n",
       " ('3', '1'),\n",
       " ('3', '2'),\n",
       " ('3', '3'),\n",
       " ('3', '4'),\n",
       " ('3', '5'),\n",
       " ('3', '6'),\n",
       " ('4', '1'),\n",
       " ('4', '2'),\n",
       " ('4', '3'),\n",
       " ('4', '4'),\n",
       " ('4', '5'),\n",
       " ('4', '6'),\n",
       " ('5', '1'),\n",
       " ('5', '2'),\n",
       " ('5', '3'),\n",
       " ('5', '4'),\n",
       " ('5', '5'),\n",
       " ('5', '6'),\n",
       " ('6', '1'),\n",
       " ('6', '2'),\n",
       " ('6', '3'),\n",
       " ('6', '4'),\n",
       " ('6', '5'),\n",
       " ('6', '6')]"
      ]
     },
     "execution_count": 5,
     "metadata": {},
     "output_type": "execute_result"
    }
   ],
   "source": [
    "dice_permutations"
   ]
  },
  {
   "cell_type": "markdown",
   "metadata": {},
   "source": [
    "By printing the length, we see that the list <b>dice_permutations</b> has 36 elements ($6^2$)."
   ]
  },
  {
   "cell_type": "code",
   "execution_count": 6,
   "metadata": {},
   "outputs": [
    {
     "data": {
      "text/plain": [
       "36"
      ]
     },
     "execution_count": 6,
     "metadata": {},
     "output_type": "execute_result"
    }
   ],
   "source": [
    "len(dice_permutations)"
   ]
  },
  {
   "cell_type": "markdown",
   "metadata": {},
   "source": [
    "The second situation involves one person flipping six two-sided coins, or equivalently, one person flipping one two-sided coin six times."
   ]
  },
  {
   "cell_type": "markdown",
   "metadata": {},
   "source": [
    "Let's create a list called <b>coin</b> which will have the two outcomes of flipping a coin: 'H' for heads and 'T' for tails."
   ]
  },
  {
   "cell_type": "code",
   "execution_count": 7,
   "metadata": {},
   "outputs": [
    {
     "data": {
      "text/plain": [
       "['H', 'T']"
      ]
     },
     "execution_count": 7,
     "metadata": {},
     "output_type": "execute_result"
    }
   ],
   "source": [
    "coin = ['H','T']\n",
    "coin"
   ]
  },
  {
   "cell_type": "markdown",
   "metadata": {},
   "source": [
    "If you prefer the concept of flipping six two-sided coins, then explicitly list all six coins in the <b>product()</b> function. The following line will create a list called <b>coin_permutations</b>, where each element will have one outcome from flipping six coins simultaneously."
   ]
  },
  {
   "cell_type": "code",
   "execution_count": 8,
   "metadata": {
    "collapsed": true
   },
   "outputs": [],
   "source": [
    "coin_permutations = list(itertools.product(coin, coin, coin, coin, coin, coin))"
   ]
  },
  {
   "cell_type": "markdown",
   "metadata": {},
   "source": [
    "If you prefer of flipping one two-sided coin six times, then using the repeat option will capture that conceptually."
   ]
  },
  {
   "cell_type": "code",
   "execution_count": 9,
   "metadata": {
    "collapsed": true
   },
   "outputs": [],
   "source": [
    "coin_permutations = list(itertools.product(coin, repeat=6))"
   ]
  },
  {
   "cell_type": "markdown",
   "metadata": {},
   "source": [
    "The two approaches are identical, as we can see from the comparison below."
   ]
  },
  {
   "cell_type": "code",
   "execution_count": 10,
   "metadata": {},
   "outputs": [
    {
     "data": {
      "text/plain": [
       "True"
      ]
     },
     "execution_count": 10,
     "metadata": {},
     "output_type": "execute_result"
    }
   ],
   "source": [
    "list(itertools.product(coin, coin, coin, coin, coin, coin)) == list(itertools.product(coin, repeat=6))"
   ]
  },
  {
   "cell_type": "markdown",
   "metadata": {},
   "source": [
    "We can write out our sample space from flipping six coins to see what it looks like."
   ]
  },
  {
   "cell_type": "code",
   "execution_count": 11,
   "metadata": {},
   "outputs": [
    {
     "data": {
      "text/plain": [
       "[('H', 'H', 'H', 'H', 'H', 'H'),\n",
       " ('H', 'H', 'H', 'H', 'H', 'T'),\n",
       " ('H', 'H', 'H', 'H', 'T', 'H'),\n",
       " ('H', 'H', 'H', 'H', 'T', 'T'),\n",
       " ('H', 'H', 'H', 'T', 'H', 'H'),\n",
       " ('H', 'H', 'H', 'T', 'H', 'T'),\n",
       " ('H', 'H', 'H', 'T', 'T', 'H'),\n",
       " ('H', 'H', 'H', 'T', 'T', 'T'),\n",
       " ('H', 'H', 'T', 'H', 'H', 'H'),\n",
       " ('H', 'H', 'T', 'H', 'H', 'T'),\n",
       " ('H', 'H', 'T', 'H', 'T', 'H'),\n",
       " ('H', 'H', 'T', 'H', 'T', 'T'),\n",
       " ('H', 'H', 'T', 'T', 'H', 'H'),\n",
       " ('H', 'H', 'T', 'T', 'H', 'T'),\n",
       " ('H', 'H', 'T', 'T', 'T', 'H'),\n",
       " ('H', 'H', 'T', 'T', 'T', 'T'),\n",
       " ('H', 'T', 'H', 'H', 'H', 'H'),\n",
       " ('H', 'T', 'H', 'H', 'H', 'T'),\n",
       " ('H', 'T', 'H', 'H', 'T', 'H'),\n",
       " ('H', 'T', 'H', 'H', 'T', 'T'),\n",
       " ('H', 'T', 'H', 'T', 'H', 'H'),\n",
       " ('H', 'T', 'H', 'T', 'H', 'T'),\n",
       " ('H', 'T', 'H', 'T', 'T', 'H'),\n",
       " ('H', 'T', 'H', 'T', 'T', 'T'),\n",
       " ('H', 'T', 'T', 'H', 'H', 'H'),\n",
       " ('H', 'T', 'T', 'H', 'H', 'T'),\n",
       " ('H', 'T', 'T', 'H', 'T', 'H'),\n",
       " ('H', 'T', 'T', 'H', 'T', 'T'),\n",
       " ('H', 'T', 'T', 'T', 'H', 'H'),\n",
       " ('H', 'T', 'T', 'T', 'H', 'T'),\n",
       " ('H', 'T', 'T', 'T', 'T', 'H'),\n",
       " ('H', 'T', 'T', 'T', 'T', 'T'),\n",
       " ('T', 'H', 'H', 'H', 'H', 'H'),\n",
       " ('T', 'H', 'H', 'H', 'H', 'T'),\n",
       " ('T', 'H', 'H', 'H', 'T', 'H'),\n",
       " ('T', 'H', 'H', 'H', 'T', 'T'),\n",
       " ('T', 'H', 'H', 'T', 'H', 'H'),\n",
       " ('T', 'H', 'H', 'T', 'H', 'T'),\n",
       " ('T', 'H', 'H', 'T', 'T', 'H'),\n",
       " ('T', 'H', 'H', 'T', 'T', 'T'),\n",
       " ('T', 'H', 'T', 'H', 'H', 'H'),\n",
       " ('T', 'H', 'T', 'H', 'H', 'T'),\n",
       " ('T', 'H', 'T', 'H', 'T', 'H'),\n",
       " ('T', 'H', 'T', 'H', 'T', 'T'),\n",
       " ('T', 'H', 'T', 'T', 'H', 'H'),\n",
       " ('T', 'H', 'T', 'T', 'H', 'T'),\n",
       " ('T', 'H', 'T', 'T', 'T', 'H'),\n",
       " ('T', 'H', 'T', 'T', 'T', 'T'),\n",
       " ('T', 'T', 'H', 'H', 'H', 'H'),\n",
       " ('T', 'T', 'H', 'H', 'H', 'T'),\n",
       " ('T', 'T', 'H', 'H', 'T', 'H'),\n",
       " ('T', 'T', 'H', 'H', 'T', 'T'),\n",
       " ('T', 'T', 'H', 'T', 'H', 'H'),\n",
       " ('T', 'T', 'H', 'T', 'H', 'T'),\n",
       " ('T', 'T', 'H', 'T', 'T', 'H'),\n",
       " ('T', 'T', 'H', 'T', 'T', 'T'),\n",
       " ('T', 'T', 'T', 'H', 'H', 'H'),\n",
       " ('T', 'T', 'T', 'H', 'H', 'T'),\n",
       " ('T', 'T', 'T', 'H', 'T', 'H'),\n",
       " ('T', 'T', 'T', 'H', 'T', 'T'),\n",
       " ('T', 'T', 'T', 'T', 'H', 'H'),\n",
       " ('T', 'T', 'T', 'T', 'H', 'T'),\n",
       " ('T', 'T', 'T', 'T', 'T', 'H'),\n",
       " ('T', 'T', 'T', 'T', 'T', 'T')]"
      ]
     },
     "execution_count": 11,
     "metadata": {},
     "output_type": "execute_result"
    }
   ],
   "source": [
    "coin_permutations"
   ]
  },
  {
   "cell_type": "markdown",
   "metadata": {},
   "source": [
    "Printing the length of the list tells us that there are 64 possible outcomes of flipping a two-sided coin six times."
   ]
  },
  {
   "cell_type": "code",
   "execution_count": 12,
   "metadata": {},
   "outputs": [
    {
     "data": {
      "text/plain": [
       "64"
      ]
     },
     "execution_count": 12,
     "metadata": {},
     "output_type": "execute_result"
    }
   ],
   "source": [
    "len(coin_permutations)"
   ]
  },
  {
   "cell_type": "markdown",
   "metadata": {
    "collapsed": true
   },
   "source": [
    "Since 64 is greater than 36 (or using our formula, $2^6$ is greater than $6^2$), flipping a two-sided coin six times produces more outcomes than rolling a six-sided die twice. Ah, the power of exponential growth!"
   ]
  }
 ],
 "metadata": {
  "kernelspec": {
   "display_name": "Python 3",
   "language": "python",
   "name": "python3"
  },
  "language_info": {
   "codemirror_mode": {
    "name": "ipython",
    "version": 3
   },
   "file_extension": ".py",
   "mimetype": "text/x-python",
   "name": "python",
   "nbconvert_exporter": "python",
   "pygments_lexer": "ipython3",
   "version": "3.5.3"
  }
 },
 "nbformat": 4,
 "nbformat_minor": 1
}
