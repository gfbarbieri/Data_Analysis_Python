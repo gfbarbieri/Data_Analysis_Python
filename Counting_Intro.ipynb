{
 "cells": [
  {
   "cell_type": "markdown",
   "metadata": {},
   "source": [
    "# An Introduction"
   ]
  },
  {
   "cell_type": "markdown",
   "metadata": {},
   "source": [
    "This introductory question comes directly from <a href=\"http://www.people.fas.harvard.edu/~djmorin/book.html\">Probability For the Enthusiastic Beginner</a>, Chapter 1, page 26.\n",
    "\n",
    "1. Six girls and four boys are to be assigned to ten seats in a row, with the stipulations that a girl sits in the third seat and a boy sits in the eighth seat. <b>How many arrangements are possible?</b>"
   ]
  },
  {
   "cell_type": "markdown",
   "metadata": {},
   "source": [
    "If we ignore the stipulations for a moment, then the question becomes “how many arrangements of 10 people (6 girls + 4 boys) are possible?\"\n",
    "\n",
    "Since we are dealing with people, we can safely assume no replacement, and in this particular case, order matters. According to Table 1.10 on page 22, the proper equation to use is:\n",
    "\n",
    "$$\\frac{N!}{(N-n)!} = \\frac{10!}{(10-10)!} = 10! = 3,628,800$$"
   ]
  },
  {
   "cell_type": "code",
   "execution_count": 1,
   "metadata": {},
   "outputs": [
    {
     "data": {
      "text/plain": [
       "3628800"
      ]
     },
     "execution_count": 1,
     "metadata": {},
     "output_type": "execute_result"
    }
   ],
   "source": [
    "import math\n",
    "\n",
    "math.factorial(10)"
   ]
  },
  {
   "cell_type": "markdown",
   "metadata": {},
   "source": [
    "The number of arrangements that satisfy the stipulations will be a subset of the 3,628,800 arrangements without the stipulations. All we need to do is find them!\n",
    "\n",
    "Let's create a list called <b>lst</b>, consisting of six girls and four boys. We will use the list to generate all possible arrangements."
   ]
  },
  {
   "cell_type": "code",
   "execution_count": 2,
   "metadata": {},
   "outputs": [
    {
     "data": {
      "text/plain": [
       "['G', 'G', 'G', 'G', 'G', 'G', 'B', 'B', 'B', 'B']"
      ]
     },
     "execution_count": 2,
     "metadata": {},
     "output_type": "execute_result"
    }
   ],
   "source": [
    "lst = ['G', 'G', 'G', 'G', 'G', 'G', 'B', 'B', 'B', 'B']\n",
    "lst"
   ]
  },
  {
   "cell_type": "markdown",
   "metadata": {},
   "source": [
    "The itertools library has a function called <b>permutations()</b>, which we will use to generate all of the ordered arrangements without stipulations. Let's store the arrangements in a list called <b>all_arrangements</b>. The length of our list confirms the expected number of arrangements."
   ]
  },
  {
   "cell_type": "code",
   "execution_count": 3,
   "metadata": {},
   "outputs": [
    {
     "data": {
      "text/plain": [
       "3628800"
      ]
     },
     "execution_count": 3,
     "metadata": {},
     "output_type": "execute_result"
    }
   ],
   "source": [
    "import itertools\n",
    "\n",
    "all_arrangements = list(itertools.permutations(lst, 10))\n",
    "\n",
    "len(all_arrangements)"
   ]
  },
  {
   "cell_type": "markdown",
   "metadata": {},
   "source": [
    "One arrangement of the six girls and four boys is:"
   ]
  },
  {
   "cell_type": "code",
   "execution_count": 4,
   "metadata": {},
   "outputs": [
    {
     "data": {
      "text/plain": [
       "('G', 'G', 'G', 'G', 'G', 'B', 'G', 'B', 'B', 'B')"
      ]
     },
     "execution_count": 4,
     "metadata": {},
     "output_type": "execute_result"
    }
   ],
   "source": [
    "all_arrangements[100]"
   ]
  },
  {
   "cell_type": "markdown",
   "metadata": {},
   "source": [
    "Another arrangement is:"
   ]
  },
  {
   "cell_type": "code",
   "execution_count": 5,
   "metadata": {},
   "outputs": [
    {
     "data": {
      "text/plain": [
       "('G', 'G', 'G', 'G', 'B', 'G', 'B', 'B', 'G', 'B')"
      ]
     },
     "execution_count": 5,
     "metadata": {},
     "output_type": "execute_result"
    }
   ],
   "source": [
    "all_arrangements[1000]"
   ]
  },
  {
   "cell_type": "markdown",
   "metadata": {},
   "source": [
    "Let's start with the stipulation that a boy sit in the eighth seat. We can count the number of arrangements that satisfy the stipulation by iterating over each of the elements in the list <b>all_arrangements</b> using a for-loop. \n",
    "\n",
    "At each iteration, we will use an if-statement to check whether the 8th element of the arrangement is a “B”. If the condition is true, then increment the counter <b>eighth_seat_boy</b> by one."
   ]
  },
  {
   "cell_type": "code",
   "execution_count": 6,
   "metadata": {},
   "outputs": [],
   "source": [
    "eighth_seat_boy = 0\n",
    "\n",
    "for arrangement in all_arrangements:\n",
    "    if arrangement[8] == \"B\":\n",
    "        eighth_seat_boy += 1"
   ]
  },
  {
   "cell_type": "markdown",
   "metadata": {},
   "source": [
    "Printing the counter shows that there are 1,451,520 arrangements with a boy in the eighth seat."
   ]
  },
  {
   "cell_type": "code",
   "execution_count": 7,
   "metadata": {},
   "outputs": [
    {
     "data": {
      "text/plain": [
       "1451520"
      ]
     },
     "execution_count": 7,
     "metadata": {},
     "output_type": "execute_result"
    }
   ],
   "source": [
    "eighth_seat_boy"
   ]
  },
  {
   "cell_type": "markdown",
   "metadata": {},
   "source": [
    "While a counter is more appropriate for this exercise, admittedly it was not my original approach. As a data analyst, it is common to want to perform another layer of analysis with the rows that meet the stipulations. That is, I usually need to create a separate dataset with only the rows that meet our conditions (more on that in later posts).\n",
    "\n",
    "While premature, let's show an example of this approach when counting the number of arrangements that meet the stipulation of a girl in the third seat. Instead of incrementing a counter, each arrangement that satisfies the stipulation will be appended to the list <b>third_seat_girl</b>."
   ]
  },
  {
   "cell_type": "code",
   "execution_count": 8,
   "metadata": {},
   "outputs": [],
   "source": [
    "third_seat_girl = []\n",
    "\n",
    "for arrangement in all_arrangements:\n",
    "    if arrangement[3] == \"G\":\n",
    "        third_seat_girl.append(arrangement)"
   ]
  },
  {
   "cell_type": "markdown",
   "metadata": {},
   "source": [
    "Printing the length of the list <b>third_seat_girl</b> tells us that there are 2,177,280 arrangements with a girl in the third seat."
   ]
  },
  {
   "cell_type": "code",
   "execution_count": 9,
   "metadata": {},
   "outputs": [
    {
     "data": {
      "text/plain": [
       "2177280"
      ]
     },
     "execution_count": 9,
     "metadata": {},
     "output_type": "execute_result"
    }
   ],
   "source": [
    "len(third_seat_girl)"
   ]
  },
  {
   "cell_type": "markdown",
   "metadata": {},
   "source": [
    "Lets complete the exercise by putting the two stipulations together and counting the number of arrangements."
   ]
  },
  {
   "cell_type": "code",
   "execution_count": 10,
   "metadata": {},
   "outputs": [],
   "source": [
    "both_stipulations = 0\n",
    "\n",
    "for arrangement in all_arrangements:\n",
    "    if arrangement[3] == \"G\" and arrangement[8] == \"B\":\n",
    "        both_stipulations += 1"
   ]
  },
  {
   "cell_type": "markdown",
   "metadata": {},
   "source": [
    "Printing the counter <b>both_stipulations</b> shows 967,680 arrangements with a girl in the third seat and a boy in the eighth seat. This is in fact the answer to the problem!"
   ]
  },
  {
   "cell_type": "code",
   "execution_count": 11,
   "metadata": {},
   "outputs": [
    {
     "data": {
      "text/plain": [
       "967680"
      ]
     },
     "execution_count": 11,
     "metadata": {},
     "output_type": "execute_result"
    }
   ],
   "source": [
    "both_stipulations"
   ]
  }
 ],
 "metadata": {
  "kernelspec": {
   "display_name": "Python 3",
   "language": "python",
   "name": "python3"
  },
  "language_info": {
   "codemirror_mode": {
    "name": "ipython",
    "version": 3
   },
   "file_extension": ".py",
   "mimetype": "text/x-python",
   "name": "python",
   "nbconvert_exporter": "python",
   "pygments_lexer": "ipython3",
   "version": "3.5.3"
  }
 },
 "nbformat": 4,
 "nbformat_minor": 1
}
